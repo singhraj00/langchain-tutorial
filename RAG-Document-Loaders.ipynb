{
  "nbformat": 4,
  "nbformat_minor": 0,
  "metadata": {
    "colab": {
      "provenance": [],
      "authorship_tag": "ABX9TyMzSpLGHfY4T/T6BDHZwNhz",
      "include_colab_link": true
    },
    "kernelspec": {
      "name": "python3",
      "display_name": "Python 3"
    },
    "language_info": {
      "name": "python"
    }
  },
  "cells": [
    {
      "cell_type": "markdown",
      "metadata": {
        "id": "view-in-github",
        "colab_type": "text"
      },
      "source": [
        "<a href=\"https://colab.research.google.com/github/singhraj00/langchain-tutorial/blob/main/RAG-Document-Loaders.ipynb\" target=\"_parent\"><img src=\"https://colab.research.google.com/assets/colab-badge.svg\" alt=\"Open In Colab\"/></a>"
      ]
    },
    {
      "cell_type": "markdown",
      "source": [
        "![](https://images.prismic.io/turing/6564bfb2531ac2845a2562f5_RAG_Process_38a4465948.jpg?auto=format,compress)"
      ],
      "metadata": {
        "id": "95f_zx_IlFF7"
      }
    },
    {
      "cell_type": "markdown",
      "source": [
        "## RAG is a technique that combines information retrieval with language generation, where a model retrieves relevant documents from a knowledge base and then uses them as context to generate accurate and grounded responses.\n",
        "\n",
        "\n",
        "## Benefits of Using RAG\n",
        "- Use of up-to-date information\n",
        "- Better Privacy\n",
        "- No limit of document size"
      ],
      "metadata": {
        "id": "bp6ZBloVlPTf"
      }
    },
    {
      "cell_type": "markdown",
      "source": [
        "## RAG Components\n",
        "- Document Loaders\n",
        "- Text Splitters\n",
        "- Vector Databases\n",
        "- Retrievers"
      ],
      "metadata": {
        "id": "soowqUwEmTCb"
      }
    },
    {
      "cell_type": "markdown",
      "source": [
        "## Document Loaders\n",
        "\n",
        "## **Document Loaders** are components in LangChain used to load data from various sources into a standarized format (usually as Document objects), which can then be used for chunking, embedding, retrieval, and generation.\n",
        "\n",
        "## For Example:\n",
        "\n",
        "``Document(page_content=\"this actual text content\",\n",
        "  metadata={\"source\":\"filename.pdf\",....})``"
      ],
      "metadata": {
        "id": "64VrZmUTmlPx"
      }
    },
    {
      "cell_type": "markdown",
      "source": [
        "# TextLoader\n",
        "\n",
        "## **TextLoader** is a simple and commonly used document loader in LangChain that reads plain text (.txt) files and convert them into LangChain Document objects.\n",
        "\n",
        "## Use Case\n",
        "- Ideal for loading chat logs, scraped text, transcripts, code snippets, or any plain text data into a LangChain pipeline.\n",
        "\n",
        "## Limitation\n",
        "- Works only with .txt files"
      ],
      "metadata": {
        "id": "iwyS0vI7oTPp"
      }
    },
    {
      "cell_type": "markdown",
      "source": [
        "## Code Example"
      ],
      "metadata": {
        "id": "cNPrxOT0o9CW"
      }
    },
    {
      "cell_type": "code",
      "execution_count": 2,
      "metadata": {
        "colab": {
          "base_uri": "https://localhost:8080/"
        },
        "collapsed": true,
        "id": "_8FhEy6NkwVS",
        "outputId": "280af060-beb7-499c-d4a0-ae8bd901c016"
      },
      "outputs": [
        {
          "output_type": "stream",
          "name": "stdout",
          "text": [
            "Requirement already satisfied: langchain in /usr/local/lib/python3.11/dist-packages (0.3.21)\n",
            "Requirement already satisfied: langchain_core in /usr/local/lib/python3.11/dist-packages (0.3.49)\n",
            "Collecting langchain-community\n",
            "  Downloading langchain_community-0.3.20-py3-none-any.whl.metadata (2.4 kB)\n",
            "Requirement already satisfied: langchain-text-splitters<1.0.0,>=0.3.7 in /usr/local/lib/python3.11/dist-packages (from langchain) (0.3.7)\n",
            "Requirement already satisfied: langsmith<0.4,>=0.1.17 in /usr/local/lib/python3.11/dist-packages (from langchain) (0.3.19)\n",
            "Requirement already satisfied: pydantic<3.0.0,>=2.7.4 in /usr/local/lib/python3.11/dist-packages (from langchain) (2.11.0)\n",
            "Requirement already satisfied: SQLAlchemy<3,>=1.4 in /usr/local/lib/python3.11/dist-packages (from langchain) (2.0.40)\n",
            "Requirement already satisfied: requests<3,>=2 in /usr/local/lib/python3.11/dist-packages (from langchain) (2.32.3)\n",
            "Requirement already satisfied: PyYAML>=5.3 in /usr/local/lib/python3.11/dist-packages (from langchain) (6.0.2)\n",
            "Requirement already satisfied: tenacity!=8.4.0,<10.0.0,>=8.1.0 in /usr/local/lib/python3.11/dist-packages (from langchain_core) (9.0.0)\n",
            "Requirement already satisfied: jsonpatch<2.0,>=1.33 in /usr/local/lib/python3.11/dist-packages (from langchain_core) (1.33)\n",
            "Requirement already satisfied: packaging<25,>=23.2 in /usr/local/lib/python3.11/dist-packages (from langchain_core) (24.2)\n",
            "Requirement already satisfied: typing-extensions>=4.7 in /usr/local/lib/python3.11/dist-packages (from langchain_core) (4.13.0)\n",
            "Requirement already satisfied: aiohttp<4.0.0,>=3.8.3 in /usr/local/lib/python3.11/dist-packages (from langchain-community) (3.11.14)\n",
            "Collecting dataclasses-json<0.7,>=0.5.7 (from langchain-community)\n",
            "  Downloading dataclasses_json-0.6.7-py3-none-any.whl.metadata (25 kB)\n",
            "Collecting pydantic-settings<3.0.0,>=2.4.0 (from langchain-community)\n",
            "  Downloading pydantic_settings-2.8.1-py3-none-any.whl.metadata (3.5 kB)\n",
            "Collecting httpx-sse<1.0.0,>=0.4.0 (from langchain-community)\n",
            "  Downloading httpx_sse-0.4.0-py3-none-any.whl.metadata (9.0 kB)\n",
            "Requirement already satisfied: numpy<3,>=1.26.2 in /usr/local/lib/python3.11/dist-packages (from langchain-community) (2.0.2)\n",
            "Requirement already satisfied: aiohappyeyeballs>=2.3.0 in /usr/local/lib/python3.11/dist-packages (from aiohttp<4.0.0,>=3.8.3->langchain-community) (2.6.1)\n",
            "Requirement already satisfied: aiosignal>=1.1.2 in /usr/local/lib/python3.11/dist-packages (from aiohttp<4.0.0,>=3.8.3->langchain-community) (1.3.2)\n",
            "Requirement already satisfied: attrs>=17.3.0 in /usr/local/lib/python3.11/dist-packages (from aiohttp<4.0.0,>=3.8.3->langchain-community) (25.3.0)\n",
            "Requirement already satisfied: frozenlist>=1.1.1 in /usr/local/lib/python3.11/dist-packages (from aiohttp<4.0.0,>=3.8.3->langchain-community) (1.5.0)\n",
            "Requirement already satisfied: multidict<7.0,>=4.5 in /usr/local/lib/python3.11/dist-packages (from aiohttp<4.0.0,>=3.8.3->langchain-community) (6.2.0)\n",
            "Requirement already satisfied: propcache>=0.2.0 in /usr/local/lib/python3.11/dist-packages (from aiohttp<4.0.0,>=3.8.3->langchain-community) (0.3.1)\n",
            "Requirement already satisfied: yarl<2.0,>=1.17.0 in /usr/local/lib/python3.11/dist-packages (from aiohttp<4.0.0,>=3.8.3->langchain-community) (1.18.3)\n",
            "Collecting marshmallow<4.0.0,>=3.18.0 (from dataclasses-json<0.7,>=0.5.7->langchain-community)\n",
            "  Downloading marshmallow-3.26.1-py3-none-any.whl.metadata (7.3 kB)\n",
            "Collecting typing-inspect<1,>=0.4.0 (from dataclasses-json<0.7,>=0.5.7->langchain-community)\n",
            "  Downloading typing_inspect-0.9.0-py3-none-any.whl.metadata (1.5 kB)\n",
            "Requirement already satisfied: jsonpointer>=1.9 in /usr/local/lib/python3.11/dist-packages (from jsonpatch<2.0,>=1.33->langchain_core) (3.0.0)\n",
            "Requirement already satisfied: httpx<1,>=0.23.0 in /usr/local/lib/python3.11/dist-packages (from langsmith<0.4,>=0.1.17->langchain) (0.28.1)\n",
            "Requirement already satisfied: orjson<4.0.0,>=3.9.14 in /usr/local/lib/python3.11/dist-packages (from langsmith<0.4,>=0.1.17->langchain) (3.10.16)\n",
            "Requirement already satisfied: requests-toolbelt<2.0.0,>=1.0.0 in /usr/local/lib/python3.11/dist-packages (from langsmith<0.4,>=0.1.17->langchain) (1.0.0)\n",
            "Requirement already satisfied: zstandard<0.24.0,>=0.23.0 in /usr/local/lib/python3.11/dist-packages (from langsmith<0.4,>=0.1.17->langchain) (0.23.0)\n",
            "Requirement already satisfied: annotated-types>=0.6.0 in /usr/local/lib/python3.11/dist-packages (from pydantic<3.0.0,>=2.7.4->langchain) (0.7.0)\n",
            "Requirement already satisfied: pydantic-core==2.33.0 in /usr/local/lib/python3.11/dist-packages (from pydantic<3.0.0,>=2.7.4->langchain) (2.33.0)\n",
            "Requirement already satisfied: typing-inspection>=0.4.0 in /usr/local/lib/python3.11/dist-packages (from pydantic<3.0.0,>=2.7.4->langchain) (0.4.0)\n",
            "Collecting python-dotenv>=0.21.0 (from pydantic-settings<3.0.0,>=2.4.0->langchain-community)\n",
            "  Downloading python_dotenv-1.1.0-py3-none-any.whl.metadata (24 kB)\n",
            "Requirement already satisfied: charset-normalizer<4,>=2 in /usr/local/lib/python3.11/dist-packages (from requests<3,>=2->langchain) (3.4.1)\n",
            "Requirement already satisfied: idna<4,>=2.5 in /usr/local/lib/python3.11/dist-packages (from requests<3,>=2->langchain) (3.10)\n",
            "Requirement already satisfied: urllib3<3,>=1.21.1 in /usr/local/lib/python3.11/dist-packages (from requests<3,>=2->langchain) (2.3.0)\n",
            "Requirement already satisfied: certifi>=2017.4.17 in /usr/local/lib/python3.11/dist-packages (from requests<3,>=2->langchain) (2025.1.31)\n",
            "Requirement already satisfied: greenlet>=1 in /usr/local/lib/python3.11/dist-packages (from SQLAlchemy<3,>=1.4->langchain) (3.1.1)\n",
            "Requirement already satisfied: anyio in /usr/local/lib/python3.11/dist-packages (from httpx<1,>=0.23.0->langsmith<0.4,>=0.1.17->langchain) (4.9.0)\n",
            "Requirement already satisfied: httpcore==1.* in /usr/local/lib/python3.11/dist-packages (from httpx<1,>=0.23.0->langsmith<0.4,>=0.1.17->langchain) (1.0.7)\n",
            "Requirement already satisfied: h11<0.15,>=0.13 in /usr/local/lib/python3.11/dist-packages (from httpcore==1.*->httpx<1,>=0.23.0->langsmith<0.4,>=0.1.17->langchain) (0.14.0)\n",
            "Collecting mypy-extensions>=0.3.0 (from typing-inspect<1,>=0.4.0->dataclasses-json<0.7,>=0.5.7->langchain-community)\n",
            "  Downloading mypy_extensions-1.0.0-py3-none-any.whl.metadata (1.1 kB)\n",
            "Requirement already satisfied: sniffio>=1.1 in /usr/local/lib/python3.11/dist-packages (from anyio->httpx<1,>=0.23.0->langsmith<0.4,>=0.1.17->langchain) (1.3.1)\n",
            "Downloading langchain_community-0.3.20-py3-none-any.whl (2.5 MB)\n",
            "\u001b[2K   \u001b[90m━━━━━━━━━━━━━━━━━━━━━━━━━━━━━━━━━━━━━━━━\u001b[0m \u001b[32m2.5/2.5 MB\u001b[0m \u001b[31m67.3 MB/s\u001b[0m eta \u001b[36m0:00:00\u001b[0m\n",
            "\u001b[?25hDownloading dataclasses_json-0.6.7-py3-none-any.whl (28 kB)\n",
            "Downloading httpx_sse-0.4.0-py3-none-any.whl (7.8 kB)\n",
            "Downloading pydantic_settings-2.8.1-py3-none-any.whl (30 kB)\n",
            "Downloading marshmallow-3.26.1-py3-none-any.whl (50 kB)\n",
            "\u001b[2K   \u001b[90m━━━━━━━━━━━━━━━━━━━━━━━━━━━━━━━━━━━━━━━━\u001b[0m \u001b[32m50.9/50.9 kB\u001b[0m \u001b[31m3.3 MB/s\u001b[0m eta \u001b[36m0:00:00\u001b[0m\n",
            "\u001b[?25hDownloading python_dotenv-1.1.0-py3-none-any.whl (20 kB)\n",
            "Downloading typing_inspect-0.9.0-py3-none-any.whl (8.8 kB)\n",
            "Downloading mypy_extensions-1.0.0-py3-none-any.whl (4.7 kB)\n",
            "Installing collected packages: python-dotenv, mypy-extensions, marshmallow, httpx-sse, typing-inspect, pydantic-settings, dataclasses-json, langchain-community\n",
            "Successfully installed dataclasses-json-0.6.7 httpx-sse-0.4.0 langchain-community-0.3.20 marshmallow-3.26.1 mypy-extensions-1.0.0 pydantic-settings-2.8.1 python-dotenv-1.1.0 typing-inspect-0.9.0\n"
          ]
        }
      ],
      "source": [
        "!pip install langchain langchain_core langchain-community"
      ]
    },
    {
      "cell_type": "code",
      "source": [
        "from langchain_community.document_loaders import TextLoader\n",
        "\n",
        "loader = TextLoader(\"/content/ipl.txt\",encoding='utf-8')\n",
        "\n",
        "document = loader.load()\n",
        "\n",
        "print(document)"
      ],
      "metadata": {
        "colab": {
          "base_uri": "https://localhost:8080/"
        },
        "id": "ZGDh01kcpBzE",
        "outputId": "495fb13f-5a3f-4901-9499-e1c9fa843922"
      },
      "execution_count": 3,
      "outputs": [
        {
          "output_type": "stream",
          "name": "stdout",
          "text": [
            "[Document(metadata={'source': '/content/ipl.txt'}, page_content=\"**Indian Premier League (IPL) - History, Achievements, and Records**\\n\\n### **Introduction to IPL**\\nThe Indian Premier League (IPL) is a professional Twenty20 cricket league established by the Board of Control for Cricket in India (BCCI) in 2008. It is one of the most popular and lucrative cricket leagues globally, attracting top players from around the world. The IPL follows a franchise-based model, where teams represent different cities in India.\\n\\n### **History and Evolution**\\nThe first season of the IPL was played in 2008, with Rajasthan Royals emerging as the inaugural champions. Over the years, the league has grown exponentially in terms of viewership, sponsorship, and global appeal. The IPL introduced the concept of player auctions, franchise ownership, and a mix of international and domestic talent, revolutionizing cricket.\\n\\nSome of the key milestones in IPL history include:\\n- Introduction of the Decision Review System (DRS) in 2018.\\n- Expansion of the league with new teams in different seasons (e.g., Gujarat Titans and Lucknow Super Giants in 2022).\\n- Increased broadcasting and digital viewership with platforms like Hotstar and JioCinema.\\n\\n### **Achievements and Notable Moments**\\n- **Most Successful Teams**: Mumbai Indians (MI) and Chennai Super Kings (CSK) are the most successful franchises, each winning multiple IPL titles.\\n- **First Hat-Trick**: Lakshmipathy Balaji took the first-ever hat-trick in IPL history in 2008.\\n- **Highest Individual Score**: Chris Gayle scored 175* runs off 66 balls for Royal Challengers Bangalore (RCB) in 2013, the highest individual score in IPL history.\\n- **Fastest Century**: Chris Gayle holds the record for the fastest century, reaching 100 in just 30 balls.\\n- **Most Wickets**: Lasith Malinga and Dwayne Bravo have been among the leading wicket-takers in IPL history.\\n- **Youngest Captain to Win IPL**: Rohit Sharma led Mumbai Indians to victory in 2013 at the age of 26.\\n\\n### **Records and Statistics**\\n- **Most Runs**: Virat Kohli holds the record for the most runs scored in IPL history.\\n- **Most Sixes**: Chris Gayle has hit the most sixes in IPL history, making him one of the most feared batsmen.\\n- **Most Catches**: Suresh Raina has taken the most catches as a fielder in IPL.\\n- **Highest Team Total**: RCB holds the record for the highest team total, scoring 263/5 in 2013.\\n- **Lowest Team Total**: RCB also holds the unwanted record of the lowest total, getting bowled out for just 49 runs in 2017.\\n\\n### **Impact of IPL on Cricket**\\nThe IPL has transformed cricket in multiple ways:\\n- **Financial Growth**: Players earn significant salaries through auctions and endorsements.\\n- **Talent Development**: Many young Indian cricketers have been discovered through IPL, later representing the national team.\\n- **Global Popularity**: The league attracts international stars and has increased the popularity of T20 cricket worldwide.\\n- **Innovations in Cricket**: Strategies such as power-hitting, aggressive fielding, and innovative captaincy have evolved due to IPL's influence.\\n\\n### **Conclusion**\\nThe IPL continues to grow with every passing season, setting new benchmarks in cricket and entertainment. It has become more than just a cricket league—it is a festival celebrated by millions of fans worldwide. With continuous innovation, new records, and thrilling matches, IPL remains one of the most exciting sporting events globally.\\n\\n\")]\n"
          ]
        }
      ]
    },
    {
      "cell_type": "code",
      "source": [
        "print(type(document))"
      ],
      "metadata": {
        "colab": {
          "base_uri": "https://localhost:8080/"
        },
        "id": "B7XOKVw8qsnZ",
        "outputId": "9ba7a467-7bc0-4baa-9309-0f034a2472ec"
      },
      "execution_count": 4,
      "outputs": [
        {
          "output_type": "stream",
          "name": "stdout",
          "text": [
            "<class 'list'>\n"
          ]
        }
      ]
    },
    {
      "cell_type": "code",
      "source": [
        "print(len(document))"
      ],
      "metadata": {
        "colab": {
          "base_uri": "https://localhost:8080/"
        },
        "id": "Fox3DFGgq4Nf",
        "outputId": "a65220b6-e621-4dd8-d01f-65e2066a0f7f"
      },
      "execution_count": 5,
      "outputs": [
        {
          "output_type": "stream",
          "name": "stdout",
          "text": [
            "1\n"
          ]
        }
      ]
    },
    {
      "cell_type": "code",
      "source": [
        "print(document[0])"
      ],
      "metadata": {
        "colab": {
          "base_uri": "https://localhost:8080/"
        },
        "id": "rvlYknjxrF08",
        "outputId": "277e544f-f8fb-458b-e51d-0a76e2ca8608"
      },
      "execution_count": 6,
      "outputs": [
        {
          "output_type": "stream",
          "name": "stdout",
          "text": [
            "page_content='**Indian Premier League (IPL) - History, Achievements, and Records**\n",
            "\n",
            "### **Introduction to IPL**\n",
            "The Indian Premier League (IPL) is a professional Twenty20 cricket league established by the Board of Control for Cricket in India (BCCI) in 2008. It is one of the most popular and lucrative cricket leagues globally, attracting top players from around the world. The IPL follows a franchise-based model, where teams represent different cities in India.\n",
            "\n",
            "### **History and Evolution**\n",
            "The first season of the IPL was played in 2008, with Rajasthan Royals emerging as the inaugural champions. Over the years, the league has grown exponentially in terms of viewership, sponsorship, and global appeal. The IPL introduced the concept of player auctions, franchise ownership, and a mix of international and domestic talent, revolutionizing cricket.\n",
            "\n",
            "Some of the key milestones in IPL history include:\n",
            "- Introduction of the Decision Review System (DRS) in 2018.\n",
            "- Expansion of the league with new teams in different seasons (e.g., Gujarat Titans and Lucknow Super Giants in 2022).\n",
            "- Increased broadcasting and digital viewership with platforms like Hotstar and JioCinema.\n",
            "\n",
            "### **Achievements and Notable Moments**\n",
            "- **Most Successful Teams**: Mumbai Indians (MI) and Chennai Super Kings (CSK) are the most successful franchises, each winning multiple IPL titles.\n",
            "- **First Hat-Trick**: Lakshmipathy Balaji took the first-ever hat-trick in IPL history in 2008.\n",
            "- **Highest Individual Score**: Chris Gayle scored 175* runs off 66 balls for Royal Challengers Bangalore (RCB) in 2013, the highest individual score in IPL history.\n",
            "- **Fastest Century**: Chris Gayle holds the record for the fastest century, reaching 100 in just 30 balls.\n",
            "- **Most Wickets**: Lasith Malinga and Dwayne Bravo have been among the leading wicket-takers in IPL history.\n",
            "- **Youngest Captain to Win IPL**: Rohit Sharma led Mumbai Indians to victory in 2013 at the age of 26.\n",
            "\n",
            "### **Records and Statistics**\n",
            "- **Most Runs**: Virat Kohli holds the record for the most runs scored in IPL history.\n",
            "- **Most Sixes**: Chris Gayle has hit the most sixes in IPL history, making him one of the most feared batsmen.\n",
            "- **Most Catches**: Suresh Raina has taken the most catches as a fielder in IPL.\n",
            "- **Highest Team Total**: RCB holds the record for the highest team total, scoring 263/5 in 2013.\n",
            "- **Lowest Team Total**: RCB also holds the unwanted record of the lowest total, getting bowled out for just 49 runs in 2017.\n",
            "\n",
            "### **Impact of IPL on Cricket**\n",
            "The IPL has transformed cricket in multiple ways:\n",
            "- **Financial Growth**: Players earn significant salaries through auctions and endorsements.\n",
            "- **Talent Development**: Many young Indian cricketers have been discovered through IPL, later representing the national team.\n",
            "- **Global Popularity**: The league attracts international stars and has increased the popularity of T20 cricket worldwide.\n",
            "- **Innovations in Cricket**: Strategies such as power-hitting, aggressive fielding, and innovative captaincy have evolved due to IPL's influence.\n",
            "\n",
            "### **Conclusion**\n",
            "The IPL continues to grow with every passing season, setting new benchmarks in cricket and entertainment. It has become more than just a cricket league—it is a festival celebrated by millions of fans worldwide. With continuous innovation, new records, and thrilling matches, IPL remains one of the most exciting sporting events globally.\n",
            "\n",
            "' metadata={'source': '/content/ipl.txt'}\n"
          ]
        }
      ]
    },
    {
      "cell_type": "code",
      "source": [
        "print(type(document[0]))"
      ],
      "metadata": {
        "colab": {
          "base_uri": "https://localhost:8080/"
        },
        "id": "Yq_R2rnjrmC0",
        "outputId": "d0277ab2-db84-4194-d480-012e14b6d50f"
      },
      "execution_count": 11,
      "outputs": [
        {
          "output_type": "stream",
          "name": "stdout",
          "text": [
            "<class 'langchain_core.documents.base.Document'>\n"
          ]
        }
      ]
    },
    {
      "cell_type": "code",
      "source": [
        "print(document[0].page_content)"
      ],
      "metadata": {
        "colab": {
          "base_uri": "https://localhost:8080/"
        },
        "id": "mMGJWQQ5rHi_",
        "outputId": "9ab64959-314a-4ffd-b482-5d127bf4a7dd"
      },
      "execution_count": 9,
      "outputs": [
        {
          "output_type": "stream",
          "name": "stdout",
          "text": [
            "**Indian Premier League (IPL) - History, Achievements, and Records**\n",
            "\n",
            "### **Introduction to IPL**\n",
            "The Indian Premier League (IPL) is a professional Twenty20 cricket league established by the Board of Control for Cricket in India (BCCI) in 2008. It is one of the most popular and lucrative cricket leagues globally, attracting top players from around the world. The IPL follows a franchise-based model, where teams represent different cities in India.\n",
            "\n",
            "### **History and Evolution**\n",
            "The first season of the IPL was played in 2008, with Rajasthan Royals emerging as the inaugural champions. Over the years, the league has grown exponentially in terms of viewership, sponsorship, and global appeal. The IPL introduced the concept of player auctions, franchise ownership, and a mix of international and domestic talent, revolutionizing cricket.\n",
            "\n",
            "Some of the key milestones in IPL history include:\n",
            "- Introduction of the Decision Review System (DRS) in 2018.\n",
            "- Expansion of the league with new teams in different seasons (e.g., Gujarat Titans and Lucknow Super Giants in 2022).\n",
            "- Increased broadcasting and digital viewership with platforms like Hotstar and JioCinema.\n",
            "\n",
            "### **Achievements and Notable Moments**\n",
            "- **Most Successful Teams**: Mumbai Indians (MI) and Chennai Super Kings (CSK) are the most successful franchises, each winning multiple IPL titles.\n",
            "- **First Hat-Trick**: Lakshmipathy Balaji took the first-ever hat-trick in IPL history in 2008.\n",
            "- **Highest Individual Score**: Chris Gayle scored 175* runs off 66 balls for Royal Challengers Bangalore (RCB) in 2013, the highest individual score in IPL history.\n",
            "- **Fastest Century**: Chris Gayle holds the record for the fastest century, reaching 100 in just 30 balls.\n",
            "- **Most Wickets**: Lasith Malinga and Dwayne Bravo have been among the leading wicket-takers in IPL history.\n",
            "- **Youngest Captain to Win IPL**: Rohit Sharma led Mumbai Indians to victory in 2013 at the age of 26.\n",
            "\n",
            "### **Records and Statistics**\n",
            "- **Most Runs**: Virat Kohli holds the record for the most runs scored in IPL history.\n",
            "- **Most Sixes**: Chris Gayle has hit the most sixes in IPL history, making him one of the most feared batsmen.\n",
            "- **Most Catches**: Suresh Raina has taken the most catches as a fielder in IPL.\n",
            "- **Highest Team Total**: RCB holds the record for the highest team total, scoring 263/5 in 2013.\n",
            "- **Lowest Team Total**: RCB also holds the unwanted record of the lowest total, getting bowled out for just 49 runs in 2017.\n",
            "\n",
            "### **Impact of IPL on Cricket**\n",
            "The IPL has transformed cricket in multiple ways:\n",
            "- **Financial Growth**: Players earn significant salaries through auctions and endorsements.\n",
            "- **Talent Development**: Many young Indian cricketers have been discovered through IPL, later representing the national team.\n",
            "- **Global Popularity**: The league attracts international stars and has increased the popularity of T20 cricket worldwide.\n",
            "- **Innovations in Cricket**: Strategies such as power-hitting, aggressive fielding, and innovative captaincy have evolved due to IPL's influence.\n",
            "\n",
            "### **Conclusion**\n",
            "The IPL continues to grow with every passing season, setting new benchmarks in cricket and entertainment. It has become more than just a cricket league—it is a festival celebrated by millions of fans worldwide. With continuous innovation, new records, and thrilling matches, IPL remains one of the most exciting sporting events globally.\n",
            "\n",
            "\n",
            "{'source': '/content/ipl.txt'}\n"
          ]
        }
      ]
    },
    {
      "cell_type": "code",
      "source": [
        "print(document[0].metadata)"
      ],
      "metadata": {
        "colab": {
          "base_uri": "https://localhost:8080/"
        },
        "id": "HBY86fF_rSKp",
        "outputId": "d829de69-4434-47c9-8e6b-3dc55b215bd4"
      },
      "execution_count": 10,
      "outputs": [
        {
          "output_type": "stream",
          "name": "stdout",
          "text": [
            "{'source': '/content/ipl.txt'}\n"
          ]
        }
      ]
    },
    {
      "cell_type": "markdown",
      "source": [
        "## Full Code With LLM Integration"
      ],
      "metadata": {
        "id": "62_4Y4hosF4X"
      }
    },
    {
      "cell_type": "code",
      "source": [
        "!pip install langchain_groq"
      ],
      "metadata": {
        "colab": {
          "base_uri": "https://localhost:8080/"
        },
        "id": "wpOhmCSKsT38",
        "outputId": "17458ade-50a0-4ffe-e68c-fa2d08e37902"
      },
      "execution_count": 12,
      "outputs": [
        {
          "output_type": "stream",
          "name": "stdout",
          "text": [
            "Collecting langchain_groq\n",
            "  Downloading langchain_groq-0.3.2-py3-none-any.whl.metadata (2.6 kB)\n",
            "Requirement already satisfied: langchain-core<1.0.0,>=0.3.49 in /usr/local/lib/python3.11/dist-packages (from langchain_groq) (0.3.49)\n",
            "Collecting groq<1,>=0.4.1 (from langchain_groq)\n",
            "  Downloading groq-0.22.0-py3-none-any.whl.metadata (15 kB)\n",
            "Requirement already satisfied: anyio<5,>=3.5.0 in /usr/local/lib/python3.11/dist-packages (from groq<1,>=0.4.1->langchain_groq) (4.9.0)\n",
            "Requirement already satisfied: distro<2,>=1.7.0 in /usr/local/lib/python3.11/dist-packages (from groq<1,>=0.4.1->langchain_groq) (1.9.0)\n",
            "Requirement already satisfied: httpx<1,>=0.23.0 in /usr/local/lib/python3.11/dist-packages (from groq<1,>=0.4.1->langchain_groq) (0.28.1)\n",
            "Requirement already satisfied: pydantic<3,>=1.9.0 in /usr/local/lib/python3.11/dist-packages (from groq<1,>=0.4.1->langchain_groq) (2.11.0)\n",
            "Requirement already satisfied: sniffio in /usr/local/lib/python3.11/dist-packages (from groq<1,>=0.4.1->langchain_groq) (1.3.1)\n",
            "Requirement already satisfied: typing-extensions<5,>=4.10 in /usr/local/lib/python3.11/dist-packages (from groq<1,>=0.4.1->langchain_groq) (4.13.0)\n",
            "Requirement already satisfied: langsmith<0.4,>=0.1.125 in /usr/local/lib/python3.11/dist-packages (from langchain-core<1.0.0,>=0.3.49->langchain_groq) (0.3.19)\n",
            "Requirement already satisfied: tenacity!=8.4.0,<10.0.0,>=8.1.0 in /usr/local/lib/python3.11/dist-packages (from langchain-core<1.0.0,>=0.3.49->langchain_groq) (9.0.0)\n",
            "Requirement already satisfied: jsonpatch<2.0,>=1.33 in /usr/local/lib/python3.11/dist-packages (from langchain-core<1.0.0,>=0.3.49->langchain_groq) (1.33)\n",
            "Requirement already satisfied: PyYAML>=5.3 in /usr/local/lib/python3.11/dist-packages (from langchain-core<1.0.0,>=0.3.49->langchain_groq) (6.0.2)\n",
            "Requirement already satisfied: packaging<25,>=23.2 in /usr/local/lib/python3.11/dist-packages (from langchain-core<1.0.0,>=0.3.49->langchain_groq) (24.2)\n",
            "Requirement already satisfied: idna>=2.8 in /usr/local/lib/python3.11/dist-packages (from anyio<5,>=3.5.0->groq<1,>=0.4.1->langchain_groq) (3.10)\n",
            "Requirement already satisfied: certifi in /usr/local/lib/python3.11/dist-packages (from httpx<1,>=0.23.0->groq<1,>=0.4.1->langchain_groq) (2025.1.31)\n",
            "Requirement already satisfied: httpcore==1.* in /usr/local/lib/python3.11/dist-packages (from httpx<1,>=0.23.0->groq<1,>=0.4.1->langchain_groq) (1.0.7)\n",
            "Requirement already satisfied: h11<0.15,>=0.13 in /usr/local/lib/python3.11/dist-packages (from httpcore==1.*->httpx<1,>=0.23.0->groq<1,>=0.4.1->langchain_groq) (0.14.0)\n",
            "Requirement already satisfied: jsonpointer>=1.9 in /usr/local/lib/python3.11/dist-packages (from jsonpatch<2.0,>=1.33->langchain-core<1.0.0,>=0.3.49->langchain_groq) (3.0.0)\n",
            "Requirement already satisfied: orjson<4.0.0,>=3.9.14 in /usr/local/lib/python3.11/dist-packages (from langsmith<0.4,>=0.1.125->langchain-core<1.0.0,>=0.3.49->langchain_groq) (3.10.16)\n",
            "Requirement already satisfied: requests<3,>=2 in /usr/local/lib/python3.11/dist-packages (from langsmith<0.4,>=0.1.125->langchain-core<1.0.0,>=0.3.49->langchain_groq) (2.32.3)\n",
            "Requirement already satisfied: requests-toolbelt<2.0.0,>=1.0.0 in /usr/local/lib/python3.11/dist-packages (from langsmith<0.4,>=0.1.125->langchain-core<1.0.0,>=0.3.49->langchain_groq) (1.0.0)\n",
            "Requirement already satisfied: zstandard<0.24.0,>=0.23.0 in /usr/local/lib/python3.11/dist-packages (from langsmith<0.4,>=0.1.125->langchain-core<1.0.0,>=0.3.49->langchain_groq) (0.23.0)\n",
            "Requirement already satisfied: annotated-types>=0.6.0 in /usr/local/lib/python3.11/dist-packages (from pydantic<3,>=1.9.0->groq<1,>=0.4.1->langchain_groq) (0.7.0)\n",
            "Requirement already satisfied: pydantic-core==2.33.0 in /usr/local/lib/python3.11/dist-packages (from pydantic<3,>=1.9.0->groq<1,>=0.4.1->langchain_groq) (2.33.0)\n",
            "Requirement already satisfied: typing-inspection>=0.4.0 in /usr/local/lib/python3.11/dist-packages (from pydantic<3,>=1.9.0->groq<1,>=0.4.1->langchain_groq) (0.4.0)\n",
            "Requirement already satisfied: charset-normalizer<4,>=2 in /usr/local/lib/python3.11/dist-packages (from requests<3,>=2->langsmith<0.4,>=0.1.125->langchain-core<1.0.0,>=0.3.49->langchain_groq) (3.4.1)\n",
            "Requirement already satisfied: urllib3<3,>=1.21.1 in /usr/local/lib/python3.11/dist-packages (from requests<3,>=2->langsmith<0.4,>=0.1.125->langchain-core<1.0.0,>=0.3.49->langchain_groq) (2.3.0)\n",
            "Downloading langchain_groq-0.3.2-py3-none-any.whl (15 kB)\n",
            "Downloading groq-0.22.0-py3-none-any.whl (126 kB)\n",
            "\u001b[2K   \u001b[90m━━━━━━━━━━━━━━━━━━━━━━━━━━━━━━━━━━━━━━━━\u001b[0m \u001b[32m126.7/126.7 kB\u001b[0m \u001b[31m7.8 MB/s\u001b[0m eta \u001b[36m0:00:00\u001b[0m\n",
            "\u001b[?25hInstalling collected packages: groq, langchain_groq\n",
            "Successfully installed groq-0.22.0 langchain_groq-0.3.2\n"
          ]
        }
      ]
    },
    {
      "cell_type": "code",
      "source": [
        "from langchain_community.document_loaders import TextLoader\n",
        "from langchain_groq import ChatGroq\n",
        "from langchain_core.prompt import PromptTemplate\n",
        "from langchain_core.output_parsers import StrOutputParser\n",
        "from google.colab import userdata\n",
        "\n",
        "API_KEY = userdata.get('GROQ_API_KEY')\n",
        "\n",
        "## load data\n",
        "\n",
        "loader = TextLoader(\"/content/ipl.txt\",encoding='utf-8')\n",
        "\n",
        "document = loader.load()\n",
        "\n",
        "llm = ChatGroq(model_name=\"llama-3.3-70b-versatile\",api_key=API_KEY,temperature=0)\n",
        "\n",
        "prompt = PromptTemplate(template=\"summarize this documents first \\n {document} and after tell me what's most successfull team in ipl inside document?\",\n",
        "                        input_variables=[\"document\"]\n",
        "                        )\n",
        "\n",
        "parser = StrOutputParser()\n",
        "\n",
        "chain = prompt | llm | parser\n",
        "\n",
        "result = chain.invoke({\"document\":document[0].page_content})\n",
        "\n",
        "print(result)"
      ],
      "metadata": {
        "colab": {
          "base_uri": "https://localhost:8080/"
        },
        "id": "AHD0yVHHrckt",
        "outputId": "71eae05a-db05-4e15-b0ec-03cee3ea32f5"
      },
      "execution_count": 16,
      "outputs": [
        {
          "output_type": "stream",
          "name": "stdout",
          "text": [
            "**Summary of the Document:**\n",
            "The document discusses the Indian Premier League (IPL), a professional Twenty20 cricket league established in 2008. It covers the history, evolution, achievements, and records of the IPL, as well as its impact on cricket. The league has grown exponentially in terms of viewership, sponsorship, and global appeal, and has introduced innovative concepts such as player auctions and franchise ownership. The document also highlights notable moments, records, and statistics in IPL history, including the most successful teams, highest individual scores, and fastest centuries.\n",
            "\n",
            "**Most Successful Team in IPL:**\n",
            "According to the document, the most successful teams in the IPL are:\n",
            "1. **Mumbai Indians (MI)**\n",
            "2. **Chennai Super Kings (CSK)**\n",
            "Both teams have won multiple IPL titles, making them the most successful franchises in the league.\n"
          ]
        }
      ]
    },
    {
      "cell_type": "markdown",
      "source": [
        "# PyPDFLoader\n",
        "\n",
        "## **PyPDFLOader** is a document loader in LangChain used to load content from PDF file and convert each page into a document object.\n",
        "\n",
        "## For Example\n",
        "\n",
        "``[\n",
        "  Document(page_content=\"text from page 1\", metadata={\"page\":1,\"source\":\"file.pdf\",....}),\n",
        "  Document(page_content=\"text from page 2\", metadata={\"page\":2,\"source\":\"file.pdf\",....}),\n",
        "  .........\n",
        "]``"
      ],
      "metadata": {
        "id": "brKhLH6Uuyfy"
      }
    },
    {
      "cell_type": "markdown",
      "source": [
        "## Limitation\n",
        "- It uses the PyPDF library under the hood - not great wiuth scanned pdf or complex layouts."
      ],
      "metadata": {
        "id": "PFZOH96tvhyz"
      }
    },
    {
      "cell_type": "markdown",
      "source": [
        "## Code Example"
      ],
      "metadata": {
        "id": "MeovZhSEvqzq"
      }
    },
    {
      "cell_type": "code",
      "source": [
        "!pip install PyPDF"
      ],
      "metadata": {
        "colab": {
          "base_uri": "https://localhost:8080/"
        },
        "id": "ZyEBLwx7xMTf",
        "outputId": "ef8de1ce-76d0-436b-b95a-f85bc6f76b47"
      },
      "execution_count": 17,
      "outputs": [
        {
          "output_type": "stream",
          "name": "stdout",
          "text": [
            "Collecting PyPDF\n",
            "  Downloading pypdf-5.4.0-py3-none-any.whl.metadata (7.3 kB)\n",
            "Downloading pypdf-5.4.0-py3-none-any.whl (302 kB)\n",
            "\u001b[?25l   \u001b[90m━━━━━━━━━━━━━━━━━━━━━━━━━━━━━━━━━━━━━━━━\u001b[0m \u001b[32m0.0/302.3 kB\u001b[0m \u001b[31m?\u001b[0m eta \u001b[36m-:--:--\u001b[0m\r\u001b[2K   \u001b[90m━━━━━━━━━━━━━━━━━━━━━━━━━━━━━━━━━━━━━━━━\u001b[0m \u001b[32m302.3/302.3 kB\u001b[0m \u001b[31m14.3 MB/s\u001b[0m eta \u001b[36m0:00:00\u001b[0m\n",
            "\u001b[?25hInstalling collected packages: PyPDF\n",
            "Successfully installed PyPDF-5.4.0\n"
          ]
        }
      ]
    },
    {
      "cell_type": "code",
      "source": [
        "from langchain_community.document_loaders import PyPDFLoader\n",
        "\n",
        "loader = PyPDFLoader(\"/content/DSMP.pdf\")\n",
        "\n",
        "document = loader.load()\n",
        "\n",
        "print(document)"
      ],
      "metadata": {
        "colab": {
          "base_uri": "https://localhost:8080/"
        },
        "id": "X_DMPbnnshs1",
        "outputId": "101d7ee2-83b1-4c5c-9494-2b92ca8f8c17"
      },
      "execution_count": 18,
      "outputs": [
        {
          "output_type": "stream",
          "name": "stdout",
          "text": [
            "[Document(metadata={'producer': 'Skia/PDF m136 Google Docs Renderer', 'creator': 'PyPDF', 'creationdate': '', 'title': 'DSMP 2.0 FAQs', 'source': '/content/DSMP.pdf', 'total_pages': 6, 'page': 0, 'page_label': '1'}, page_content='About  Data  Science  Mentorship  Program   ●  What  is  the  course  fee  for   Data  Science  Mentorship  Program  (DSMP  \\n2.0)\\n The  total  course  fee  for  the  DSMP  course  is  Rs  10,600.  This  includes  the  \\nfee\\n \\nfor\\n \\nboth\\n \\nDSMP\\n \\n1.0\\n \\nand\\n \\nDSMP\\n \\n2.0\\n  ●  What  is  the  total  duration  of  the  course?  The  total  duration  of  the  course  is  about  6-8  months.    ●  Are  Deep  Learning  and  NLP  a  part  of  the  DSMP  2.0   course?  No,  NLP  and  Deep  Learning  both  are  not  a  part  of  this  program’s  \\ncurriculum.\\n  ●  What  if  I  miss  a  live  session?  Will  I  get  a  recording  of  the  session?  Yes,  all  our  sessions  are  recorded,  so  even  if  you  miss  a  session  you  can  \\nlogin\\n \\ninto\\n \\nour\\n \\nportal\\n \\nand\\n \\nwatch\\n \\nthe\\n \\nrecording\\n \\nas\\n \\nper\\n \\nyour\\n \\nconvenience.\\n  ●  Where  can  I  find  the  class  schedule?  You  will  find  the  class  schedule  in  your  course  dashboard  once  you  \\nenroll\\n \\nfor\\n \\nthe\\n \\ncourse.\\n \\n ●  What  is  the  time  duration  of  all  the  live  sessions?  Roughly,  all  the  sessions  last  2  hours.'), Document(metadata={'producer': 'Skia/PDF m136 Google Docs Renderer', 'creator': 'PyPDF', 'creationdate': '', 'title': 'DSMP 2.0 FAQs', 'source': '/content/DSMP.pdf', 'total_pages': 6, 'page': 1, 'page_label': '2'}, page_content='●  What  is  the  language  spoken  by  the  instructor  during  the  sessions?  Hinglish.   ●  How  will  I  be  informed  about  the  upcoming  class?  You  will  get  mail  from  our  side  before  every  session  once  you  enroll  in  \\nthe\\n \\ncourse.\\n \\n  ●  Can  I  do  this  course  if  I  am  from  a  non-tech  background?  Yes,  absolutely.  However,  you’ll  need  to  be  consistent.   ●  I  am  late,  can  I  join  the  program  in  the  middle?  Absolutely,  you  can  join  the  program  any  time.   ●  If  I  join/pay  in  the  middle,  will  I  be  able  to  see  all  the  past  lectures?  Yes,  once  you’re  enrolled  in  the  course,  you  will  be  able  to  see  all  the  \\npast\\n \\ncontent\\n \\nin\\n \\nyour\\n \\ndashboard.\\n  ●  Where  do  I  have  to  submit  the  task?  You  don’t  have  to  submit  the  task.  We  will  provide  you  with  the  solutions,  \\nyou\\n \\nhave\\n \\nto\\n \\nself\\n \\nevaluate\\n \\nthe\\n \\ntask\\n \\nyourself.\\n  ●  Will  we  do  case  studies  in  the  program?  Yes,  there  are  5  end  to  end  case  studies  and  multiple  smaller  projects.   ●  Do  we  offer  any  student  discounts  or  promo  codes?  We  do  offer  discounts  on  our  courses  a  few  times  a  year,  and  we  \\nannounce\\n \\nthem\\n \\nthrough\\n \\nour\\n \\nsocial\\n \\nmedia\\n \\nchannels.\\n  ●  On  how  many  devices  can  I  watch  the  videos  simultaneously?  You  can  watch  the  videos  on  one  device  at  a  time.'), Document(metadata={'producer': 'Skia/PDF m136 Google Docs Renderer', 'creator': 'PyPDF', 'creationdate': '', 'title': 'DSMP 2.0 FAQs', 'source': '/content/DSMP.pdf', 'total_pages': 6, 'page': 2, 'page_label': '3'}, page_content='●  Do  you  provide  notes  for  the  lectures?  We  do  not  provide  notes  for  our  lectures.  We  encourage  students  to  \\nmake\\n \\ntheir\\n \\nown\\n \\nnotes\\n \\nas\\n \\nit\\n \\naids\\n \\nin\\n \\nstudy\\n \\nretention\\n.\\n  ●  What  is  the  difference  between  being  a  paid  member  on  your  \\nYouTube\\n \\nchannel\\n \\nand\\n \\nyour\\n \\nwebsite?\\n While  the  content  on  our  YouTube  channel  and  website  is  similar,  \\nenrolling\\n \\nthrough\\n \\nour\\n \\nwebsite\\n \\noffers\\n \\nadditional\\n \\nbenefits\\n \\nsuch\\n \\nas\\n \\ndoubt\\n \\nclearance\\n \\nsupport\\n \\nand\\n \\naccess\\n \\nto\\n \\nan\\n \\nexclusive\\n \\ncommunity\\n \\nof\\n \\nlearners\\n \\non\\n \\nDiscord\\n \\nand\\n \\nmore.\\n  ●  Do  I  get  access  to  your  YouTube  channel  as  a  paid  member  after  \\nenrolling\\n \\nthrough\\n \\nyour\\n \\nwebsite?\\n No,  the  YouTube  channel  membership  is  separate  from  what  we  offer  \\non\\n \\nour\\n \\nwebsite.\\n  ●  Is  there  any  upcoming  batch  for  the  Data  Science  Mentorship  \\nProgram?\\n Currently,  we  do  not  have  any  plans  to  launch  a  new  batch  for  DSMP.  \\nHowever,\\n \\nall\\n \\nprevious\\n \\nlectures\\n \\nare\\n \\navailable\\n \\nas\\n \\nrecordings,\\n \\nallowing\\n \\nyou\\n \\nto\\n \\nlearn\\n \\nat\\n \\nyour\\n \\nown\\n \\npace.\\n  ●  Do  you  provide  doubt  clearance  for  the  projects  uploaded  on  \\nCampusX\\n \\nYouTube\\n \\nchannel?\\n We  do  not  provide  doubt  clearance  for  any  of  our  videos  or  projects  \\nuploaded\\n \\non\\n \\nYouTube.\\n \\nHowever,\\n \\nyou\\n \\ncan\\n \\nask\\n \\nyour\\n \\ndoubts\\n \\nin\\n \\nour\\n \\nDiscord\\n \\nchannel\\n \\nor\\n \\nin\\n \\nthe\\n \\ncomments\\n \\nsection.'), Document(metadata={'producer': 'Skia/PDF m136 Google Docs Renderer', 'creator': 'PyPDF', 'creationdate': '', 'title': 'DSMP 2.0 FAQs', 'source': '/content/DSMP.pdf', 'total_pages': 6, 'page': 3, 'page_label': '4'}, page_content='Payment/Registration  related  questions   ●  Where  do  we  have  to  make  our  payments?  Your  YouTube  channel  or  \\nwebsite?\\n You  have  to  make  all  your  monthly  payments  on  our  website.  Here  is  the  \\nlink\\n \\nfor\\n \\nour\\n \\nwebsite\\n \\n-\\n \\nhttps://learnwith.campusx.in/\\n  ●  What  if  I  don’t  like  the  course  after  making  the  payment?  What  is  the  \\nrefund\\n \\npolicy?\\n You  get  a  7  days  refund  period  from  the  day  you  have  made  the  \\npayment.\\n \\nTo\\n \\napply\\n \\nfor\\n \\nrefund,\\n \\nsend\\n \\nus\\n \\nan\\n \\nemail\\n \\nat\\n \\nsupport@campusx.in\\n  ●  I  am  living  outside  India  and  I  am  not  able  to  make  the  payment  on  \\nthe\\n \\nwebsite.\\n \\nWhat\\n \\nshould\\n \\nI\\n \\ndo?\\n You  can  contact  us  by  sending  a  mail  at  support@campusx.in   ●  I  am  from  Pakistan  and  I  am  unable  to  make  the  payment?  We  currently  do  not  have  the  option  to  accept  payment  from  Pakistan  \\ndirectly.\\n \\nIf\\n \\nyou’d\\n \\nstill\\n \\nlike\\n \\nto\\n \\nenroll\\n \\nfor\\n \\nthe\\n \\ncourse,\\n \\nyou\\n \\nmay\\n \\nask\\n \\na\\n \\nfriend\\n \\nor\\n \\nfamily\\n \\nmember\\n \\nliving\\n \\noutside\\n \\nPakistan\\n \\nto\\n \\nmake\\n \\nthe\\n \\nfee\\n \\npayment\\n \\non\\n \\nyour\\n \\nbehalf.\\n \\nIf\\n \\nyou’d\\n \\nlike\\n \\nto\\n \\nproceed\\n \\nwith\\n \\nmanual\\n \\nenrollment,\\n \\nplease\\n \\ncontact\\n \\nus\\n \\nat\\n \\nsupport@campusx.in\\n,\\n \\nand\\n \\nwe’ll\\n \\nprovide\\n \\nyou\\n \\nwith\\n \\nfurther\\n \\ninstructions.\\n  ●  Do  you  accept  PayPal  as  a  payment  method?  Yes,  we  do.  Please  contact  us  at  support@campusx.in  for  more  details  \\non\\n \\nusing\\n \\nPayPal\\n \\nfor\\n \\npayment.\\n  ●  I  cannot  pay  the  DSMP  2.0  fee  as  a  one-time  payment,  is  there  any  \\nway\\n \\nto\\n \\nmake\\n \\na\\n \\npayment\\n \\nin\\n \\ninstallments?\\n At  the  moment,  we  do  not  have  a  monthly  payment  plan  for  the  DSMP  \\n2.0\\n \\ncourse.\\n \\nHowever,\\n \\nif\\n \\nyou\\n \\nhave\\n \\nfinancial\\n \\nconstraints,\\n \\nyou\\n \\ncan\\n \\nenroll\\n \\nin\\n \\nDSMP\\n \\n1.0\\n \\nby\\n \\npaying\\n \\n799/-\\n \\na\\n \\nmonth.\\n \\nOnce\\n \\nyou\\n \\ncomplete\\n \\nthe\\n \\ncourse,\\n \\nyou\\n \\nmay\\n \\napply\\n \\nfor\\n \\na\\n \\ndiscount\\n \\ncoupon\\n \\nfrom\\n \\nthe\\n \\nwebsite.'), Document(metadata={'producer': 'Skia/PDF m136 Google Docs Renderer', 'creator': 'PyPDF', 'creationdate': '', 'title': 'DSMP 2.0 FAQs', 'source': '/content/DSMP.pdf', 'total_pages': 6, 'page': 4, 'page_label': '5'}, page_content=\"Post  registration  queries    ●  Till  when  can  I  view  the  paid  videos  on  the  website?  You  can  watch  the  videos  till  your  subscription  is  valid,  that  is  3  years  \\nfrom\\n \\nthe\\n \\ndate\\n \\nof\\n \\npurchase\\n \\nfor\\n \\nDSMP\\n \\n2.0\\n \\nand\\n \\n2\\n \\nyears\\n \\nfor\\n \\nDSMP\\n \\n1.0\\n  ●  Why  is  lifetime  validity  not  provided?  Because  of  the  low  course  fee.   ●  Do  you  assist  with  personal  projects?  We  do  not  provide  support  for  personal  projects  due  to  time  constraints  \\nand\\n \\ncurrent\\n \\ncommitments.\\n  ●  Where  can  I  reach  out  in  case  of  a  doubt  after  the  session?  You  will  have  to  fill  a  google  form  provided  in  your  dashboard  and  our  \\nteam\\n \\nwill\\n \\ncontact\\n \\nyou\\n \\nfor\\n \\na\\n \\n1\\n \\non\\n \\n1\\n \\ndoubt\\n \\nclearing\\n \\nsession.\\n \\n   ●  If  I  join  the  program  late,  can  I  still  ask  past  week  doubts?  Yes,  just  select  “past  week's  doubt”  in  the  doubt  clearance  google  form.   ●  What  is  the  validity  of  Doubt  Support?  You  will  get  doubt  support  for  1  year  from  the  data  of  registration .\"), Document(metadata={'producer': 'Skia/PDF m136 Google Docs Renderer', 'creator': 'PyPDF', 'creationdate': '', 'title': 'DSMP 2.0 FAQs', 'source': '/content/DSMP.pdf', 'total_pages': 6, 'page': 5, 'page_label': '6'}, page_content=\"Certificate  and  Placement  Assistance  related  queries    ●  What  is  the  criteria  to  get  the  certificate?  There  are  2  criterias:  1.  You  have  to  pay  the  entire  fee  of  Rs  10,600  2.  You  have  to  attempt  all  the  course  assessments.   ●  I  have  read  that  Job  Preparation  is  a  part  of  this  program.  What  \\ncomes\\n \\nunder\\n \\nJob\\n \\nPreparation?\\n This  is  to  clarify  that  Job  Preparation  does  not  mean  Placement  \\nguarantee.\\n \\nWe\\n \\ndon't\\n \\nguarantee\\n \\nour\\n \\nlearners\\n \\nany\\n \\njobs\\n \\nor\\n \\nfor\\n \\nthat\\n \\nmatter\\n \\neven\\n \\ninterview\\n \\ncalls.\\n \\nIf\\n \\nyou\\n \\nare\\n \\nplanning\\n \\nto\\n \\njoin\\n \\nthis\\n \\ncourse\\n \\njust\\n \\nfor\\n \\nplacements,\\n \\nwe’re\\n \\nafraid\\n \\nthat\\n \\nthis\\n \\ncourse\\n \\nmight\\n \\nnot\\n \\nbe\\n \\nthe\\n \\nbest\\n \\nfor\\n \\nyou.\\n \\n  Here  is  what  comes  under  Job  Preparation  1.  Portfolio  Building  sessions.  2.  Interview  Questions.  3.  Sessions  with  industry  mentors.  4.  Discussion  on  Job  hunting  strategies.\")]\n"
          ]
        }
      ]
    },
    {
      "cell_type": "code",
      "source": [
        "print(len(document))"
      ],
      "metadata": {
        "colab": {
          "base_uri": "https://localhost:8080/"
        },
        "id": "eGqlnwJlxVqH",
        "outputId": "2fa6c394-1135-4212-c39c-69604d87bbfe"
      },
      "execution_count": 19,
      "outputs": [
        {
          "output_type": "stream",
          "name": "stdout",
          "text": [
            "6\n"
          ]
        }
      ]
    },
    {
      "cell_type": "markdown",
      "source": [
        "## Extract Page 1"
      ],
      "metadata": {
        "id": "bM8yR79Pxsrp"
      }
    },
    {
      "cell_type": "code",
      "source": [
        "print(document[0].page_content)\n",
        "print(document[0].metadata)"
      ],
      "metadata": {
        "collapsed": true,
        "colab": {
          "base_uri": "https://localhost:8080/"
        },
        "id": "LNJIr-uixcly",
        "outputId": "15160596-61cd-4ad3-cf99-d0e92acd179b"
      },
      "execution_count": 20,
      "outputs": [
        {
          "output_type": "stream",
          "name": "stdout",
          "text": [
            "About  Data  Science  Mentorship  Program   ●  What  is  the  course  fee  for   Data  Science  Mentorship  Program  (DSMP  \n",
            "2.0)\n",
            " The  total  course  fee  for  the  DSMP  course  is  Rs  10,600.  This  includes  the  \n",
            "fee\n",
            " \n",
            "for\n",
            " \n",
            "both\n",
            " \n",
            "DSMP\n",
            " \n",
            "1.0\n",
            " \n",
            "and\n",
            " \n",
            "DSMP\n",
            " \n",
            "2.0\n",
            "  ●  What  is  the  total  duration  of  the  course?  The  total  duration  of  the  course  is  about  6-8  months.    ●  Are  Deep  Learning  and  NLP  a  part  of  the  DSMP  2.0   course?  No,  NLP  and  Deep  Learning  both  are  not  a  part  of  this  program’s  \n",
            "curriculum.\n",
            "  ●  What  if  I  miss  a  live  session?  Will  I  get  a  recording  of  the  session?  Yes,  all  our  sessions  are  recorded,  so  even  if  you  miss  a  session  you  can  \n",
            "login\n",
            " \n",
            "into\n",
            " \n",
            "our\n",
            " \n",
            "portal\n",
            " \n",
            "and\n",
            " \n",
            "watch\n",
            " \n",
            "the\n",
            " \n",
            "recording\n",
            " \n",
            "as\n",
            " \n",
            "per\n",
            " \n",
            "your\n",
            " \n",
            "convenience.\n",
            "  ●  Where  can  I  find  the  class  schedule?  You  will  find  the  class  schedule  in  your  course  dashboard  once  you  \n",
            "enroll\n",
            " \n",
            "for\n",
            " \n",
            "the\n",
            " \n",
            "course.\n",
            " \n",
            " ●  What  is  the  time  duration  of  all  the  live  sessions?  Roughly,  all  the  sessions  last  2  hours.\n",
            "{'producer': 'Skia/PDF m136 Google Docs Renderer', 'creator': 'PyPDF', 'creationdate': '', 'title': 'DSMP 2.0 FAQs', 'source': '/content/DSMP.pdf', 'total_pages': 6, 'page': 0, 'page_label': '1'}\n"
          ]
        }
      ]
    },
    {
      "cell_type": "markdown",
      "source": [
        "## Extract Page 2"
      ],
      "metadata": {
        "id": "bdLpc0qpxv63"
      }
    },
    {
      "cell_type": "code",
      "source": [
        "print(document[1].page_content)\n",
        "print(document[1].metadata)"
      ],
      "metadata": {
        "collapsed": true,
        "colab": {
          "base_uri": "https://localhost:8080/"
        },
        "id": "j4f7huXOxlbA",
        "outputId": "cf219733-c6fe-4a5e-f26e-f66ba6122d96"
      },
      "execution_count": 22,
      "outputs": [
        {
          "output_type": "stream",
          "name": "stdout",
          "text": [
            "●  What  is  the  language  spoken  by  the  instructor  during  the  sessions?  Hinglish.   ●  How  will  I  be  informed  about  the  upcoming  class?  You  will  get  mail  from  our  side  before  every  session  once  you  enroll  in  \n",
            "the\n",
            " \n",
            "course.\n",
            " \n",
            "  ●  Can  I  do  this  course  if  I  am  from  a  non-tech  background?  Yes,  absolutely.  However,  you’ll  need  to  be  consistent.   ●  I  am  late,  can  I  join  the  program  in  the  middle?  Absolutely,  you  can  join  the  program  any  time.   ●  If  I  join/pay  in  the  middle,  will  I  be  able  to  see  all  the  past  lectures?  Yes,  once  you’re  enrolled  in  the  course,  you  will  be  able  to  see  all  the  \n",
            "past\n",
            " \n",
            "content\n",
            " \n",
            "in\n",
            " \n",
            "your\n",
            " \n",
            "dashboard.\n",
            "  ●  Where  do  I  have  to  submit  the  task?  You  don’t  have  to  submit  the  task.  We  will  provide  you  with  the  solutions,  \n",
            "you\n",
            " \n",
            "have\n",
            " \n",
            "to\n",
            " \n",
            "self\n",
            " \n",
            "evaluate\n",
            " \n",
            "the\n",
            " \n",
            "task\n",
            " \n",
            "yourself.\n",
            "  ●  Will  we  do  case  studies  in  the  program?  Yes,  there  are  5  end  to  end  case  studies  and  multiple  smaller  projects.   ●  Do  we  offer  any  student  discounts  or  promo  codes?  We  do  offer  discounts  on  our  courses  a  few  times  a  year,  and  we  \n",
            "announce\n",
            " \n",
            "them\n",
            " \n",
            "through\n",
            " \n",
            "our\n",
            " \n",
            "social\n",
            " \n",
            "media\n",
            " \n",
            "channels.\n",
            "  ●  On  how  many  devices  can  I  watch  the  videos  simultaneously?  You  can  watch  the  videos  on  one  device  at  a  time.\n",
            "{'producer': 'Skia/PDF m136 Google Docs Renderer', 'creator': 'PyPDF', 'creationdate': '', 'title': 'DSMP 2.0 FAQs', 'source': '/content/DSMP.pdf', 'total_pages': 6, 'page': 1, 'page_label': '2'}\n"
          ]
        }
      ]
    },
    {
      "cell_type": "markdown",
      "source": [
        "## More PDFLoader In LangChain\n",
        "\n",
        "- PDF with tables/columns: **PDFPlumberLoader**\n",
        "- Scanned/ merge PDFs: **UnstructuredPDFLoader, AmazonTextractPDFLoader**\n",
        "\n",
        "- Need Layout and image data: **PyMUPDFLoader**\n",
        "\n",
        "- Want Best structure extraction: **UnstructuredPDFLoader**"
      ],
      "metadata": {
        "id": "tBKtGiJHyMx1"
      }
    },
    {
      "cell_type": "markdown",
      "source": [
        "# DirectoryLoader\n",
        "\n",
        "## **DirectoryLoader** is a document loader that lets you load multiple documents from a directory (folder) of files.\n",
        "\n"
      ],
      "metadata": {
        "id": "fUy2wUOwzdx8"
      }
    },
    {
      "cell_type": "code",
      "source": [
        "!pip install  unstructured[pdf]"
      ],
      "metadata": {
        "collapsed": true,
        "colab": {
          "base_uri": "https://localhost:8080/"
        },
        "id": "1ULo-Cvj1aEh",
        "outputId": "0f447f1e-05c9-46f8-e8fa-8bb368f802a0"
      },
      "execution_count": 26,
      "outputs": [
        {
          "output_type": "stream",
          "name": "stdout",
          "text": [
            "Requirement already satisfied: unstructured[pdf] in /usr/local/lib/python3.11/dist-packages (0.17.2)\n",
            "Requirement already satisfied: chardet in /usr/local/lib/python3.11/dist-packages (from unstructured[pdf]) (5.2.0)\n",
            "Requirement already satisfied: filetype in /usr/local/lib/python3.11/dist-packages (from unstructured[pdf]) (1.2.0)\n",
            "Requirement already satisfied: python-magic in /usr/local/lib/python3.11/dist-packages (from unstructured[pdf]) (0.4.27)\n",
            "Requirement already satisfied: lxml in /usr/local/lib/python3.11/dist-packages (from unstructured[pdf]) (5.3.1)\n",
            "Requirement already satisfied: nltk in /usr/local/lib/python3.11/dist-packages (from unstructured[pdf]) (3.9.1)\n",
            "Requirement already satisfied: requests in /usr/local/lib/python3.11/dist-packages (from unstructured[pdf]) (2.32.3)\n",
            "Requirement already satisfied: beautifulsoup4 in /usr/local/lib/python3.11/dist-packages (from unstructured[pdf]) (4.13.3)\n",
            "Requirement already satisfied: emoji in /usr/local/lib/python3.11/dist-packages (from unstructured[pdf]) (2.14.1)\n",
            "Requirement already satisfied: dataclasses-json in /usr/local/lib/python3.11/dist-packages (from unstructured[pdf]) (0.6.7)\n",
            "Requirement already satisfied: python-iso639 in /usr/local/lib/python3.11/dist-packages (from unstructured[pdf]) (2025.2.18)\n",
            "Requirement already satisfied: langdetect in /usr/local/lib/python3.11/dist-packages (from unstructured[pdf]) (1.0.9)\n",
            "Requirement already satisfied: numpy in /usr/local/lib/python3.11/dist-packages (from unstructured[pdf]) (2.0.2)\n",
            "Requirement already satisfied: rapidfuzz in /usr/local/lib/python3.11/dist-packages (from unstructured[pdf]) (3.12.2)\n",
            "Requirement already satisfied: backoff in /usr/local/lib/python3.11/dist-packages (from unstructured[pdf]) (2.2.1)\n",
            "Requirement already satisfied: typing-extensions in /usr/local/lib/python3.11/dist-packages (from unstructured[pdf]) (4.13.0)\n",
            "Requirement already satisfied: unstructured-client in /usr/local/lib/python3.11/dist-packages (from unstructured[pdf]) (0.32.1)\n",
            "Requirement already satisfied: wrapt in /usr/local/lib/python3.11/dist-packages (from unstructured[pdf]) (1.17.2)\n",
            "Requirement already satisfied: tqdm in /usr/local/lib/python3.11/dist-packages (from unstructured[pdf]) (4.67.1)\n",
            "Requirement already satisfied: psutil in /usr/local/lib/python3.11/dist-packages (from unstructured[pdf]) (5.9.5)\n",
            "Requirement already satisfied: python-oxmsg in /usr/local/lib/python3.11/dist-packages (from unstructured[pdf]) (0.0.2)\n",
            "Requirement already satisfied: html5lib in /usr/local/lib/python3.11/dist-packages (from unstructured[pdf]) (1.1)\n",
            "Collecting onnx>=1.17.0 (from unstructured[pdf])\n",
            "  Downloading onnx-1.17.0-cp311-cp311-manylinux_2_17_x86_64.manylinux2014_x86_64.whl.metadata (16 kB)\n",
            "Collecting onnxruntime>=1.19.0 (from unstructured[pdf])\n",
            "  Downloading onnxruntime-1.21.0-cp311-cp311-manylinux_2_27_x86_64.manylinux_2_28_x86_64.whl.metadata (4.5 kB)\n",
            "Collecting pdf2image (from unstructured[pdf])\n",
            "  Downloading pdf2image-1.17.0-py3-none-any.whl.metadata (6.2 kB)\n",
            "Collecting pdfminer.six (from unstructured[pdf])\n",
            "  Downloading pdfminer_six-20250327-py3-none-any.whl.metadata (4.1 kB)\n",
            "Collecting pikepdf (from unstructured[pdf])\n",
            "  Downloading pikepdf-9.5.2-cp311-cp311-manylinux_2_17_x86_64.manylinux2014_x86_64.whl.metadata (8.1 kB)\n",
            "Collecting pi-heif (from unstructured[pdf])\n",
            "  Downloading pi_heif-0.22.0-cp311-cp311-manylinux_2_17_x86_64.manylinux2014_x86_64.whl.metadata (6.5 kB)\n",
            "Requirement already satisfied: pypdf in /usr/local/lib/python3.11/dist-packages (from unstructured[pdf]) (5.4.0)\n",
            "Collecting google-cloud-vision (from unstructured[pdf])\n",
            "  Downloading google_cloud_vision-3.10.1-py3-none-any.whl.metadata (9.5 kB)\n",
            "Collecting effdet (from unstructured[pdf])\n",
            "  Downloading effdet-0.4.1-py3-none-any.whl.metadata (33 kB)\n",
            "Collecting unstructured-inference>=0.8.10 (from unstructured[pdf])\n",
            "  Downloading unstructured_inference-0.8.10-py3-none-any.whl.metadata (5.3 kB)\n",
            "Collecting unstructured.pytesseract>=0.3.12 (from unstructured[pdf])\n",
            "  Downloading unstructured.pytesseract-0.3.15-py3-none-any.whl.metadata (11 kB)\n",
            "Requirement already satisfied: protobuf>=3.20.2 in /usr/local/lib/python3.11/dist-packages (from onnx>=1.17.0->unstructured[pdf]) (5.29.4)\n",
            "Collecting coloredlogs (from onnxruntime>=1.19.0->unstructured[pdf])\n",
            "  Downloading coloredlogs-15.0.1-py2.py3-none-any.whl.metadata (12 kB)\n",
            "Requirement already satisfied: flatbuffers in /usr/local/lib/python3.11/dist-packages (from onnxruntime>=1.19.0->unstructured[pdf]) (25.2.10)\n",
            "Requirement already satisfied: packaging in /usr/local/lib/python3.11/dist-packages (from onnxruntime>=1.19.0->unstructured[pdf]) (24.2)\n",
            "Requirement already satisfied: sympy in /usr/local/lib/python3.11/dist-packages (from onnxruntime>=1.19.0->unstructured[pdf]) (1.13.1)\n",
            "Collecting python-multipart (from unstructured-inference>=0.8.10->unstructured[pdf])\n",
            "  Downloading python_multipart-0.0.20-py3-none-any.whl.metadata (1.8 kB)\n",
            "Requirement already satisfied: huggingface-hub in /usr/local/lib/python3.11/dist-packages (from unstructured-inference>=0.8.10->unstructured[pdf]) (0.29.3)\n",
            "Requirement already satisfied: opencv-python!=4.7.0.68 in /usr/local/lib/python3.11/dist-packages (from unstructured-inference>=0.8.10->unstructured[pdf]) (4.11.0.86)\n",
            "Requirement already satisfied: matplotlib in /usr/local/lib/python3.11/dist-packages (from unstructured-inference>=0.8.10->unstructured[pdf]) (3.10.0)\n",
            "Requirement already satisfied: torch in /usr/local/lib/python3.11/dist-packages (from unstructured-inference>=0.8.10->unstructured[pdf]) (2.6.0+cu124)\n",
            "Requirement already satisfied: timm in /usr/local/lib/python3.11/dist-packages (from unstructured-inference>=0.8.10->unstructured[pdf]) (1.0.15)\n",
            "Requirement already satisfied: transformers>=4.25.1 in /usr/local/lib/python3.11/dist-packages (from unstructured-inference>=0.8.10->unstructured[pdf]) (4.50.2)\n",
            "Requirement already satisfied: pandas in /usr/local/lib/python3.11/dist-packages (from unstructured-inference>=0.8.10->unstructured[pdf]) (2.2.2)\n",
            "Requirement already satisfied: scipy in /usr/local/lib/python3.11/dist-packages (from unstructured-inference>=0.8.10->unstructured[pdf]) (1.14.1)\n",
            "Collecting pypdfium2 (from unstructured-inference>=0.8.10->unstructured[pdf])\n",
            "  Downloading pypdfium2-4.30.1-py3-none-manylinux_2_17_x86_64.manylinux2014_x86_64.whl.metadata (48 kB)\n",
            "\u001b[2K     \u001b[90m━━━━━━━━━━━━━━━━━━━━━━━━━━━━━━━━━━━━━━━━\u001b[0m \u001b[32m48.2/48.2 kB\u001b[0m \u001b[31m3.8 MB/s\u001b[0m eta \u001b[36m0:00:00\u001b[0m\n",
            "\u001b[?25hRequirement already satisfied: Pillow>=8.0.0 in /usr/local/lib/python3.11/dist-packages (from unstructured.pytesseract>=0.3.12->unstructured[pdf]) (11.1.0)\n",
            "Requirement already satisfied: soupsieve>1.2 in /usr/local/lib/python3.11/dist-packages (from beautifulsoup4->unstructured[pdf]) (2.6)\n",
            "Requirement already satisfied: marshmallow<4.0.0,>=3.18.0 in /usr/local/lib/python3.11/dist-packages (from dataclasses-json->unstructured[pdf]) (3.26.1)\n",
            "Requirement already satisfied: typing-inspect<1,>=0.4.0 in /usr/local/lib/python3.11/dist-packages (from dataclasses-json->unstructured[pdf]) (0.9.0)\n",
            "Requirement already satisfied: torchvision in /usr/local/lib/python3.11/dist-packages (from effdet->unstructured[pdf]) (0.21.0+cu124)\n",
            "Requirement already satisfied: pycocotools>=2.0.2 in /usr/local/lib/python3.11/dist-packages (from effdet->unstructured[pdf]) (2.0.8)\n",
            "Collecting omegaconf>=2.0 (from effdet->unstructured[pdf])\n",
            "  Downloading omegaconf-2.3.0-py3-none-any.whl.metadata (3.9 kB)\n",
            "Requirement already satisfied: google-api-core!=2.0.*,!=2.1.*,!=2.10.*,!=2.2.*,!=2.3.*,!=2.4.*,!=2.5.*,!=2.6.*,!=2.7.*,!=2.8.*,!=2.9.*,<3.0.0,>=1.34.1 in /usr/local/lib/python3.11/dist-packages (from google-api-core[grpc]!=2.0.*,!=2.1.*,!=2.10.*,!=2.2.*,!=2.3.*,!=2.4.*,!=2.5.*,!=2.6.*,!=2.7.*,!=2.8.*,!=2.9.*,<3.0.0,>=1.34.1->google-cloud-vision->unstructured[pdf]) (2.24.2)\n",
            "Requirement already satisfied: google-auth!=2.24.0,!=2.25.0,<3.0.0,>=2.14.1 in /usr/local/lib/python3.11/dist-packages (from google-cloud-vision->unstructured[pdf]) (2.38.0)\n",
            "Requirement already satisfied: proto-plus<2.0.0,>=1.22.3 in /usr/local/lib/python3.11/dist-packages (from google-cloud-vision->unstructured[pdf]) (1.26.1)\n",
            "Requirement already satisfied: six>=1.9 in /usr/local/lib/python3.11/dist-packages (from html5lib->unstructured[pdf]) (1.17.0)\n",
            "Requirement already satisfied: webencodings in /usr/local/lib/python3.11/dist-packages (from html5lib->unstructured[pdf]) (0.5.1)\n",
            "Requirement already satisfied: click in /usr/local/lib/python3.11/dist-packages (from nltk->unstructured[pdf]) (8.1.8)\n",
            "Requirement already satisfied: joblib in /usr/local/lib/python3.11/dist-packages (from nltk->unstructured[pdf]) (1.4.2)\n",
            "Requirement already satisfied: regex>=2021.8.3 in /usr/local/lib/python3.11/dist-packages (from nltk->unstructured[pdf]) (2024.11.6)\n",
            "Requirement already satisfied: charset-normalizer>=2.0.0 in /usr/local/lib/python3.11/dist-packages (from pdfminer.six->unstructured[pdf]) (3.4.1)\n",
            "Requirement already satisfied: cryptography>=36.0.0 in /usr/local/lib/python3.11/dist-packages (from pdfminer.six->unstructured[pdf]) (43.0.3)\n",
            "Requirement already satisfied: Deprecated in /usr/local/lib/python3.11/dist-packages (from pikepdf->unstructured[pdf]) (1.2.18)\n",
            "Requirement already satisfied: olefile in /usr/local/lib/python3.11/dist-packages (from python-oxmsg->unstructured[pdf]) (0.47)\n",
            "Requirement already satisfied: idna<4,>=2.5 in /usr/local/lib/python3.11/dist-packages (from requests->unstructured[pdf]) (3.10)\n",
            "Requirement already satisfied: urllib3<3,>=1.21.1 in /usr/local/lib/python3.11/dist-packages (from requests->unstructured[pdf]) (2.3.0)\n",
            "Requirement already satisfied: certifi>=2017.4.17 in /usr/local/lib/python3.11/dist-packages (from requests->unstructured[pdf]) (2025.1.31)\n",
            "Requirement already satisfied: aiofiles>=24.1.0 in /usr/local/lib/python3.11/dist-packages (from unstructured-client->unstructured[pdf]) (24.1.0)\n",
            "Requirement already satisfied: eval-type-backport>=0.2.0 in /usr/local/lib/python3.11/dist-packages (from unstructured-client->unstructured[pdf]) (0.2.2)\n",
            "Requirement already satisfied: httpx>=0.27.0 in /usr/local/lib/python3.11/dist-packages (from unstructured-client->unstructured[pdf]) (0.28.1)\n",
            "Requirement already satisfied: nest-asyncio>=1.6.0 in /usr/local/lib/python3.11/dist-packages (from unstructured-client->unstructured[pdf]) (1.6.0)\n",
            "Requirement already satisfied: pydantic>=2.10.3 in /usr/local/lib/python3.11/dist-packages (from unstructured-client->unstructured[pdf]) (2.11.0)\n",
            "Requirement already satisfied: python-dateutil>=2.8.2 in /usr/local/lib/python3.11/dist-packages (from unstructured-client->unstructured[pdf]) (2.8.2)\n",
            "Requirement already satisfied: requests-toolbelt>=1.0.0 in /usr/local/lib/python3.11/dist-packages (from unstructured-client->unstructured[pdf]) (1.0.0)\n",
            "Requirement already satisfied: typing-inspection>=0.4.0 in /usr/local/lib/python3.11/dist-packages (from unstructured-client->unstructured[pdf]) (0.4.0)\n",
            "Requirement already satisfied: cffi>=1.12 in /usr/local/lib/python3.11/dist-packages (from cryptography>=36.0.0->pdfminer.six->unstructured[pdf]) (1.17.1)\n",
            "Requirement already satisfied: googleapis-common-protos<2.0.0,>=1.56.2 in /usr/local/lib/python3.11/dist-packages (from google-api-core!=2.0.*,!=2.1.*,!=2.10.*,!=2.2.*,!=2.3.*,!=2.4.*,!=2.5.*,!=2.6.*,!=2.7.*,!=2.8.*,!=2.9.*,<3.0.0,>=1.34.1->google-api-core[grpc]!=2.0.*,!=2.1.*,!=2.10.*,!=2.2.*,!=2.3.*,!=2.4.*,!=2.5.*,!=2.6.*,!=2.7.*,!=2.8.*,!=2.9.*,<3.0.0,>=1.34.1->google-cloud-vision->unstructured[pdf]) (1.69.2)\n",
            "Requirement already satisfied: grpcio<2.0dev,>=1.33.2 in /usr/local/lib/python3.11/dist-packages (from google-api-core[grpc]!=2.0.*,!=2.1.*,!=2.10.*,!=2.2.*,!=2.3.*,!=2.4.*,!=2.5.*,!=2.6.*,!=2.7.*,!=2.8.*,!=2.9.*,<3.0.0,>=1.34.1->google-cloud-vision->unstructured[pdf]) (1.71.0)\n",
            "Requirement already satisfied: grpcio-status<2.0.dev0,>=1.33.2 in /usr/local/lib/python3.11/dist-packages (from google-api-core[grpc]!=2.0.*,!=2.1.*,!=2.10.*,!=2.2.*,!=2.3.*,!=2.4.*,!=2.5.*,!=2.6.*,!=2.7.*,!=2.8.*,!=2.9.*,<3.0.0,>=1.34.1->google-cloud-vision->unstructured[pdf]) (1.71.0)\n",
            "Requirement already satisfied: cachetools<6.0,>=2.0.0 in /usr/local/lib/python3.11/dist-packages (from google-auth!=2.24.0,!=2.25.0,<3.0.0,>=2.14.1->google-cloud-vision->unstructured[pdf]) (5.5.2)\n",
            "Requirement already satisfied: pyasn1-modules>=0.2.1 in /usr/local/lib/python3.11/dist-packages (from google-auth!=2.24.0,!=2.25.0,<3.0.0,>=2.14.1->google-cloud-vision->unstructured[pdf]) (0.4.2)\n",
            "Requirement already satisfied: rsa<5,>=3.1.4 in /usr/local/lib/python3.11/dist-packages (from google-auth!=2.24.0,!=2.25.0,<3.0.0,>=2.14.1->google-cloud-vision->unstructured[pdf]) (4.9)\n",
            "Requirement already satisfied: anyio in /usr/local/lib/python3.11/dist-packages (from httpx>=0.27.0->unstructured-client->unstructured[pdf]) (4.9.0)\n",
            "Requirement already satisfied: httpcore==1.* in /usr/local/lib/python3.11/dist-packages (from httpx>=0.27.0->unstructured-client->unstructured[pdf]) (1.0.7)\n",
            "Requirement already satisfied: h11<0.15,>=0.13 in /usr/local/lib/python3.11/dist-packages (from httpcore==1.*->httpx>=0.27.0->unstructured-client->unstructured[pdf]) (0.14.0)\n",
            "Collecting antlr4-python3-runtime==4.9.* (from omegaconf>=2.0->effdet->unstructured[pdf])\n",
            "  Downloading antlr4-python3-runtime-4.9.3.tar.gz (117 kB)\n",
            "\u001b[2K     \u001b[90m━━━━━━━━━━━━━━━━━━━━━━━━━━━━━━━━━━━━━━━━\u001b[0m \u001b[32m117.0/117.0 kB\u001b[0m \u001b[31m8.8 MB/s\u001b[0m eta \u001b[36m0:00:00\u001b[0m\n",
            "\u001b[?25h  Preparing metadata (setup.py) ... \u001b[?25l\u001b[?25hdone\n",
            "Requirement already satisfied: PyYAML>=5.1.0 in /usr/local/lib/python3.11/dist-packages (from omegaconf>=2.0->effdet->unstructured[pdf]) (6.0.2)\n",
            "Requirement already satisfied: contourpy>=1.0.1 in /usr/local/lib/python3.11/dist-packages (from matplotlib->unstructured-inference>=0.8.10->unstructured[pdf]) (1.3.1)\n",
            "Requirement already satisfied: cycler>=0.10 in /usr/local/lib/python3.11/dist-packages (from matplotlib->unstructured-inference>=0.8.10->unstructured[pdf]) (0.12.1)\n",
            "Requirement already satisfied: fonttools>=4.22.0 in /usr/local/lib/python3.11/dist-packages (from matplotlib->unstructured-inference>=0.8.10->unstructured[pdf]) (4.56.0)\n",
            "Requirement already satisfied: kiwisolver>=1.3.1 in /usr/local/lib/python3.11/dist-packages (from matplotlib->unstructured-inference>=0.8.10->unstructured[pdf]) (1.4.8)\n",
            "Requirement already satisfied: pyparsing>=2.3.1 in /usr/local/lib/python3.11/dist-packages (from matplotlib->unstructured-inference>=0.8.10->unstructured[pdf]) (3.2.3)\n",
            "Requirement already satisfied: annotated-types>=0.6.0 in /usr/local/lib/python3.11/dist-packages (from pydantic>=2.10.3->unstructured-client->unstructured[pdf]) (0.7.0)\n",
            "Requirement already satisfied: pydantic-core==2.33.0 in /usr/local/lib/python3.11/dist-packages (from pydantic>=2.10.3->unstructured-client->unstructured[pdf]) (2.33.0)\n",
            "Requirement already satisfied: safetensors in /usr/local/lib/python3.11/dist-packages (from timm->unstructured-inference>=0.8.10->unstructured[pdf]) (0.5.3)\n",
            "Requirement already satisfied: filelock in /usr/local/lib/python3.11/dist-packages (from torch->unstructured-inference>=0.8.10->unstructured[pdf]) (3.18.0)\n",
            "Requirement already satisfied: networkx in /usr/local/lib/python3.11/dist-packages (from torch->unstructured-inference>=0.8.10->unstructured[pdf]) (3.4.2)\n",
            "Requirement already satisfied: jinja2 in /usr/local/lib/python3.11/dist-packages (from torch->unstructured-inference>=0.8.10->unstructured[pdf]) (3.1.6)\n",
            "Requirement already satisfied: fsspec in /usr/local/lib/python3.11/dist-packages (from torch->unstructured-inference>=0.8.10->unstructured[pdf]) (2025.3.0)\n",
            "Collecting nvidia-cuda-nvrtc-cu12==12.4.127 (from torch->unstructured-inference>=0.8.10->unstructured[pdf])\n",
            "  Downloading nvidia_cuda_nvrtc_cu12-12.4.127-py3-none-manylinux2014_x86_64.whl.metadata (1.5 kB)\n",
            "Collecting nvidia-cuda-runtime-cu12==12.4.127 (from torch->unstructured-inference>=0.8.10->unstructured[pdf])\n",
            "  Downloading nvidia_cuda_runtime_cu12-12.4.127-py3-none-manylinux2014_x86_64.whl.metadata (1.5 kB)\n",
            "Collecting nvidia-cuda-cupti-cu12==12.4.127 (from torch->unstructured-inference>=0.8.10->unstructured[pdf])\n",
            "  Downloading nvidia_cuda_cupti_cu12-12.4.127-py3-none-manylinux2014_x86_64.whl.metadata (1.6 kB)\n",
            "Collecting nvidia-cudnn-cu12==9.1.0.70 (from torch->unstructured-inference>=0.8.10->unstructured[pdf])\n",
            "  Downloading nvidia_cudnn_cu12-9.1.0.70-py3-none-manylinux2014_x86_64.whl.metadata (1.6 kB)\n",
            "Collecting nvidia-cublas-cu12==12.4.5.8 (from torch->unstructured-inference>=0.8.10->unstructured[pdf])\n",
            "  Downloading nvidia_cublas_cu12-12.4.5.8-py3-none-manylinux2014_x86_64.whl.metadata (1.5 kB)\n",
            "Collecting nvidia-cufft-cu12==11.2.1.3 (from torch->unstructured-inference>=0.8.10->unstructured[pdf])\n",
            "  Downloading nvidia_cufft_cu12-11.2.1.3-py3-none-manylinux2014_x86_64.whl.metadata (1.5 kB)\n",
            "Collecting nvidia-curand-cu12==10.3.5.147 (from torch->unstructured-inference>=0.8.10->unstructured[pdf])\n",
            "  Downloading nvidia_curand_cu12-10.3.5.147-py3-none-manylinux2014_x86_64.whl.metadata (1.5 kB)\n",
            "Collecting nvidia-cusolver-cu12==11.6.1.9 (from torch->unstructured-inference>=0.8.10->unstructured[pdf])\n",
            "  Downloading nvidia_cusolver_cu12-11.6.1.9-py3-none-manylinux2014_x86_64.whl.metadata (1.6 kB)\n",
            "Collecting nvidia-cusparse-cu12==12.3.1.170 (from torch->unstructured-inference>=0.8.10->unstructured[pdf])\n",
            "  Downloading nvidia_cusparse_cu12-12.3.1.170-py3-none-manylinux2014_x86_64.whl.metadata (1.6 kB)\n",
            "Requirement already satisfied: nvidia-cusparselt-cu12==0.6.2 in /usr/local/lib/python3.11/dist-packages (from torch->unstructured-inference>=0.8.10->unstructured[pdf]) (0.6.2)\n",
            "Requirement already satisfied: nvidia-nccl-cu12==2.21.5 in /usr/local/lib/python3.11/dist-packages (from torch->unstructured-inference>=0.8.10->unstructured[pdf]) (2.21.5)\n",
            "Requirement already satisfied: nvidia-nvtx-cu12==12.4.127 in /usr/local/lib/python3.11/dist-packages (from torch->unstructured-inference>=0.8.10->unstructured[pdf]) (12.4.127)\n",
            "Collecting nvidia-nvjitlink-cu12==12.4.127 (from torch->unstructured-inference>=0.8.10->unstructured[pdf])\n",
            "  Downloading nvidia_nvjitlink_cu12-12.4.127-py3-none-manylinux2014_x86_64.whl.metadata (1.5 kB)\n",
            "Requirement already satisfied: triton==3.2.0 in /usr/local/lib/python3.11/dist-packages (from torch->unstructured-inference>=0.8.10->unstructured[pdf]) (3.2.0)\n",
            "Requirement already satisfied: mpmath<1.4,>=1.1.0 in /usr/local/lib/python3.11/dist-packages (from sympy->onnxruntime>=1.19.0->unstructured[pdf]) (1.3.0)\n",
            "Requirement already satisfied: tokenizers<0.22,>=0.21 in /usr/local/lib/python3.11/dist-packages (from transformers>=4.25.1->unstructured-inference>=0.8.10->unstructured[pdf]) (0.21.1)\n",
            "Requirement already satisfied: mypy-extensions>=0.3.0 in /usr/local/lib/python3.11/dist-packages (from typing-inspect<1,>=0.4.0->dataclasses-json->unstructured[pdf]) (1.0.0)\n",
            "Collecting humanfriendly>=9.1 (from coloredlogs->onnxruntime>=1.19.0->unstructured[pdf])\n",
            "  Downloading humanfriendly-10.0-py2.py3-none-any.whl.metadata (9.2 kB)\n",
            "Requirement already satisfied: pytz>=2020.1 in /usr/local/lib/python3.11/dist-packages (from pandas->unstructured-inference>=0.8.10->unstructured[pdf]) (2025.2)\n",
            "Requirement already satisfied: tzdata>=2022.7 in /usr/local/lib/python3.11/dist-packages (from pandas->unstructured-inference>=0.8.10->unstructured[pdf]) (2025.2)\n",
            "Requirement already satisfied: pycparser in /usr/local/lib/python3.11/dist-packages (from cffi>=1.12->cryptography>=36.0.0->pdfminer.six->unstructured[pdf]) (2.22)\n",
            "Requirement already satisfied: pyasn1<0.7.0,>=0.6.1 in /usr/local/lib/python3.11/dist-packages (from pyasn1-modules>=0.2.1->google-auth!=2.24.0,!=2.25.0,<3.0.0,>=2.14.1->google-cloud-vision->unstructured[pdf]) (0.6.1)\n",
            "Requirement already satisfied: sniffio>=1.1 in /usr/local/lib/python3.11/dist-packages (from anyio->httpx>=0.27.0->unstructured-client->unstructured[pdf]) (1.3.1)\n",
            "Requirement already satisfied: MarkupSafe>=2.0 in /usr/local/lib/python3.11/dist-packages (from jinja2->torch->unstructured-inference>=0.8.10->unstructured[pdf]) (3.0.2)\n",
            "Downloading onnx-1.17.0-cp311-cp311-manylinux_2_17_x86_64.manylinux2014_x86_64.whl (16.0 MB)\n",
            "\u001b[2K   \u001b[90m━━━━━━━━━━━━━━━━━━━━━━━━━━━━━━━━━━━━━━━━\u001b[0m \u001b[32m16.0/16.0 MB\u001b[0m \u001b[31m87.1 MB/s\u001b[0m eta \u001b[36m0:00:00\u001b[0m\n",
            "\u001b[?25hDownloading onnxruntime-1.21.0-cp311-cp311-manylinux_2_27_x86_64.manylinux_2_28_x86_64.whl (16.0 MB)\n",
            "\u001b[2K   \u001b[90m━━━━━━━━━━━━━━━━━━━━━━━━━━━━━━━━━━━━━━━━\u001b[0m \u001b[32m16.0/16.0 MB\u001b[0m \u001b[31m83.8 MB/s\u001b[0m eta \u001b[36m0:00:00\u001b[0m\n",
            "\u001b[?25hDownloading unstructured_inference-0.8.10-py3-none-any.whl (48 kB)\n",
            "\u001b[2K   \u001b[90m━━━━━━━━━━━━━━━━━━━━━━━━━━━━━━━━━━━━━━━━\u001b[0m \u001b[32m48.9/48.9 kB\u001b[0m \u001b[31m4.2 MB/s\u001b[0m eta \u001b[36m0:00:00\u001b[0m\n",
            "\u001b[?25hDownloading unstructured.pytesseract-0.3.15-py3-none-any.whl (14 kB)\n",
            "Downloading effdet-0.4.1-py3-none-any.whl (112 kB)\n",
            "\u001b[2K   \u001b[90m━━━━━━━━━━━━━━━━━━━━━━━━━━━━━━━━━━━━━━━━\u001b[0m \u001b[32m112.5/112.5 kB\u001b[0m \u001b[31m9.3 MB/s\u001b[0m eta \u001b[36m0:00:00\u001b[0m\n",
            "\u001b[?25hDownloading google_cloud_vision-3.10.1-py3-none-any.whl (526 kB)\n",
            "\u001b[2K   \u001b[90m━━━━━━━━━━━━━━━━━━━━━━━━━━━━━━━━━━━━━━━━\u001b[0m \u001b[32m526.1/526.1 kB\u001b[0m \u001b[31m29.3 MB/s\u001b[0m eta \u001b[36m0:00:00\u001b[0m\n",
            "\u001b[?25hDownloading pdf2image-1.17.0-py3-none-any.whl (11 kB)\n",
            "Downloading pdfminer_six-20250327-py3-none-any.whl (5.6 MB)\n",
            "\u001b[2K   \u001b[90m━━━━━━━━━━━━━━━━━━━━━━━━━━━━━━━━━━━━━━━━\u001b[0m \u001b[32m5.6/5.6 MB\u001b[0m \u001b[31m99.8 MB/s\u001b[0m eta \u001b[36m0:00:00\u001b[0m\n",
            "\u001b[?25hDownloading pi_heif-0.22.0-cp311-cp311-manylinux_2_17_x86_64.manylinux2014_x86_64.whl (1.2 MB)\n",
            "\u001b[2K   \u001b[90m━━━━━━━━━━━━━━━━━━━━━━━━━━━━━━━━━━━━━━━━\u001b[0m \u001b[32m1.2/1.2 MB\u001b[0m \u001b[31m56.4 MB/s\u001b[0m eta \u001b[36m0:00:00\u001b[0m\n",
            "\u001b[?25hDownloading pikepdf-9.5.2-cp311-cp311-manylinux_2_17_x86_64.manylinux2014_x86_64.whl (2.4 MB)\n",
            "\u001b[2K   \u001b[90m━━━━━━━━━━━━━━━━━━━━━━━━━━━━━━━━━━━━━━━━\u001b[0m \u001b[32m2.4/2.4 MB\u001b[0m \u001b[31m84.7 MB/s\u001b[0m eta \u001b[36m0:00:00\u001b[0m\n",
            "\u001b[?25hDownloading omegaconf-2.3.0-py3-none-any.whl (79 kB)\n",
            "\u001b[2K   \u001b[90m━━━━━━━━━━━━━━━━━━━━━━━━━━━━━━━━━━━━━━━━\u001b[0m \u001b[32m79.5/79.5 kB\u001b[0m \u001b[31m6.9 MB/s\u001b[0m eta \u001b[36m0:00:00\u001b[0m\n",
            "\u001b[?25hDownloading nvidia_cublas_cu12-12.4.5.8-py3-none-manylinux2014_x86_64.whl (363.4 MB)\n",
            "\u001b[2K   \u001b[90m━━━━━━━━━━━━━━━━━━━━━━━━━━━━━━━━━━━━━━━━\u001b[0m \u001b[32m363.4/363.4 MB\u001b[0m \u001b[31m3.5 MB/s\u001b[0m eta \u001b[36m0:00:00\u001b[0m\n",
            "\u001b[?25hDownloading nvidia_cuda_cupti_cu12-12.4.127-py3-none-manylinux2014_x86_64.whl (13.8 MB)\n",
            "\u001b[2K   \u001b[90m━━━━━━━━━━━━━━━━━━━━━━━━━━━━━━━━━━━━━━━━\u001b[0m \u001b[32m13.8/13.8 MB\u001b[0m \u001b[31m58.0 MB/s\u001b[0m eta \u001b[36m0:00:00\u001b[0m\n",
            "\u001b[?25hDownloading nvidia_cuda_nvrtc_cu12-12.4.127-py3-none-manylinux2014_x86_64.whl (24.6 MB)\n",
            "\u001b[2K   \u001b[90m━━━━━━━━━━━━━━━━━━━━━━━━━━━━━━━━━━━━━━━━\u001b[0m \u001b[32m24.6/24.6 MB\u001b[0m \u001b[31m70.9 MB/s\u001b[0m eta \u001b[36m0:00:00\u001b[0m\n",
            "\u001b[?25hDownloading nvidia_cuda_runtime_cu12-12.4.127-py3-none-manylinux2014_x86_64.whl (883 kB)\n",
            "\u001b[2K   \u001b[90m━━━━━━━━━━━━━━━━━━━━━━━━━━━━━━━━━━━━━━━━\u001b[0m \u001b[32m883.7/883.7 kB\u001b[0m \u001b[31m47.0 MB/s\u001b[0m eta \u001b[36m0:00:00\u001b[0m\n",
            "\u001b[?25hDownloading nvidia_cudnn_cu12-9.1.0.70-py3-none-manylinux2014_x86_64.whl (664.8 MB)\n",
            "\u001b[2K   \u001b[91m━━━━━━━━━━━━━━━━━━━━━━━━━━━\u001b[0m\u001b[91m╸\u001b[0m\u001b[90m━━━━━━━━━━━━\u001b[0m \u001b[32m462.2/664.8 MB\u001b[0m \u001b[31m3.2 MB/s\u001b[0m eta \u001b[36m0:01:04\u001b[0m\n",
            "\u001b[?25hDownloading nvidia_cufft_cu12-11.2.1.3-py3-none-manylinux2014_x86_64.whl (211.5 MB)\n",
            "\u001b[2K   \u001b[90m━━━━━━━━━━━━━━━━━━━━━━━━━━━━━━━━━━━━━━━━\u001b[0m \u001b[32m211.5/211.5 MB\u001b[0m \u001b[31m5.8 MB/s\u001b[0m eta \u001b[36m0:00:00\u001b[0m\n",
            "\u001b[?25hDownloading nvidia_curand_cu12-10.3.5.147-py3-none-manylinux2014_x86_64.whl (56.3 MB)\n",
            "\u001b[2K   \u001b[90m━━━━━━━━━━━━━━━━━━━━━━━━━━━━━━━━━━━━━━━━\u001b[0m \u001b[32m56.3/56.3 MB\u001b[0m \u001b[31m11.0 MB/s\u001b[0m eta \u001b[36m0:00:00\u001b[0m\n",
            "\u001b[?25hDownloading nvidia_cusolver_cu12-11.6.1.9-py3-none-manylinux2014_x86_64.whl (127.9 MB)\n",
            "\u001b[2K   \u001b[90m━━━━━━━━━━━━━━━━━━━━━━━━━━━━━━━━━━━━━━━━\u001b[0m \u001b[32m127.9/127.9 MB\u001b[0m \u001b[31m7.2 MB/s\u001b[0m eta \u001b[36m0:00:00\u001b[0m\n",
            "\u001b[?25hDownloading nvidia_cusparse_cu12-12.3.1.170-py3-none-manylinux2014_x86_64.whl (207.5 MB)\n",
            "\u001b[2K   \u001b[90m━━━━━━━━━━━━━━━━━━━━━━━━━━━━━━━━━━━━━━━━\u001b[0m \u001b[32m207.5/207.5 MB\u001b[0m \u001b[31m4.4 MB/s\u001b[0m eta \u001b[36m0:00:00\u001b[0m\n",
            "\u001b[?25hDownloading nvidia_nvjitlink_cu12-12.4.127-py3-none-manylinux2014_x86_64.whl (21.1 MB)\n",
            "\u001b[2K   \u001b[90m━━━━━━━━━━━━━━━━━━━━━━━━━━━━━━━━━━━━━━━━\u001b[0m \u001b[32m21.1/21.1 MB\u001b[0m \u001b[31m39.5 MB/s\u001b[0m eta \u001b[36m0:00:00\u001b[0m\n",
            "\u001b[?25hDownloading coloredlogs-15.0.1-py2.py3-none-any.whl (46 kB)\n",
            "\u001b[2K   \u001b[90m━━━━━━━━━━━━━━━━━━━━━━━━━━━━━━━━━━━━━━━━\u001b[0m \u001b[32m46.0/46.0 kB\u001b[0m \u001b[31m3.6 MB/s\u001b[0m eta \u001b[36m0:00:00\u001b[0m\n",
            "\u001b[?25hDownloading pypdfium2-4.30.1-py3-none-manylinux_2_17_x86_64.manylinux2014_x86_64.whl (2.9 MB)\n",
            "\u001b[2K   \u001b[90m━━━━━━━━━━━━━━━━━━━━━━━━━━━━━━━━━━━━━━━━\u001b[0m \u001b[32m2.9/2.9 MB\u001b[0m \u001b[31m62.7 MB/s\u001b[0m eta \u001b[36m0:00:00\u001b[0m\n",
            "\u001b[?25hDownloading python_multipart-0.0.20-py3-none-any.whl (24 kB)\n",
            "Downloading humanfriendly-10.0-py2.py3-none-any.whl (86 kB)\n",
            "\u001b[2K   \u001b[90m━━━━━━━━━━━━━━━━━━━━━━━━━━━━━━━━━━━━━━━━\u001b[0m \u001b[32m86.8/86.8 kB\u001b[0m \u001b[31m5.2 MB/s\u001b[0m eta \u001b[36m0:00:00\u001b[0m\n",
            "\u001b[?25h\u001b[31mERROR: THESE PACKAGES DO NOT MATCH THE HASHES FROM THE REQUIREMENTS FILE. If you have updated the package versions, please update the hashes. Otherwise, examine the package contents carefully; someone may have tampered with them.\n",
            "    unknown package:\n",
            "        Expected sha256 165764f44ef8c61fcdfdfdbe769d687e06374059fbb388b6c89ecb0e28793a6f\n",
            "             Got        bea43e5873ed320fb38da5f11adb1d700cb64fd9eef75af05cd3890e9575a4ed\n",
            "\u001b[0m\u001b[31m\n",
            "\u001b[0m"
          ]
        }
      ]
    },
    {
      "cell_type": "code",
      "source": [
        "from langchain_community.document_loaders import DirectoryLoader,PyPDFLoader\n",
        "\n",
        "loader = DirectoryLoader(\"/content/Data/\",glob=\"*.pdf\",loader_cls=PyPDFLoader)\n",
        "\n",
        "documents = loader.load()\n",
        "\n",
        "print(documents)"
      ],
      "metadata": {
        "colab": {
          "base_uri": "https://localhost:8080/"
        },
        "id": "Fg-taUZQx27I",
        "outputId": "e6ee19dc-ff13-4ac8-a1c8-c4e36e23912e"
      },
      "execution_count": 29,
      "outputs": [
        {
          "output_type": "stream",
          "name": "stdout",
          "text": [
            "[Document(metadata={'producer': 'PyFPDF 1.7.2 http://pyfpdf.googlecode.com/', 'creator': 'PyPDF', 'creationdate': 'D:20250403132430', 'source': '/content/Data/LangChain_Core_Components.pdf', 'total_pages': 2, 'page': 0, 'page_label': '1'}, page_content='LangChain Core Components\\nLangChain Core Components\\nLangChain provides essential building blocks that make it easier to develop applications using large\\nlanguage models. These components help structure and manage interactions effectively.\\n1. **LLMs (Large Language Models)**\\n   - Interface with various language models such as OpenAI\\'s GPT, Hugging Face models, and\\nopen-source alternatives.\\n   - Example:\\n     ```python\\n     from langchain.llms import OpenAI\\n     llm = OpenAI(model_name=\"gpt-4\", openai_api_key=\"your_api_key\")\\n     print(llm.predict(\"Explain LangChain components.\"))\\n     ```\\n2. **Chains**\\n   - Chains help link multiple components together, allowing structured workflows.\\n   - Example:\\n     ```python\\n     from langchain.chains import LLMChain\\n     from langchain.prompts import PromptTemplate\\n     template = PromptTemplate(template=\"Translate \\'{text}\\' to French.\", input_variables=[\"text\"])\\n     chain = LLMChain(llm=llm, prompt=template)\\n     print(chain.run(\"Hello, how are you?\"))\\n     ```\\n3. **Memory**\\n   - Enables conversational AI to retain context over multiple interactions.\\n   - Example:\\n     ```python\\n     from langchain.memory import ConversationBufferMemory\\n     memory = ConversationBufferMemory()\\n     memory.save_context({\"input\": \"Hello\"}, {\"output\": \"Hi there!\"})\\n     print(memory.load_memory_variables({}))'), Document(metadata={'producer': 'PyFPDF 1.7.2 http://pyfpdf.googlecode.com/', 'creator': 'PyPDF', 'creationdate': 'D:20250403132430', 'source': '/content/Data/LangChain_Core_Components.pdf', 'total_pages': 2, 'page': 1, 'page_label': '2'}, page_content='```\\n4. **Agents**\\n   - Agents use LLMs to determine the next action dynamically, rather than following a fixed\\nsequence.\\n   - Example:\\n     ```python\\n     from langchain.agents import initialize_agent, AgentType\\n     from langchain.tools import Tool\\n     tools = [Tool(name=\"Search\", func=lambda x: \"Result for \" + x, description=\"Search for\\ninformation\")]\\n     agent = initialize_agent(tools, llm, agent=AgentType.ZERO_SHOT_REACT_DESCRIPTION,\\nverbose=True)\\n     print(agent.run(\"Search for LangChain tutorials.\"))\\n     ```\\n5. **Tools**\\n   - Tools allow LangChain applications to interact with external APIs, databases, and more.\\nConclusion:\\nLangChain\\'s core components provide the foundation for building powerful AI-driven applications,\\nenabling structured workflows and advanced interactions.'), Document(metadata={'producer': 'Microsoft: Print To PDF', 'creator': 'PyPDF', 'creationdate': '2025-03-28T17:31:11+05:30', 'author': '', 'moddate': '2025-03-28T17:31:11+05:30', 'title': 'Langchain-Chains.ipynb - Colab', 'source': '/content/Data/langchain-chains.pdf', 'total_pages': 9, 'page': 0, 'page_label': '1'}, page_content=''), Document(metadata={'producer': 'Microsoft: Print To PDF', 'creator': 'PyPDF', 'creationdate': '2025-03-28T17:31:11+05:30', 'author': '', 'moddate': '2025-03-28T17:31:11+05:30', 'title': 'Langchain-Chains.ipynb - Colab', 'source': '/content/Data/langchain-chains.pdf', 'total_pages': 9, 'page': 1, 'page_label': '2'}, page_content=''), Document(metadata={'producer': 'Microsoft: Print To PDF', 'creator': 'PyPDF', 'creationdate': '2025-03-28T17:31:11+05:30', 'author': '', 'moddate': '2025-03-28T17:31:11+05:30', 'title': 'Langchain-Chains.ipynb - Colab', 'source': '/content/Data/langchain-chains.pdf', 'total_pages': 9, 'page': 2, 'page_label': '3'}, page_content=''), Document(metadata={'producer': 'Microsoft: Print To PDF', 'creator': 'PyPDF', 'creationdate': '2025-03-28T17:31:11+05:30', 'author': '', 'moddate': '2025-03-28T17:31:11+05:30', 'title': 'Langchain-Chains.ipynb - Colab', 'source': '/content/Data/langchain-chains.pdf', 'total_pages': 9, 'page': 3, 'page_label': '4'}, page_content=''), Document(metadata={'producer': 'Microsoft: Print To PDF', 'creator': 'PyPDF', 'creationdate': '2025-03-28T17:31:11+05:30', 'author': '', 'moddate': '2025-03-28T17:31:11+05:30', 'title': 'Langchain-Chains.ipynb - Colab', 'source': '/content/Data/langchain-chains.pdf', 'total_pages': 9, 'page': 4, 'page_label': '5'}, page_content=''), Document(metadata={'producer': 'Microsoft: Print To PDF', 'creator': 'PyPDF', 'creationdate': '2025-03-28T17:31:11+05:30', 'author': '', 'moddate': '2025-03-28T17:31:11+05:30', 'title': 'Langchain-Chains.ipynb - Colab', 'source': '/content/Data/langchain-chains.pdf', 'total_pages': 9, 'page': 5, 'page_label': '6'}, page_content=''), Document(metadata={'producer': 'Microsoft: Print To PDF', 'creator': 'PyPDF', 'creationdate': '2025-03-28T17:31:11+05:30', 'author': '', 'moddate': '2025-03-28T17:31:11+05:30', 'title': 'Langchain-Chains.ipynb - Colab', 'source': '/content/Data/langchain-chains.pdf', 'total_pages': 9, 'page': 6, 'page_label': '7'}, page_content=''), Document(metadata={'producer': 'Microsoft: Print To PDF', 'creator': 'PyPDF', 'creationdate': '2025-03-28T17:31:11+05:30', 'author': '', 'moddate': '2025-03-28T17:31:11+05:30', 'title': 'Langchain-Chains.ipynb - Colab', 'source': '/content/Data/langchain-chains.pdf', 'total_pages': 9, 'page': 7, 'page_label': '8'}, page_content=''), Document(metadata={'producer': 'Microsoft: Print To PDF', 'creator': 'PyPDF', 'creationdate': '2025-03-28T17:31:11+05:30', 'author': '', 'moddate': '2025-03-28T17:31:11+05:30', 'title': 'Langchain-Chains.ipynb - Colab', 'source': '/content/Data/langchain-chains.pdf', 'total_pages': 9, 'page': 8, 'page_label': '9'}, page_content=''), Document(metadata={'producer': 'PyFPDF 1.7.2 http://pyfpdf.googlecode.com/', 'creator': 'PyPDF', 'creationdate': 'D:20250403132430', 'source': '/content/Data/LangChain_Advanced_Components.pdf', 'total_pages': 2, 'page': 0, 'page_label': '1'}, page_content='LangChain Advanced Components\\nLangChain Advanced Components\\nBeyond the core components, LangChain provides advanced features that improve performance\\nand enhance capabilities.\\n1. **Vector Stores**\\n   - Used for semantic search and retrieval-augmented generation (RAG).\\n   - Example:\\n     ```python\\n     from langchain.vectorstores import FAISS\\n     from langchain.embeddings.openai import OpenAIEmbeddings\\n     embeddings = OpenAIEmbeddings(openai_api_key=\"your_api_key\")\\n     vectorstore = FAISS.from_texts([\"LangChain is powerful.\", \"AI is transforming industries.\"],\\nembeddings)\\n     print(vectorstore.similarity_search(\"Tell me about AI.\"))\\n     ```\\n2. **Retrieval-Augmented Generation (RAG)**\\n   - Enhances model responses by retrieving relevant documents before generating answers.\\n3. **Callbacks**\\n   - Allow monitoring and debugging of LangChain operations.\\n   - Example:\\n     ```python\\n     from langchain.callbacks import StdOutCallbackHandler\\n     handler = StdOutCallbackHandler()\\n     handler.on_llm_start({}, [\"Starting LLM...\"])\\n     ```\\n4. **Custom Agents**\\n   - Advanced agents can integrate multiple tools and decision-making processes.\\nConclusion:\\nLangChain\\'s advanced components extend its core functionality, enabling high-performance AI'), Document(metadata={'producer': 'PyFPDF 1.7.2 http://pyfpdf.googlecode.com/', 'creator': 'PyPDF', 'creationdate': 'D:20250403132430', 'source': '/content/Data/LangChain_Advanced_Components.pdf', 'total_pages': 2, 'page': 1, 'page_label': '2'}, page_content='applications with improved retrieval and interaction.'), Document(metadata={'producer': 'PyFPDF 1.7.2 http://pyfpdf.googlecode.com/', 'creator': 'PyPDF', 'creationdate': 'D:20250403132236', 'source': '/content/Data/LangChain_Introduction.pdf', 'total_pages': 2, 'page': 0, 'page_label': '1'}, page_content=\"Introduction to LangChain\\nLangChain is an open-source framework designed to help developers build applications powered by\\nlarge language models (LLMs). \\nIt provides tools, integrations, and abstractions to streamline the development of AI-driven\\napplications, allowing for enhanced reasoning, memory, and tool usage capabilities.\\nKey Features of LangChain:\\n1. LLM Integration: Easily connect with various language models, including OpenAI's GPT, Hugging\\nFace models, and other open-source alternatives.\\n2. Memory Management: Allows models to remember past interactions, enabling context-aware\\nconversations.\\n3. Agents & Tools: Supports the creation of AI agents that can interact with different APIs,\\ndatabases, and search engines.\\n4. Chains: Enables the combination of multiple calls to LLMs and other functions to perform complex\\ntasks.\\n5. Retrieval-Augmented Generation (RAG): Helps improve model accuracy by retrieving and\\nintegrating external data sources.\\n6. Evaluation Framework: Provides tools to assess model performance and optimize AI workflows.\\nCommon Use Cases:\\n- Chatbots & Virtual Assistants: Developing conversational AI with memory and context retention.\\n- Automated Data Analysis: Processing and summarizing large amounts of text from documents,\\ndatabases, and APIs.\\n- Code Generation & Assistance: Assisting developers with coding tasks using natural language.\\n- Content Generation: Automating content creation, including articles, reports, and summaries.\\n- Financial & Business Intelligence: Enhancing decision-making by extracting insights from data\\nsources.\\nGetting Started with LangChain:\\nTo install LangChain, use:\\npip install langchain\\nA simple example of using LangChain with OpenAI's GPT model:\\n```python\\nfrom langchain.chat_models import ChatOpenAI\\nfrom langchain.schema import HumanMessage\"), Document(metadata={'producer': 'PyFPDF 1.7.2 http://pyfpdf.googlecode.com/', 'creator': 'PyPDF', 'creationdate': 'D:20250403132236', 'source': '/content/Data/LangChain_Introduction.pdf', 'total_pages': 2, 'page': 1, 'page_label': '2'}, page_content='llm = ChatOpenAI(model_name=\"gpt-4\", openai_api_key=\"your_api_key\")\\nresponse = llm([HumanMessage(content=\"What is LangChain?\")])\\nprint(response.content)\\n```\\nConclusion:\\nLangChain simplifies the integration of large language models into applications, providing flexibility\\nand powerful features for AI-driven solutions. \\nWhether for chatbots, automation, or advanced reasoning, LangChain offers a structured approach\\nto leveraging AI in real-world applications.'), Document(metadata={'producer': 'Microsoft: Print To PDF', 'creator': 'PyPDF', 'creationdate': '2025-03-28T17:33:18+05:30', 'author': '', 'moddate': '2025-03-28T17:33:18+05:30', 'title': 'Langchain-Runnables.ipynb - Colab', 'source': '/content/Data/langchain-runnables-2.pdf', 'total_pages': 16, 'page': 0, 'page_label': '1'}, page_content=''), Document(metadata={'producer': 'Microsoft: Print To PDF', 'creator': 'PyPDF', 'creationdate': '2025-03-28T17:33:18+05:30', 'author': '', 'moddate': '2025-03-28T17:33:18+05:30', 'title': 'Langchain-Runnables.ipynb - Colab', 'source': '/content/Data/langchain-runnables-2.pdf', 'total_pages': 16, 'page': 1, 'page_label': '2'}, page_content=''), Document(metadata={'producer': 'Microsoft: Print To PDF', 'creator': 'PyPDF', 'creationdate': '2025-03-28T17:33:18+05:30', 'author': '', 'moddate': '2025-03-28T17:33:18+05:30', 'title': 'Langchain-Runnables.ipynb - Colab', 'source': '/content/Data/langchain-runnables-2.pdf', 'total_pages': 16, 'page': 2, 'page_label': '3'}, page_content=''), Document(metadata={'producer': 'Microsoft: Print To PDF', 'creator': 'PyPDF', 'creationdate': '2025-03-28T17:33:18+05:30', 'author': '', 'moddate': '2025-03-28T17:33:18+05:30', 'title': 'Langchain-Runnables.ipynb - Colab', 'source': '/content/Data/langchain-runnables-2.pdf', 'total_pages': 16, 'page': 3, 'page_label': '4'}, page_content=''), Document(metadata={'producer': 'Microsoft: Print To PDF', 'creator': 'PyPDF', 'creationdate': '2025-03-28T17:33:18+05:30', 'author': '', 'moddate': '2025-03-28T17:33:18+05:30', 'title': 'Langchain-Runnables.ipynb - Colab', 'source': '/content/Data/langchain-runnables-2.pdf', 'total_pages': 16, 'page': 4, 'page_label': '5'}, page_content=''), Document(metadata={'producer': 'Microsoft: Print To PDF', 'creator': 'PyPDF', 'creationdate': '2025-03-28T17:33:18+05:30', 'author': '', 'moddate': '2025-03-28T17:33:18+05:30', 'title': 'Langchain-Runnables.ipynb - Colab', 'source': '/content/Data/langchain-runnables-2.pdf', 'total_pages': 16, 'page': 5, 'page_label': '6'}, page_content=''), Document(metadata={'producer': 'Microsoft: Print To PDF', 'creator': 'PyPDF', 'creationdate': '2025-03-28T17:33:18+05:30', 'author': '', 'moddate': '2025-03-28T17:33:18+05:30', 'title': 'Langchain-Runnables.ipynb - Colab', 'source': '/content/Data/langchain-runnables-2.pdf', 'total_pages': 16, 'page': 6, 'page_label': '7'}, page_content=''), Document(metadata={'producer': 'Microsoft: Print To PDF', 'creator': 'PyPDF', 'creationdate': '2025-03-28T17:33:18+05:30', 'author': '', 'moddate': '2025-03-28T17:33:18+05:30', 'title': 'Langchain-Runnables.ipynb - Colab', 'source': '/content/Data/langchain-runnables-2.pdf', 'total_pages': 16, 'page': 7, 'page_label': '8'}, page_content=''), Document(metadata={'producer': 'Microsoft: Print To PDF', 'creator': 'PyPDF', 'creationdate': '2025-03-28T17:33:18+05:30', 'author': '', 'moddate': '2025-03-28T17:33:18+05:30', 'title': 'Langchain-Runnables.ipynb - Colab', 'source': '/content/Data/langchain-runnables-2.pdf', 'total_pages': 16, 'page': 8, 'page_label': '9'}, page_content=''), Document(metadata={'producer': 'Microsoft: Print To PDF', 'creator': 'PyPDF', 'creationdate': '2025-03-28T17:33:18+05:30', 'author': '', 'moddate': '2025-03-28T17:33:18+05:30', 'title': 'Langchain-Runnables.ipynb - Colab', 'source': '/content/Data/langchain-runnables-2.pdf', 'total_pages': 16, 'page': 9, 'page_label': '10'}, page_content=''), Document(metadata={'producer': 'Microsoft: Print To PDF', 'creator': 'PyPDF', 'creationdate': '2025-03-28T17:33:18+05:30', 'author': '', 'moddate': '2025-03-28T17:33:18+05:30', 'title': 'Langchain-Runnables.ipynb - Colab', 'source': '/content/Data/langchain-runnables-2.pdf', 'total_pages': 16, 'page': 10, 'page_label': '11'}, page_content=''), Document(metadata={'producer': 'Microsoft: Print To PDF', 'creator': 'PyPDF', 'creationdate': '2025-03-28T17:33:18+05:30', 'author': '', 'moddate': '2025-03-28T17:33:18+05:30', 'title': 'Langchain-Runnables.ipynb - Colab', 'source': '/content/Data/langchain-runnables-2.pdf', 'total_pages': 16, 'page': 11, 'page_label': '12'}, page_content=''), Document(metadata={'producer': 'Microsoft: Print To PDF', 'creator': 'PyPDF', 'creationdate': '2025-03-28T17:33:18+05:30', 'author': '', 'moddate': '2025-03-28T17:33:18+05:30', 'title': 'Langchain-Runnables.ipynb - Colab', 'source': '/content/Data/langchain-runnables-2.pdf', 'total_pages': 16, 'page': 12, 'page_label': '13'}, page_content=''), Document(metadata={'producer': 'Microsoft: Print To PDF', 'creator': 'PyPDF', 'creationdate': '2025-03-28T17:33:18+05:30', 'author': '', 'moddate': '2025-03-28T17:33:18+05:30', 'title': 'Langchain-Runnables.ipynb - Colab', 'source': '/content/Data/langchain-runnables-2.pdf', 'total_pages': 16, 'page': 13, 'page_label': '14'}, page_content=''), Document(metadata={'producer': 'Microsoft: Print To PDF', 'creator': 'PyPDF', 'creationdate': '2025-03-28T17:33:18+05:30', 'author': '', 'moddate': '2025-03-28T17:33:18+05:30', 'title': 'Langchain-Runnables.ipynb - Colab', 'source': '/content/Data/langchain-runnables-2.pdf', 'total_pages': 16, 'page': 14, 'page_label': '15'}, page_content=''), Document(metadata={'producer': 'Microsoft: Print To PDF', 'creator': 'PyPDF', 'creationdate': '2025-03-28T17:33:18+05:30', 'author': '', 'moddate': '2025-03-28T17:33:18+05:30', 'title': 'Langchain-Runnables.ipynb - Colab', 'source': '/content/Data/langchain-runnables-2.pdf', 'total_pages': 16, 'page': 15, 'page_label': '16'}, page_content=''), Document(metadata={'producer': 'Microsoft: Print To PDF', 'creator': 'PyPDF', 'creationdate': '2025-03-28T17:28:48+05:30', 'author': '', 'moddate': '2025-03-28T17:28:48+05:30', 'title': 'Langchain-Runnables.ipynb - Colab', 'source': '/content/Data/langchain-runnables.pdf', 'total_pages': 24, 'page': 0, 'page_label': '1'}, page_content=''), Document(metadata={'producer': 'Microsoft: Print To PDF', 'creator': 'PyPDF', 'creationdate': '2025-03-28T17:28:48+05:30', 'author': '', 'moddate': '2025-03-28T17:28:48+05:30', 'title': 'Langchain-Runnables.ipynb - Colab', 'source': '/content/Data/langchain-runnables.pdf', 'total_pages': 24, 'page': 1, 'page_label': '2'}, page_content=''), Document(metadata={'producer': 'Microsoft: Print To PDF', 'creator': 'PyPDF', 'creationdate': '2025-03-28T17:28:48+05:30', 'author': '', 'moddate': '2025-03-28T17:28:48+05:30', 'title': 'Langchain-Runnables.ipynb - Colab', 'source': '/content/Data/langchain-runnables.pdf', 'total_pages': 24, 'page': 2, 'page_label': '3'}, page_content=''), Document(metadata={'producer': 'Microsoft: Print To PDF', 'creator': 'PyPDF', 'creationdate': '2025-03-28T17:28:48+05:30', 'author': '', 'moddate': '2025-03-28T17:28:48+05:30', 'title': 'Langchain-Runnables.ipynb - Colab', 'source': '/content/Data/langchain-runnables.pdf', 'total_pages': 24, 'page': 3, 'page_label': '4'}, page_content=''), Document(metadata={'producer': 'Microsoft: Print To PDF', 'creator': 'PyPDF', 'creationdate': '2025-03-28T17:28:48+05:30', 'author': '', 'moddate': '2025-03-28T17:28:48+05:30', 'title': 'Langchain-Runnables.ipynb - Colab', 'source': '/content/Data/langchain-runnables.pdf', 'total_pages': 24, 'page': 4, 'page_label': '5'}, page_content=''), Document(metadata={'producer': 'Microsoft: Print To PDF', 'creator': 'PyPDF', 'creationdate': '2025-03-28T17:28:48+05:30', 'author': '', 'moddate': '2025-03-28T17:28:48+05:30', 'title': 'Langchain-Runnables.ipynb - Colab', 'source': '/content/Data/langchain-runnables.pdf', 'total_pages': 24, 'page': 5, 'page_label': '6'}, page_content=''), Document(metadata={'producer': 'Microsoft: Print To PDF', 'creator': 'PyPDF', 'creationdate': '2025-03-28T17:28:48+05:30', 'author': '', 'moddate': '2025-03-28T17:28:48+05:30', 'title': 'Langchain-Runnables.ipynb - Colab', 'source': '/content/Data/langchain-runnables.pdf', 'total_pages': 24, 'page': 6, 'page_label': '7'}, page_content=''), Document(metadata={'producer': 'Microsoft: Print To PDF', 'creator': 'PyPDF', 'creationdate': '2025-03-28T17:28:48+05:30', 'author': '', 'moddate': '2025-03-28T17:28:48+05:30', 'title': 'Langchain-Runnables.ipynb - Colab', 'source': '/content/Data/langchain-runnables.pdf', 'total_pages': 24, 'page': 7, 'page_label': '8'}, page_content=''), Document(metadata={'producer': 'Microsoft: Print To PDF', 'creator': 'PyPDF', 'creationdate': '2025-03-28T17:28:48+05:30', 'author': '', 'moddate': '2025-03-28T17:28:48+05:30', 'title': 'Langchain-Runnables.ipynb - Colab', 'source': '/content/Data/langchain-runnables.pdf', 'total_pages': 24, 'page': 8, 'page_label': '9'}, page_content=''), Document(metadata={'producer': 'Microsoft: Print To PDF', 'creator': 'PyPDF', 'creationdate': '2025-03-28T17:28:48+05:30', 'author': '', 'moddate': '2025-03-28T17:28:48+05:30', 'title': 'Langchain-Runnables.ipynb - Colab', 'source': '/content/Data/langchain-runnables.pdf', 'total_pages': 24, 'page': 9, 'page_label': '10'}, page_content=''), Document(metadata={'producer': 'Microsoft: Print To PDF', 'creator': 'PyPDF', 'creationdate': '2025-03-28T17:28:48+05:30', 'author': '', 'moddate': '2025-03-28T17:28:48+05:30', 'title': 'Langchain-Runnables.ipynb - Colab', 'source': '/content/Data/langchain-runnables.pdf', 'total_pages': 24, 'page': 10, 'page_label': '11'}, page_content=''), Document(metadata={'producer': 'Microsoft: Print To PDF', 'creator': 'PyPDF', 'creationdate': '2025-03-28T17:28:48+05:30', 'author': '', 'moddate': '2025-03-28T17:28:48+05:30', 'title': 'Langchain-Runnables.ipynb - Colab', 'source': '/content/Data/langchain-runnables.pdf', 'total_pages': 24, 'page': 11, 'page_label': '12'}, page_content=''), Document(metadata={'producer': 'Microsoft: Print To PDF', 'creator': 'PyPDF', 'creationdate': '2025-03-28T17:28:48+05:30', 'author': '', 'moddate': '2025-03-28T17:28:48+05:30', 'title': 'Langchain-Runnables.ipynb - Colab', 'source': '/content/Data/langchain-runnables.pdf', 'total_pages': 24, 'page': 12, 'page_label': '13'}, page_content=''), Document(metadata={'producer': 'Microsoft: Print To PDF', 'creator': 'PyPDF', 'creationdate': '2025-03-28T17:28:48+05:30', 'author': '', 'moddate': '2025-03-28T17:28:48+05:30', 'title': 'Langchain-Runnables.ipynb - Colab', 'source': '/content/Data/langchain-runnables.pdf', 'total_pages': 24, 'page': 13, 'page_label': '14'}, page_content=''), Document(metadata={'producer': 'Microsoft: Print To PDF', 'creator': 'PyPDF', 'creationdate': '2025-03-28T17:28:48+05:30', 'author': '', 'moddate': '2025-03-28T17:28:48+05:30', 'title': 'Langchain-Runnables.ipynb - Colab', 'source': '/content/Data/langchain-runnables.pdf', 'total_pages': 24, 'page': 14, 'page_label': '15'}, page_content=''), Document(metadata={'producer': 'Microsoft: Print To PDF', 'creator': 'PyPDF', 'creationdate': '2025-03-28T17:28:48+05:30', 'author': '', 'moddate': '2025-03-28T17:28:48+05:30', 'title': 'Langchain-Runnables.ipynb - Colab', 'source': '/content/Data/langchain-runnables.pdf', 'total_pages': 24, 'page': 15, 'page_label': '16'}, page_content=''), Document(metadata={'producer': 'Microsoft: Print To PDF', 'creator': 'PyPDF', 'creationdate': '2025-03-28T17:28:48+05:30', 'author': '', 'moddate': '2025-03-28T17:28:48+05:30', 'title': 'Langchain-Runnables.ipynb - Colab', 'source': '/content/Data/langchain-runnables.pdf', 'total_pages': 24, 'page': 16, 'page_label': '17'}, page_content=''), Document(metadata={'producer': 'Microsoft: Print To PDF', 'creator': 'PyPDF', 'creationdate': '2025-03-28T17:28:48+05:30', 'author': '', 'moddate': '2025-03-28T17:28:48+05:30', 'title': 'Langchain-Runnables.ipynb - Colab', 'source': '/content/Data/langchain-runnables.pdf', 'total_pages': 24, 'page': 17, 'page_label': '18'}, page_content=''), Document(metadata={'producer': 'Microsoft: Print To PDF', 'creator': 'PyPDF', 'creationdate': '2025-03-28T17:28:48+05:30', 'author': '', 'moddate': '2025-03-28T17:28:48+05:30', 'title': 'Langchain-Runnables.ipynb - Colab', 'source': '/content/Data/langchain-runnables.pdf', 'total_pages': 24, 'page': 18, 'page_label': '19'}, page_content=''), Document(metadata={'producer': 'Microsoft: Print To PDF', 'creator': 'PyPDF', 'creationdate': '2025-03-28T17:28:48+05:30', 'author': '', 'moddate': '2025-03-28T17:28:48+05:30', 'title': 'Langchain-Runnables.ipynb - Colab', 'source': '/content/Data/langchain-runnables.pdf', 'total_pages': 24, 'page': 19, 'page_label': '20'}, page_content=''), Document(metadata={'producer': 'Microsoft: Print To PDF', 'creator': 'PyPDF', 'creationdate': '2025-03-28T17:28:48+05:30', 'author': '', 'moddate': '2025-03-28T17:28:48+05:30', 'title': 'Langchain-Runnables.ipynb - Colab', 'source': '/content/Data/langchain-runnables.pdf', 'total_pages': 24, 'page': 20, 'page_label': '21'}, page_content=''), Document(metadata={'producer': 'Microsoft: Print To PDF', 'creator': 'PyPDF', 'creationdate': '2025-03-28T17:28:48+05:30', 'author': '', 'moddate': '2025-03-28T17:28:48+05:30', 'title': 'Langchain-Runnables.ipynb - Colab', 'source': '/content/Data/langchain-runnables.pdf', 'total_pages': 24, 'page': 21, 'page_label': '22'}, page_content=''), Document(metadata={'producer': 'Microsoft: Print To PDF', 'creator': 'PyPDF', 'creationdate': '2025-03-28T17:28:48+05:30', 'author': '', 'moddate': '2025-03-28T17:28:48+05:30', 'title': 'Langchain-Runnables.ipynb - Colab', 'source': '/content/Data/langchain-runnables.pdf', 'total_pages': 24, 'page': 22, 'page_label': '23'}, page_content=''), Document(metadata={'producer': 'Microsoft: Print To PDF', 'creator': 'PyPDF', 'creationdate': '2025-03-28T17:28:48+05:30', 'author': '', 'moddate': '2025-03-28T17:28:48+05:30', 'title': 'Langchain-Runnables.ipynb - Colab', 'source': '/content/Data/langchain-runnables.pdf', 'total_pages': 24, 'page': 23, 'page_label': '24'}, page_content='')]\n"
          ]
        }
      ]
    },
    {
      "cell_type": "code",
      "source": [
        "print(len(documents))"
      ],
      "metadata": {
        "colab": {
          "base_uri": "https://localhost:8080/"
        },
        "id": "jjn0GDLi1Vw_",
        "outputId": "dcc1ab38-4c8e-4ce2-b61d-05a9ba95207c"
      },
      "execution_count": 30,
      "outputs": [
        {
          "output_type": "stream",
          "name": "stdout",
          "text": [
            "55\n"
          ]
        }
      ]
    },
    {
      "cell_type": "code",
      "source": [
        "print(documents[0].page_content)\n",
        "print(documents[0].metadata)"
      ],
      "metadata": {
        "colab": {
          "base_uri": "https://localhost:8080/"
        },
        "id": "EUkTeFwo2Dqx",
        "outputId": "3ceb994a-478a-4206-8245-f67adcc1f777"
      },
      "execution_count": 31,
      "outputs": [
        {
          "output_type": "stream",
          "name": "stdout",
          "text": [
            "LangChain Core Components\n",
            "LangChain Core Components\n",
            "LangChain provides essential building blocks that make it easier to develop applications using large\n",
            "language models. These components help structure and manage interactions effectively.\n",
            "1. **LLMs (Large Language Models)**\n",
            "   - Interface with various language models such as OpenAI's GPT, Hugging Face models, and\n",
            "open-source alternatives.\n",
            "   - Example:\n",
            "     ```python\n",
            "     from langchain.llms import OpenAI\n",
            "     llm = OpenAI(model_name=\"gpt-4\", openai_api_key=\"your_api_key\")\n",
            "     print(llm.predict(\"Explain LangChain components.\"))\n",
            "     ```\n",
            "2. **Chains**\n",
            "   - Chains help link multiple components together, allowing structured workflows.\n",
            "   - Example:\n",
            "     ```python\n",
            "     from langchain.chains import LLMChain\n",
            "     from langchain.prompts import PromptTemplate\n",
            "     template = PromptTemplate(template=\"Translate '{text}' to French.\", input_variables=[\"text\"])\n",
            "     chain = LLMChain(llm=llm, prompt=template)\n",
            "     print(chain.run(\"Hello, how are you?\"))\n",
            "     ```\n",
            "3. **Memory**\n",
            "   - Enables conversational AI to retain context over multiple interactions.\n",
            "   - Example:\n",
            "     ```python\n",
            "     from langchain.memory import ConversationBufferMemory\n",
            "     memory = ConversationBufferMemory()\n",
            "     memory.save_context({\"input\": \"Hello\"}, {\"output\": \"Hi there!\"})\n",
            "     print(memory.load_memory_variables({}))\n",
            "{'producer': 'PyFPDF 1.7.2 http://pyfpdf.googlecode.com/', 'creator': 'PyPDF', 'creationdate': 'D:20250403132430', 'source': '/content/Data/LangChain_Core_Components.pdf', 'total_pages': 2, 'page': 0, 'page_label': '1'}\n"
          ]
        }
      ]
    },
    {
      "cell_type": "code",
      "source": [
        "print(documents[1].page_content)\n",
        "print(documents[1].metadata)"
      ],
      "metadata": {
        "colab": {
          "base_uri": "https://localhost:8080/"
        },
        "id": "ucYZ7KyP2Uzh",
        "outputId": "db3e14f1-214e-44a0-a725-e06d82b8a8aa"
      },
      "execution_count": 32,
      "outputs": [
        {
          "output_type": "stream",
          "name": "stdout",
          "text": [
            "```\n",
            "4. **Agents**\n",
            "   - Agents use LLMs to determine the next action dynamically, rather than following a fixed\n",
            "sequence.\n",
            "   - Example:\n",
            "     ```python\n",
            "     from langchain.agents import initialize_agent, AgentType\n",
            "     from langchain.tools import Tool\n",
            "     tools = [Tool(name=\"Search\", func=lambda x: \"Result for \" + x, description=\"Search for\n",
            "information\")]\n",
            "     agent = initialize_agent(tools, llm, agent=AgentType.ZERO_SHOT_REACT_DESCRIPTION,\n",
            "verbose=True)\n",
            "     print(agent.run(\"Search for LangChain tutorials.\"))\n",
            "     ```\n",
            "5. **Tools**\n",
            "   - Tools allow LangChain applications to interact with external APIs, databases, and more.\n",
            "Conclusion:\n",
            "LangChain's core components provide the foundation for building powerful AI-driven applications,\n",
            "enabling structured workflows and advanced interactions.\n",
            "{'producer': 'PyFPDF 1.7.2 http://pyfpdf.googlecode.com/', 'creator': 'PyPDF', 'creationdate': 'D:20250403132430', 'source': '/content/Data/LangChain_Core_Components.pdf', 'total_pages': 2, 'page': 1, 'page_label': '2'}\n"
          ]
        }
      ]
    },
    {
      "cell_type": "markdown",
      "source": [
        "## Limitation\n",
        "- Takes lots of time and memory"
      ],
      "metadata": {
        "id": "k4fPE4zb3RfD"
      }
    },
    {
      "cell_type": "markdown",
      "source": [
        "## Solution\n",
        "\n",
        "### Concepts of load vs lazy_load\n",
        "\n",
        "- load() :\n",
        "  -  **Eager Loading**: load everythings at once\n",
        "  - returns a **list of documents** objects\n",
        "  - loads all documents **immediately** into memory.\n",
        "  - Best when:\n",
        "     - The number document is **small**\n",
        "     - You want everything loaded upfront.\n",
        "- lazy_load() :\n",
        "  - **Lazy Loading:** loads on demands\n",
        "  - returns a **generator of document** objects.\n",
        "  - Documents are **not loaded at once**: they are fetched **at a time as needed.**\n",
        "  - Best When:\n",
        "    - you are dealing with **large documents or lots of files.**\n",
        "    - you want to **strream** processing (eg . chunking, embedding) without using lots of memory."
      ],
      "metadata": {
        "id": "ogkAc7Mo3ZKl"
      }
    },
    {
      "cell_type": "markdown",
      "source": [
        "## Code Example"
      ],
      "metadata": {
        "id": "KnvmpnDe5P-c"
      }
    },
    {
      "cell_type": "markdown",
      "source": [
        "## load() Function"
      ],
      "metadata": {
        "id": "T63KQ1Ka5nan"
      }
    },
    {
      "cell_type": "code",
      "source": [
        "from langchain_community.document_loaders import DirectoryLoader,PyPDFLoader\n",
        "import time\n",
        "\n",
        "\n",
        "loader = DirectoryLoader(\"/content/Data/\",glob=\"*.pdf\",loader_cls=PyPDFLoader)\n",
        "\n",
        "start_time = time.time()\n",
        "\n",
        "documents = loader.load()\n",
        "\n",
        "end_time = time.time()\n",
        "\n",
        "print(f\"Time taken: {end_time - start_time} seconds\")\n",
        "\n",
        "print(documents)"
      ],
      "metadata": {
        "colab": {
          "base_uri": "https://localhost:8080/"
        },
        "id": "WrH0qpP12dr5",
        "outputId": "b4662048-cfaa-4e71-aee7-0ea634ceaa23"
      },
      "execution_count": 37,
      "outputs": [
        {
          "output_type": "stream",
          "name": "stdout",
          "text": [
            "Time taken: 31.36706042289734 seconds\n",
            "[Document(metadata={'producer': 'PyFPDF 1.7.2 http://pyfpdf.googlecode.com/', 'creator': 'PyPDF', 'creationdate': 'D:20250403132430', 'source': '/content/Data/LangChain_Core_Components.pdf', 'total_pages': 2, 'page': 0, 'page_label': '1'}, page_content='LangChain Core Components\\nLangChain Core Components\\nLangChain provides essential building blocks that make it easier to develop applications using large\\nlanguage models. These components help structure and manage interactions effectively.\\n1. **LLMs (Large Language Models)**\\n   - Interface with various language models such as OpenAI\\'s GPT, Hugging Face models, and\\nopen-source alternatives.\\n   - Example:\\n     ```python\\n     from langchain.llms import OpenAI\\n     llm = OpenAI(model_name=\"gpt-4\", openai_api_key=\"your_api_key\")\\n     print(llm.predict(\"Explain LangChain components.\"))\\n     ```\\n2. **Chains**\\n   - Chains help link multiple components together, allowing structured workflows.\\n   - Example:\\n     ```python\\n     from langchain.chains import LLMChain\\n     from langchain.prompts import PromptTemplate\\n     template = PromptTemplate(template=\"Translate \\'{text}\\' to French.\", input_variables=[\"text\"])\\n     chain = LLMChain(llm=llm, prompt=template)\\n     print(chain.run(\"Hello, how are you?\"))\\n     ```\\n3. **Memory**\\n   - Enables conversational AI to retain context over multiple interactions.\\n   - Example:\\n     ```python\\n     from langchain.memory import ConversationBufferMemory\\n     memory = ConversationBufferMemory()\\n     memory.save_context({\"input\": \"Hello\"}, {\"output\": \"Hi there!\"})\\n     print(memory.load_memory_variables({}))'), Document(metadata={'producer': 'PyFPDF 1.7.2 http://pyfpdf.googlecode.com/', 'creator': 'PyPDF', 'creationdate': 'D:20250403132430', 'source': '/content/Data/LangChain_Core_Components.pdf', 'total_pages': 2, 'page': 1, 'page_label': '2'}, page_content='```\\n4. **Agents**\\n   - Agents use LLMs to determine the next action dynamically, rather than following a fixed\\nsequence.\\n   - Example:\\n     ```python\\n     from langchain.agents import initialize_agent, AgentType\\n     from langchain.tools import Tool\\n     tools = [Tool(name=\"Search\", func=lambda x: \"Result for \" + x, description=\"Search for\\ninformation\")]\\n     agent = initialize_agent(tools, llm, agent=AgentType.ZERO_SHOT_REACT_DESCRIPTION,\\nverbose=True)\\n     print(agent.run(\"Search for LangChain tutorials.\"))\\n     ```\\n5. **Tools**\\n   - Tools allow LangChain applications to interact with external APIs, databases, and more.\\nConclusion:\\nLangChain\\'s core components provide the foundation for building powerful AI-driven applications,\\nenabling structured workflows and advanced interactions.'), Document(metadata={'producer': 'Microsoft: Print To PDF', 'creator': 'PyPDF', 'creationdate': '2025-03-28T17:31:11+05:30', 'author': '', 'moddate': '2025-03-28T17:31:11+05:30', 'title': 'Langchain-Chains.ipynb - Colab', 'source': '/content/Data/langchain-chains.pdf', 'total_pages': 9, 'page': 0, 'page_label': '1'}, page_content=''), Document(metadata={'producer': 'Microsoft: Print To PDF', 'creator': 'PyPDF', 'creationdate': '2025-03-28T17:31:11+05:30', 'author': '', 'moddate': '2025-03-28T17:31:11+05:30', 'title': 'Langchain-Chains.ipynb - Colab', 'source': '/content/Data/langchain-chains.pdf', 'total_pages': 9, 'page': 1, 'page_label': '2'}, page_content=''), Document(metadata={'producer': 'Microsoft: Print To PDF', 'creator': 'PyPDF', 'creationdate': '2025-03-28T17:31:11+05:30', 'author': '', 'moddate': '2025-03-28T17:31:11+05:30', 'title': 'Langchain-Chains.ipynb - Colab', 'source': '/content/Data/langchain-chains.pdf', 'total_pages': 9, 'page': 2, 'page_label': '3'}, page_content=''), Document(metadata={'producer': 'Microsoft: Print To PDF', 'creator': 'PyPDF', 'creationdate': '2025-03-28T17:31:11+05:30', 'author': '', 'moddate': '2025-03-28T17:31:11+05:30', 'title': 'Langchain-Chains.ipynb - Colab', 'source': '/content/Data/langchain-chains.pdf', 'total_pages': 9, 'page': 3, 'page_label': '4'}, page_content=''), Document(metadata={'producer': 'Microsoft: Print To PDF', 'creator': 'PyPDF', 'creationdate': '2025-03-28T17:31:11+05:30', 'author': '', 'moddate': '2025-03-28T17:31:11+05:30', 'title': 'Langchain-Chains.ipynb - Colab', 'source': '/content/Data/langchain-chains.pdf', 'total_pages': 9, 'page': 4, 'page_label': '5'}, page_content=''), Document(metadata={'producer': 'Microsoft: Print To PDF', 'creator': 'PyPDF', 'creationdate': '2025-03-28T17:31:11+05:30', 'author': '', 'moddate': '2025-03-28T17:31:11+05:30', 'title': 'Langchain-Chains.ipynb - Colab', 'source': '/content/Data/langchain-chains.pdf', 'total_pages': 9, 'page': 5, 'page_label': '6'}, page_content=''), Document(metadata={'producer': 'Microsoft: Print To PDF', 'creator': 'PyPDF', 'creationdate': '2025-03-28T17:31:11+05:30', 'author': '', 'moddate': '2025-03-28T17:31:11+05:30', 'title': 'Langchain-Chains.ipynb - Colab', 'source': '/content/Data/langchain-chains.pdf', 'total_pages': 9, 'page': 6, 'page_label': '7'}, page_content=''), Document(metadata={'producer': 'Microsoft: Print To PDF', 'creator': 'PyPDF', 'creationdate': '2025-03-28T17:31:11+05:30', 'author': '', 'moddate': '2025-03-28T17:31:11+05:30', 'title': 'Langchain-Chains.ipynb - Colab', 'source': '/content/Data/langchain-chains.pdf', 'total_pages': 9, 'page': 7, 'page_label': '8'}, page_content=''), Document(metadata={'producer': 'Microsoft: Print To PDF', 'creator': 'PyPDF', 'creationdate': '2025-03-28T17:31:11+05:30', 'author': '', 'moddate': '2025-03-28T17:31:11+05:30', 'title': 'Langchain-Chains.ipynb - Colab', 'source': '/content/Data/langchain-chains.pdf', 'total_pages': 9, 'page': 8, 'page_label': '9'}, page_content=''), Document(metadata={'producer': 'PyFPDF 1.7.2 http://pyfpdf.googlecode.com/', 'creator': 'PyPDF', 'creationdate': 'D:20250403132430', 'source': '/content/Data/LangChain_Advanced_Components.pdf', 'total_pages': 2, 'page': 0, 'page_label': '1'}, page_content='LangChain Advanced Components\\nLangChain Advanced Components\\nBeyond the core components, LangChain provides advanced features that improve performance\\nand enhance capabilities.\\n1. **Vector Stores**\\n   - Used for semantic search and retrieval-augmented generation (RAG).\\n   - Example:\\n     ```python\\n     from langchain.vectorstores import FAISS\\n     from langchain.embeddings.openai import OpenAIEmbeddings\\n     embeddings = OpenAIEmbeddings(openai_api_key=\"your_api_key\")\\n     vectorstore = FAISS.from_texts([\"LangChain is powerful.\", \"AI is transforming industries.\"],\\nembeddings)\\n     print(vectorstore.similarity_search(\"Tell me about AI.\"))\\n     ```\\n2. **Retrieval-Augmented Generation (RAG)**\\n   - Enhances model responses by retrieving relevant documents before generating answers.\\n3. **Callbacks**\\n   - Allow monitoring and debugging of LangChain operations.\\n   - Example:\\n     ```python\\n     from langchain.callbacks import StdOutCallbackHandler\\n     handler = StdOutCallbackHandler()\\n     handler.on_llm_start({}, [\"Starting LLM...\"])\\n     ```\\n4. **Custom Agents**\\n   - Advanced agents can integrate multiple tools and decision-making processes.\\nConclusion:\\nLangChain\\'s advanced components extend its core functionality, enabling high-performance AI'), Document(metadata={'producer': 'PyFPDF 1.7.2 http://pyfpdf.googlecode.com/', 'creator': 'PyPDF', 'creationdate': 'D:20250403132430', 'source': '/content/Data/LangChain_Advanced_Components.pdf', 'total_pages': 2, 'page': 1, 'page_label': '2'}, page_content='applications with improved retrieval and interaction.'), Document(metadata={'producer': 'PyFPDF 1.7.2 http://pyfpdf.googlecode.com/', 'creator': 'PyPDF', 'creationdate': 'D:20250403132236', 'source': '/content/Data/LangChain_Introduction.pdf', 'total_pages': 2, 'page': 0, 'page_label': '1'}, page_content=\"Introduction to LangChain\\nLangChain is an open-source framework designed to help developers build applications powered by\\nlarge language models (LLMs). \\nIt provides tools, integrations, and abstractions to streamline the development of AI-driven\\napplications, allowing for enhanced reasoning, memory, and tool usage capabilities.\\nKey Features of LangChain:\\n1. LLM Integration: Easily connect with various language models, including OpenAI's GPT, Hugging\\nFace models, and other open-source alternatives.\\n2. Memory Management: Allows models to remember past interactions, enabling context-aware\\nconversations.\\n3. Agents & Tools: Supports the creation of AI agents that can interact with different APIs,\\ndatabases, and search engines.\\n4. Chains: Enables the combination of multiple calls to LLMs and other functions to perform complex\\ntasks.\\n5. Retrieval-Augmented Generation (RAG): Helps improve model accuracy by retrieving and\\nintegrating external data sources.\\n6. Evaluation Framework: Provides tools to assess model performance and optimize AI workflows.\\nCommon Use Cases:\\n- Chatbots & Virtual Assistants: Developing conversational AI with memory and context retention.\\n- Automated Data Analysis: Processing and summarizing large amounts of text from documents,\\ndatabases, and APIs.\\n- Code Generation & Assistance: Assisting developers with coding tasks using natural language.\\n- Content Generation: Automating content creation, including articles, reports, and summaries.\\n- Financial & Business Intelligence: Enhancing decision-making by extracting insights from data\\nsources.\\nGetting Started with LangChain:\\nTo install LangChain, use:\\npip install langchain\\nA simple example of using LangChain with OpenAI's GPT model:\\n```python\\nfrom langchain.chat_models import ChatOpenAI\\nfrom langchain.schema import HumanMessage\"), Document(metadata={'producer': 'PyFPDF 1.7.2 http://pyfpdf.googlecode.com/', 'creator': 'PyPDF', 'creationdate': 'D:20250403132236', 'source': '/content/Data/LangChain_Introduction.pdf', 'total_pages': 2, 'page': 1, 'page_label': '2'}, page_content='llm = ChatOpenAI(model_name=\"gpt-4\", openai_api_key=\"your_api_key\")\\nresponse = llm([HumanMessage(content=\"What is LangChain?\")])\\nprint(response.content)\\n```\\nConclusion:\\nLangChain simplifies the integration of large language models into applications, providing flexibility\\nand powerful features for AI-driven solutions. \\nWhether for chatbots, automation, or advanced reasoning, LangChain offers a structured approach\\nto leveraging AI in real-world applications.'), Document(metadata={'producer': 'Microsoft: Print To PDF', 'creator': 'PyPDF', 'creationdate': '2025-03-28T17:33:18+05:30', 'author': '', 'moddate': '2025-03-28T17:33:18+05:30', 'title': 'Langchain-Runnables.ipynb - Colab', 'source': '/content/Data/langchain-runnables-2.pdf', 'total_pages': 16, 'page': 0, 'page_label': '1'}, page_content=''), Document(metadata={'producer': 'Microsoft: Print To PDF', 'creator': 'PyPDF', 'creationdate': '2025-03-28T17:33:18+05:30', 'author': '', 'moddate': '2025-03-28T17:33:18+05:30', 'title': 'Langchain-Runnables.ipynb - Colab', 'source': '/content/Data/langchain-runnables-2.pdf', 'total_pages': 16, 'page': 1, 'page_label': '2'}, page_content=''), Document(metadata={'producer': 'Microsoft: Print To PDF', 'creator': 'PyPDF', 'creationdate': '2025-03-28T17:33:18+05:30', 'author': '', 'moddate': '2025-03-28T17:33:18+05:30', 'title': 'Langchain-Runnables.ipynb - Colab', 'source': '/content/Data/langchain-runnables-2.pdf', 'total_pages': 16, 'page': 2, 'page_label': '3'}, page_content=''), Document(metadata={'producer': 'Microsoft: Print To PDF', 'creator': 'PyPDF', 'creationdate': '2025-03-28T17:33:18+05:30', 'author': '', 'moddate': '2025-03-28T17:33:18+05:30', 'title': 'Langchain-Runnables.ipynb - Colab', 'source': '/content/Data/langchain-runnables-2.pdf', 'total_pages': 16, 'page': 3, 'page_label': '4'}, page_content=''), Document(metadata={'producer': 'Microsoft: Print To PDF', 'creator': 'PyPDF', 'creationdate': '2025-03-28T17:33:18+05:30', 'author': '', 'moddate': '2025-03-28T17:33:18+05:30', 'title': 'Langchain-Runnables.ipynb - Colab', 'source': '/content/Data/langchain-runnables-2.pdf', 'total_pages': 16, 'page': 4, 'page_label': '5'}, page_content=''), Document(metadata={'producer': 'Microsoft: Print To PDF', 'creator': 'PyPDF', 'creationdate': '2025-03-28T17:33:18+05:30', 'author': '', 'moddate': '2025-03-28T17:33:18+05:30', 'title': 'Langchain-Runnables.ipynb - Colab', 'source': '/content/Data/langchain-runnables-2.pdf', 'total_pages': 16, 'page': 5, 'page_label': '6'}, page_content=''), Document(metadata={'producer': 'Microsoft: Print To PDF', 'creator': 'PyPDF', 'creationdate': '2025-03-28T17:33:18+05:30', 'author': '', 'moddate': '2025-03-28T17:33:18+05:30', 'title': 'Langchain-Runnables.ipynb - Colab', 'source': '/content/Data/langchain-runnables-2.pdf', 'total_pages': 16, 'page': 6, 'page_label': '7'}, page_content=''), Document(metadata={'producer': 'Microsoft: Print To PDF', 'creator': 'PyPDF', 'creationdate': '2025-03-28T17:33:18+05:30', 'author': '', 'moddate': '2025-03-28T17:33:18+05:30', 'title': 'Langchain-Runnables.ipynb - Colab', 'source': '/content/Data/langchain-runnables-2.pdf', 'total_pages': 16, 'page': 7, 'page_label': '8'}, page_content=''), Document(metadata={'producer': 'Microsoft: Print To PDF', 'creator': 'PyPDF', 'creationdate': '2025-03-28T17:33:18+05:30', 'author': '', 'moddate': '2025-03-28T17:33:18+05:30', 'title': 'Langchain-Runnables.ipynb - Colab', 'source': '/content/Data/langchain-runnables-2.pdf', 'total_pages': 16, 'page': 8, 'page_label': '9'}, page_content=''), Document(metadata={'producer': 'Microsoft: Print To PDF', 'creator': 'PyPDF', 'creationdate': '2025-03-28T17:33:18+05:30', 'author': '', 'moddate': '2025-03-28T17:33:18+05:30', 'title': 'Langchain-Runnables.ipynb - Colab', 'source': '/content/Data/langchain-runnables-2.pdf', 'total_pages': 16, 'page': 9, 'page_label': '10'}, page_content=''), Document(metadata={'producer': 'Microsoft: Print To PDF', 'creator': 'PyPDF', 'creationdate': '2025-03-28T17:33:18+05:30', 'author': '', 'moddate': '2025-03-28T17:33:18+05:30', 'title': 'Langchain-Runnables.ipynb - Colab', 'source': '/content/Data/langchain-runnables-2.pdf', 'total_pages': 16, 'page': 10, 'page_label': '11'}, page_content=''), Document(metadata={'producer': 'Microsoft: Print To PDF', 'creator': 'PyPDF', 'creationdate': '2025-03-28T17:33:18+05:30', 'author': '', 'moddate': '2025-03-28T17:33:18+05:30', 'title': 'Langchain-Runnables.ipynb - Colab', 'source': '/content/Data/langchain-runnables-2.pdf', 'total_pages': 16, 'page': 11, 'page_label': '12'}, page_content=''), Document(metadata={'producer': 'Microsoft: Print To PDF', 'creator': 'PyPDF', 'creationdate': '2025-03-28T17:33:18+05:30', 'author': '', 'moddate': '2025-03-28T17:33:18+05:30', 'title': 'Langchain-Runnables.ipynb - Colab', 'source': '/content/Data/langchain-runnables-2.pdf', 'total_pages': 16, 'page': 12, 'page_label': '13'}, page_content=''), Document(metadata={'producer': 'Microsoft: Print To PDF', 'creator': 'PyPDF', 'creationdate': '2025-03-28T17:33:18+05:30', 'author': '', 'moddate': '2025-03-28T17:33:18+05:30', 'title': 'Langchain-Runnables.ipynb - Colab', 'source': '/content/Data/langchain-runnables-2.pdf', 'total_pages': 16, 'page': 13, 'page_label': '14'}, page_content=''), Document(metadata={'producer': 'Microsoft: Print To PDF', 'creator': 'PyPDF', 'creationdate': '2025-03-28T17:33:18+05:30', 'author': '', 'moddate': '2025-03-28T17:33:18+05:30', 'title': 'Langchain-Runnables.ipynb - Colab', 'source': '/content/Data/langchain-runnables-2.pdf', 'total_pages': 16, 'page': 14, 'page_label': '15'}, page_content=''), Document(metadata={'producer': 'Microsoft: Print To PDF', 'creator': 'PyPDF', 'creationdate': '2025-03-28T17:33:18+05:30', 'author': '', 'moddate': '2025-03-28T17:33:18+05:30', 'title': 'Langchain-Runnables.ipynb - Colab', 'source': '/content/Data/langchain-runnables-2.pdf', 'total_pages': 16, 'page': 15, 'page_label': '16'}, page_content=''), Document(metadata={'producer': 'Microsoft: Print To PDF', 'creator': 'PyPDF', 'creationdate': '2025-03-28T17:28:48+05:30', 'author': '', 'moddate': '2025-03-28T17:28:48+05:30', 'title': 'Langchain-Runnables.ipynb - Colab', 'source': '/content/Data/langchain-runnables.pdf', 'total_pages': 24, 'page': 0, 'page_label': '1'}, page_content=''), Document(metadata={'producer': 'Microsoft: Print To PDF', 'creator': 'PyPDF', 'creationdate': '2025-03-28T17:28:48+05:30', 'author': '', 'moddate': '2025-03-28T17:28:48+05:30', 'title': 'Langchain-Runnables.ipynb - Colab', 'source': '/content/Data/langchain-runnables.pdf', 'total_pages': 24, 'page': 1, 'page_label': '2'}, page_content=''), Document(metadata={'producer': 'Microsoft: Print To PDF', 'creator': 'PyPDF', 'creationdate': '2025-03-28T17:28:48+05:30', 'author': '', 'moddate': '2025-03-28T17:28:48+05:30', 'title': 'Langchain-Runnables.ipynb - Colab', 'source': '/content/Data/langchain-runnables.pdf', 'total_pages': 24, 'page': 2, 'page_label': '3'}, page_content=''), Document(metadata={'producer': 'Microsoft: Print To PDF', 'creator': 'PyPDF', 'creationdate': '2025-03-28T17:28:48+05:30', 'author': '', 'moddate': '2025-03-28T17:28:48+05:30', 'title': 'Langchain-Runnables.ipynb - Colab', 'source': '/content/Data/langchain-runnables.pdf', 'total_pages': 24, 'page': 3, 'page_label': '4'}, page_content=''), Document(metadata={'producer': 'Microsoft: Print To PDF', 'creator': 'PyPDF', 'creationdate': '2025-03-28T17:28:48+05:30', 'author': '', 'moddate': '2025-03-28T17:28:48+05:30', 'title': 'Langchain-Runnables.ipynb - Colab', 'source': '/content/Data/langchain-runnables.pdf', 'total_pages': 24, 'page': 4, 'page_label': '5'}, page_content=''), Document(metadata={'producer': 'Microsoft: Print To PDF', 'creator': 'PyPDF', 'creationdate': '2025-03-28T17:28:48+05:30', 'author': '', 'moddate': '2025-03-28T17:28:48+05:30', 'title': 'Langchain-Runnables.ipynb - Colab', 'source': '/content/Data/langchain-runnables.pdf', 'total_pages': 24, 'page': 5, 'page_label': '6'}, page_content=''), Document(metadata={'producer': 'Microsoft: Print To PDF', 'creator': 'PyPDF', 'creationdate': '2025-03-28T17:28:48+05:30', 'author': '', 'moddate': '2025-03-28T17:28:48+05:30', 'title': 'Langchain-Runnables.ipynb - Colab', 'source': '/content/Data/langchain-runnables.pdf', 'total_pages': 24, 'page': 6, 'page_label': '7'}, page_content=''), Document(metadata={'producer': 'Microsoft: Print To PDF', 'creator': 'PyPDF', 'creationdate': '2025-03-28T17:28:48+05:30', 'author': '', 'moddate': '2025-03-28T17:28:48+05:30', 'title': 'Langchain-Runnables.ipynb - Colab', 'source': '/content/Data/langchain-runnables.pdf', 'total_pages': 24, 'page': 7, 'page_label': '8'}, page_content=''), Document(metadata={'producer': 'Microsoft: Print To PDF', 'creator': 'PyPDF', 'creationdate': '2025-03-28T17:28:48+05:30', 'author': '', 'moddate': '2025-03-28T17:28:48+05:30', 'title': 'Langchain-Runnables.ipynb - Colab', 'source': '/content/Data/langchain-runnables.pdf', 'total_pages': 24, 'page': 8, 'page_label': '9'}, page_content=''), Document(metadata={'producer': 'Microsoft: Print To PDF', 'creator': 'PyPDF', 'creationdate': '2025-03-28T17:28:48+05:30', 'author': '', 'moddate': '2025-03-28T17:28:48+05:30', 'title': 'Langchain-Runnables.ipynb - Colab', 'source': '/content/Data/langchain-runnables.pdf', 'total_pages': 24, 'page': 9, 'page_label': '10'}, page_content=''), Document(metadata={'producer': 'Microsoft: Print To PDF', 'creator': 'PyPDF', 'creationdate': '2025-03-28T17:28:48+05:30', 'author': '', 'moddate': '2025-03-28T17:28:48+05:30', 'title': 'Langchain-Runnables.ipynb - Colab', 'source': '/content/Data/langchain-runnables.pdf', 'total_pages': 24, 'page': 10, 'page_label': '11'}, page_content=''), Document(metadata={'producer': 'Microsoft: Print To PDF', 'creator': 'PyPDF', 'creationdate': '2025-03-28T17:28:48+05:30', 'author': '', 'moddate': '2025-03-28T17:28:48+05:30', 'title': 'Langchain-Runnables.ipynb - Colab', 'source': '/content/Data/langchain-runnables.pdf', 'total_pages': 24, 'page': 11, 'page_label': '12'}, page_content=''), Document(metadata={'producer': 'Microsoft: Print To PDF', 'creator': 'PyPDF', 'creationdate': '2025-03-28T17:28:48+05:30', 'author': '', 'moddate': '2025-03-28T17:28:48+05:30', 'title': 'Langchain-Runnables.ipynb - Colab', 'source': '/content/Data/langchain-runnables.pdf', 'total_pages': 24, 'page': 12, 'page_label': '13'}, page_content=''), Document(metadata={'producer': 'Microsoft: Print To PDF', 'creator': 'PyPDF', 'creationdate': '2025-03-28T17:28:48+05:30', 'author': '', 'moddate': '2025-03-28T17:28:48+05:30', 'title': 'Langchain-Runnables.ipynb - Colab', 'source': '/content/Data/langchain-runnables.pdf', 'total_pages': 24, 'page': 13, 'page_label': '14'}, page_content=''), Document(metadata={'producer': 'Microsoft: Print To PDF', 'creator': 'PyPDF', 'creationdate': '2025-03-28T17:28:48+05:30', 'author': '', 'moddate': '2025-03-28T17:28:48+05:30', 'title': 'Langchain-Runnables.ipynb - Colab', 'source': '/content/Data/langchain-runnables.pdf', 'total_pages': 24, 'page': 14, 'page_label': '15'}, page_content=''), Document(metadata={'producer': 'Microsoft: Print To PDF', 'creator': 'PyPDF', 'creationdate': '2025-03-28T17:28:48+05:30', 'author': '', 'moddate': '2025-03-28T17:28:48+05:30', 'title': 'Langchain-Runnables.ipynb - Colab', 'source': '/content/Data/langchain-runnables.pdf', 'total_pages': 24, 'page': 15, 'page_label': '16'}, page_content=''), Document(metadata={'producer': 'Microsoft: Print To PDF', 'creator': 'PyPDF', 'creationdate': '2025-03-28T17:28:48+05:30', 'author': '', 'moddate': '2025-03-28T17:28:48+05:30', 'title': 'Langchain-Runnables.ipynb - Colab', 'source': '/content/Data/langchain-runnables.pdf', 'total_pages': 24, 'page': 16, 'page_label': '17'}, page_content=''), Document(metadata={'producer': 'Microsoft: Print To PDF', 'creator': 'PyPDF', 'creationdate': '2025-03-28T17:28:48+05:30', 'author': '', 'moddate': '2025-03-28T17:28:48+05:30', 'title': 'Langchain-Runnables.ipynb - Colab', 'source': '/content/Data/langchain-runnables.pdf', 'total_pages': 24, 'page': 17, 'page_label': '18'}, page_content=''), Document(metadata={'producer': 'Microsoft: Print To PDF', 'creator': 'PyPDF', 'creationdate': '2025-03-28T17:28:48+05:30', 'author': '', 'moddate': '2025-03-28T17:28:48+05:30', 'title': 'Langchain-Runnables.ipynb - Colab', 'source': '/content/Data/langchain-runnables.pdf', 'total_pages': 24, 'page': 18, 'page_label': '19'}, page_content=''), Document(metadata={'producer': 'Microsoft: Print To PDF', 'creator': 'PyPDF', 'creationdate': '2025-03-28T17:28:48+05:30', 'author': '', 'moddate': '2025-03-28T17:28:48+05:30', 'title': 'Langchain-Runnables.ipynb - Colab', 'source': '/content/Data/langchain-runnables.pdf', 'total_pages': 24, 'page': 19, 'page_label': '20'}, page_content=''), Document(metadata={'producer': 'Microsoft: Print To PDF', 'creator': 'PyPDF', 'creationdate': '2025-03-28T17:28:48+05:30', 'author': '', 'moddate': '2025-03-28T17:28:48+05:30', 'title': 'Langchain-Runnables.ipynb - Colab', 'source': '/content/Data/langchain-runnables.pdf', 'total_pages': 24, 'page': 20, 'page_label': '21'}, page_content=''), Document(metadata={'producer': 'Microsoft: Print To PDF', 'creator': 'PyPDF', 'creationdate': '2025-03-28T17:28:48+05:30', 'author': '', 'moddate': '2025-03-28T17:28:48+05:30', 'title': 'Langchain-Runnables.ipynb - Colab', 'source': '/content/Data/langchain-runnables.pdf', 'total_pages': 24, 'page': 21, 'page_label': '22'}, page_content=''), Document(metadata={'producer': 'Microsoft: Print To PDF', 'creator': 'PyPDF', 'creationdate': '2025-03-28T17:28:48+05:30', 'author': '', 'moddate': '2025-03-28T17:28:48+05:30', 'title': 'Langchain-Runnables.ipynb - Colab', 'source': '/content/Data/langchain-runnables.pdf', 'total_pages': 24, 'page': 22, 'page_label': '23'}, page_content=''), Document(metadata={'producer': 'Microsoft: Print To PDF', 'creator': 'PyPDF', 'creationdate': '2025-03-28T17:28:48+05:30', 'author': '', 'moddate': '2025-03-28T17:28:48+05:30', 'title': 'Langchain-Runnables.ipynb - Colab', 'source': '/content/Data/langchain-runnables.pdf', 'total_pages': 24, 'page': 23, 'page_label': '24'}, page_content='')]\n"
          ]
        }
      ]
    },
    {
      "cell_type": "markdown",
      "source": [
        "## lazy_load() function"
      ],
      "metadata": {
        "id": "BguvpC1v5ySp"
      }
    },
    {
      "cell_type": "code",
      "source": [
        "from langchain_community.document_loaders import DirectoryLoader,PyPDFLoader\n",
        "import time\n",
        "\n",
        "\n",
        "loader = DirectoryLoader(\"/content/Data/\",glob=\"*.pdf\",loader_cls=PyPDFLoader)\n",
        "\n",
        "start_time = time.time()\n",
        "\n",
        "documents = loader.lazy_load()\n",
        "\n",
        "end_time = time.time()\n",
        "\n",
        "print(f\"Time taken: {end_time - start_time} seconds\")\n",
        "\n",
        "for doc in documents:\n",
        "  print(doc.metadata)"
      ],
      "metadata": {
        "colab": {
          "base_uri": "https://localhost:8080/"
        },
        "id": "OQDgJnNK2mxL",
        "outputId": "b6498027-6e51-4307-ef13-bf1680472dc0"
      },
      "execution_count": 39,
      "outputs": [
        {
          "output_type": "stream",
          "name": "stdout",
          "text": [
            "Time taken: 0.00015115737915039062 seconds\n",
            "{'producer': 'PyFPDF 1.7.2 http://pyfpdf.googlecode.com/', 'creator': 'PyPDF', 'creationdate': 'D:20250403132430', 'source': '/content/Data/LangChain_Core_Components.pdf', 'total_pages': 2, 'page': 0, 'page_label': '1'}\n",
            "{'producer': 'PyFPDF 1.7.2 http://pyfpdf.googlecode.com/', 'creator': 'PyPDF', 'creationdate': 'D:20250403132430', 'source': '/content/Data/LangChain_Core_Components.pdf', 'total_pages': 2, 'page': 1, 'page_label': '2'}\n",
            "{'producer': 'Microsoft: Print To PDF', 'creator': 'PyPDF', 'creationdate': '2025-03-28T17:31:11+05:30', 'author': '', 'moddate': '2025-03-28T17:31:11+05:30', 'title': 'Langchain-Chains.ipynb - Colab', 'source': '/content/Data/langchain-chains.pdf', 'total_pages': 9, 'page': 0, 'page_label': '1'}\n",
            "{'producer': 'Microsoft: Print To PDF', 'creator': 'PyPDF', 'creationdate': '2025-03-28T17:31:11+05:30', 'author': '', 'moddate': '2025-03-28T17:31:11+05:30', 'title': 'Langchain-Chains.ipynb - Colab', 'source': '/content/Data/langchain-chains.pdf', 'total_pages': 9, 'page': 1, 'page_label': '2'}\n",
            "{'producer': 'Microsoft: Print To PDF', 'creator': 'PyPDF', 'creationdate': '2025-03-28T17:31:11+05:30', 'author': '', 'moddate': '2025-03-28T17:31:11+05:30', 'title': 'Langchain-Chains.ipynb - Colab', 'source': '/content/Data/langchain-chains.pdf', 'total_pages': 9, 'page': 2, 'page_label': '3'}\n",
            "{'producer': 'Microsoft: Print To PDF', 'creator': 'PyPDF', 'creationdate': '2025-03-28T17:31:11+05:30', 'author': '', 'moddate': '2025-03-28T17:31:11+05:30', 'title': 'Langchain-Chains.ipynb - Colab', 'source': '/content/Data/langchain-chains.pdf', 'total_pages': 9, 'page': 3, 'page_label': '4'}\n",
            "{'producer': 'Microsoft: Print To PDF', 'creator': 'PyPDF', 'creationdate': '2025-03-28T17:31:11+05:30', 'author': '', 'moddate': '2025-03-28T17:31:11+05:30', 'title': 'Langchain-Chains.ipynb - Colab', 'source': '/content/Data/langchain-chains.pdf', 'total_pages': 9, 'page': 4, 'page_label': '5'}\n",
            "{'producer': 'Microsoft: Print To PDF', 'creator': 'PyPDF', 'creationdate': '2025-03-28T17:31:11+05:30', 'author': '', 'moddate': '2025-03-28T17:31:11+05:30', 'title': 'Langchain-Chains.ipynb - Colab', 'source': '/content/Data/langchain-chains.pdf', 'total_pages': 9, 'page': 5, 'page_label': '6'}\n",
            "{'producer': 'Microsoft: Print To PDF', 'creator': 'PyPDF', 'creationdate': '2025-03-28T17:31:11+05:30', 'author': '', 'moddate': '2025-03-28T17:31:11+05:30', 'title': 'Langchain-Chains.ipynb - Colab', 'source': '/content/Data/langchain-chains.pdf', 'total_pages': 9, 'page': 6, 'page_label': '7'}\n",
            "{'producer': 'Microsoft: Print To PDF', 'creator': 'PyPDF', 'creationdate': '2025-03-28T17:31:11+05:30', 'author': '', 'moddate': '2025-03-28T17:31:11+05:30', 'title': 'Langchain-Chains.ipynb - Colab', 'source': '/content/Data/langchain-chains.pdf', 'total_pages': 9, 'page': 7, 'page_label': '8'}\n",
            "{'producer': 'Microsoft: Print To PDF', 'creator': 'PyPDF', 'creationdate': '2025-03-28T17:31:11+05:30', 'author': '', 'moddate': '2025-03-28T17:31:11+05:30', 'title': 'Langchain-Chains.ipynb - Colab', 'source': '/content/Data/langchain-chains.pdf', 'total_pages': 9, 'page': 8, 'page_label': '9'}\n",
            "{'producer': 'PyFPDF 1.7.2 http://pyfpdf.googlecode.com/', 'creator': 'PyPDF', 'creationdate': 'D:20250403132430', 'source': '/content/Data/LangChain_Advanced_Components.pdf', 'total_pages': 2, 'page': 0, 'page_label': '1'}\n",
            "{'producer': 'PyFPDF 1.7.2 http://pyfpdf.googlecode.com/', 'creator': 'PyPDF', 'creationdate': 'D:20250403132430', 'source': '/content/Data/LangChain_Advanced_Components.pdf', 'total_pages': 2, 'page': 1, 'page_label': '2'}\n",
            "{'producer': 'PyFPDF 1.7.2 http://pyfpdf.googlecode.com/', 'creator': 'PyPDF', 'creationdate': 'D:20250403132236', 'source': '/content/Data/LangChain_Introduction.pdf', 'total_pages': 2, 'page': 0, 'page_label': '1'}\n",
            "{'producer': 'PyFPDF 1.7.2 http://pyfpdf.googlecode.com/', 'creator': 'PyPDF', 'creationdate': 'D:20250403132236', 'source': '/content/Data/LangChain_Introduction.pdf', 'total_pages': 2, 'page': 1, 'page_label': '2'}\n",
            "{'producer': 'Microsoft: Print To PDF', 'creator': 'PyPDF', 'creationdate': '2025-03-28T17:33:18+05:30', 'author': '', 'moddate': '2025-03-28T17:33:18+05:30', 'title': 'Langchain-Runnables.ipynb - Colab', 'source': '/content/Data/langchain-runnables-2.pdf', 'total_pages': 16, 'page': 0, 'page_label': '1'}\n",
            "{'producer': 'Microsoft: Print To PDF', 'creator': 'PyPDF', 'creationdate': '2025-03-28T17:33:18+05:30', 'author': '', 'moddate': '2025-03-28T17:33:18+05:30', 'title': 'Langchain-Runnables.ipynb - Colab', 'source': '/content/Data/langchain-runnables-2.pdf', 'total_pages': 16, 'page': 1, 'page_label': '2'}\n",
            "{'producer': 'Microsoft: Print To PDF', 'creator': 'PyPDF', 'creationdate': '2025-03-28T17:33:18+05:30', 'author': '', 'moddate': '2025-03-28T17:33:18+05:30', 'title': 'Langchain-Runnables.ipynb - Colab', 'source': '/content/Data/langchain-runnables-2.pdf', 'total_pages': 16, 'page': 2, 'page_label': '3'}\n",
            "{'producer': 'Microsoft: Print To PDF', 'creator': 'PyPDF', 'creationdate': '2025-03-28T17:33:18+05:30', 'author': '', 'moddate': '2025-03-28T17:33:18+05:30', 'title': 'Langchain-Runnables.ipynb - Colab', 'source': '/content/Data/langchain-runnables-2.pdf', 'total_pages': 16, 'page': 3, 'page_label': '4'}\n",
            "{'producer': 'Microsoft: Print To PDF', 'creator': 'PyPDF', 'creationdate': '2025-03-28T17:33:18+05:30', 'author': '', 'moddate': '2025-03-28T17:33:18+05:30', 'title': 'Langchain-Runnables.ipynb - Colab', 'source': '/content/Data/langchain-runnables-2.pdf', 'total_pages': 16, 'page': 4, 'page_label': '5'}\n",
            "{'producer': 'Microsoft: Print To PDF', 'creator': 'PyPDF', 'creationdate': '2025-03-28T17:33:18+05:30', 'author': '', 'moddate': '2025-03-28T17:33:18+05:30', 'title': 'Langchain-Runnables.ipynb - Colab', 'source': '/content/Data/langchain-runnables-2.pdf', 'total_pages': 16, 'page': 5, 'page_label': '6'}\n",
            "{'producer': 'Microsoft: Print To PDF', 'creator': 'PyPDF', 'creationdate': '2025-03-28T17:33:18+05:30', 'author': '', 'moddate': '2025-03-28T17:33:18+05:30', 'title': 'Langchain-Runnables.ipynb - Colab', 'source': '/content/Data/langchain-runnables-2.pdf', 'total_pages': 16, 'page': 6, 'page_label': '7'}\n",
            "{'producer': 'Microsoft: Print To PDF', 'creator': 'PyPDF', 'creationdate': '2025-03-28T17:33:18+05:30', 'author': '', 'moddate': '2025-03-28T17:33:18+05:30', 'title': 'Langchain-Runnables.ipynb - Colab', 'source': '/content/Data/langchain-runnables-2.pdf', 'total_pages': 16, 'page': 7, 'page_label': '8'}\n",
            "{'producer': 'Microsoft: Print To PDF', 'creator': 'PyPDF', 'creationdate': '2025-03-28T17:33:18+05:30', 'author': '', 'moddate': '2025-03-28T17:33:18+05:30', 'title': 'Langchain-Runnables.ipynb - Colab', 'source': '/content/Data/langchain-runnables-2.pdf', 'total_pages': 16, 'page': 8, 'page_label': '9'}\n",
            "{'producer': 'Microsoft: Print To PDF', 'creator': 'PyPDF', 'creationdate': '2025-03-28T17:33:18+05:30', 'author': '', 'moddate': '2025-03-28T17:33:18+05:30', 'title': 'Langchain-Runnables.ipynb - Colab', 'source': '/content/Data/langchain-runnables-2.pdf', 'total_pages': 16, 'page': 9, 'page_label': '10'}\n",
            "{'producer': 'Microsoft: Print To PDF', 'creator': 'PyPDF', 'creationdate': '2025-03-28T17:33:18+05:30', 'author': '', 'moddate': '2025-03-28T17:33:18+05:30', 'title': 'Langchain-Runnables.ipynb - Colab', 'source': '/content/Data/langchain-runnables-2.pdf', 'total_pages': 16, 'page': 10, 'page_label': '11'}\n",
            "{'producer': 'Microsoft: Print To PDF', 'creator': 'PyPDF', 'creationdate': '2025-03-28T17:33:18+05:30', 'author': '', 'moddate': '2025-03-28T17:33:18+05:30', 'title': 'Langchain-Runnables.ipynb - Colab', 'source': '/content/Data/langchain-runnables-2.pdf', 'total_pages': 16, 'page': 11, 'page_label': '12'}\n",
            "{'producer': 'Microsoft: Print To PDF', 'creator': 'PyPDF', 'creationdate': '2025-03-28T17:33:18+05:30', 'author': '', 'moddate': '2025-03-28T17:33:18+05:30', 'title': 'Langchain-Runnables.ipynb - Colab', 'source': '/content/Data/langchain-runnables-2.pdf', 'total_pages': 16, 'page': 12, 'page_label': '13'}\n",
            "{'producer': 'Microsoft: Print To PDF', 'creator': 'PyPDF', 'creationdate': '2025-03-28T17:33:18+05:30', 'author': '', 'moddate': '2025-03-28T17:33:18+05:30', 'title': 'Langchain-Runnables.ipynb - Colab', 'source': '/content/Data/langchain-runnables-2.pdf', 'total_pages': 16, 'page': 13, 'page_label': '14'}\n",
            "{'producer': 'Microsoft: Print To PDF', 'creator': 'PyPDF', 'creationdate': '2025-03-28T17:33:18+05:30', 'author': '', 'moddate': '2025-03-28T17:33:18+05:30', 'title': 'Langchain-Runnables.ipynb - Colab', 'source': '/content/Data/langchain-runnables-2.pdf', 'total_pages': 16, 'page': 14, 'page_label': '15'}\n",
            "{'producer': 'Microsoft: Print To PDF', 'creator': 'PyPDF', 'creationdate': '2025-03-28T17:33:18+05:30', 'author': '', 'moddate': '2025-03-28T17:33:18+05:30', 'title': 'Langchain-Runnables.ipynb - Colab', 'source': '/content/Data/langchain-runnables-2.pdf', 'total_pages': 16, 'page': 15, 'page_label': '16'}\n",
            "{'producer': 'Microsoft: Print To PDF', 'creator': 'PyPDF', 'creationdate': '2025-03-28T17:28:48+05:30', 'author': '', 'moddate': '2025-03-28T17:28:48+05:30', 'title': 'Langchain-Runnables.ipynb - Colab', 'source': '/content/Data/langchain-runnables.pdf', 'total_pages': 24, 'page': 0, 'page_label': '1'}\n",
            "{'producer': 'Microsoft: Print To PDF', 'creator': 'PyPDF', 'creationdate': '2025-03-28T17:28:48+05:30', 'author': '', 'moddate': '2025-03-28T17:28:48+05:30', 'title': 'Langchain-Runnables.ipynb - Colab', 'source': '/content/Data/langchain-runnables.pdf', 'total_pages': 24, 'page': 1, 'page_label': '2'}\n",
            "{'producer': 'Microsoft: Print To PDF', 'creator': 'PyPDF', 'creationdate': '2025-03-28T17:28:48+05:30', 'author': '', 'moddate': '2025-03-28T17:28:48+05:30', 'title': 'Langchain-Runnables.ipynb - Colab', 'source': '/content/Data/langchain-runnables.pdf', 'total_pages': 24, 'page': 2, 'page_label': '3'}\n",
            "{'producer': 'Microsoft: Print To PDF', 'creator': 'PyPDF', 'creationdate': '2025-03-28T17:28:48+05:30', 'author': '', 'moddate': '2025-03-28T17:28:48+05:30', 'title': 'Langchain-Runnables.ipynb - Colab', 'source': '/content/Data/langchain-runnables.pdf', 'total_pages': 24, 'page': 3, 'page_label': '4'}\n",
            "{'producer': 'Microsoft: Print To PDF', 'creator': 'PyPDF', 'creationdate': '2025-03-28T17:28:48+05:30', 'author': '', 'moddate': '2025-03-28T17:28:48+05:30', 'title': 'Langchain-Runnables.ipynb - Colab', 'source': '/content/Data/langchain-runnables.pdf', 'total_pages': 24, 'page': 4, 'page_label': '5'}\n",
            "{'producer': 'Microsoft: Print To PDF', 'creator': 'PyPDF', 'creationdate': '2025-03-28T17:28:48+05:30', 'author': '', 'moddate': '2025-03-28T17:28:48+05:30', 'title': 'Langchain-Runnables.ipynb - Colab', 'source': '/content/Data/langchain-runnables.pdf', 'total_pages': 24, 'page': 5, 'page_label': '6'}\n",
            "{'producer': 'Microsoft: Print To PDF', 'creator': 'PyPDF', 'creationdate': '2025-03-28T17:28:48+05:30', 'author': '', 'moddate': '2025-03-28T17:28:48+05:30', 'title': 'Langchain-Runnables.ipynb - Colab', 'source': '/content/Data/langchain-runnables.pdf', 'total_pages': 24, 'page': 6, 'page_label': '7'}\n",
            "{'producer': 'Microsoft: Print To PDF', 'creator': 'PyPDF', 'creationdate': '2025-03-28T17:28:48+05:30', 'author': '', 'moddate': '2025-03-28T17:28:48+05:30', 'title': 'Langchain-Runnables.ipynb - Colab', 'source': '/content/Data/langchain-runnables.pdf', 'total_pages': 24, 'page': 7, 'page_label': '8'}\n",
            "{'producer': 'Microsoft: Print To PDF', 'creator': 'PyPDF', 'creationdate': '2025-03-28T17:28:48+05:30', 'author': '', 'moddate': '2025-03-28T17:28:48+05:30', 'title': 'Langchain-Runnables.ipynb - Colab', 'source': '/content/Data/langchain-runnables.pdf', 'total_pages': 24, 'page': 8, 'page_label': '9'}\n",
            "{'producer': 'Microsoft: Print To PDF', 'creator': 'PyPDF', 'creationdate': '2025-03-28T17:28:48+05:30', 'author': '', 'moddate': '2025-03-28T17:28:48+05:30', 'title': 'Langchain-Runnables.ipynb - Colab', 'source': '/content/Data/langchain-runnables.pdf', 'total_pages': 24, 'page': 9, 'page_label': '10'}\n",
            "{'producer': 'Microsoft: Print To PDF', 'creator': 'PyPDF', 'creationdate': '2025-03-28T17:28:48+05:30', 'author': '', 'moddate': '2025-03-28T17:28:48+05:30', 'title': 'Langchain-Runnables.ipynb - Colab', 'source': '/content/Data/langchain-runnables.pdf', 'total_pages': 24, 'page': 10, 'page_label': '11'}\n",
            "{'producer': 'Microsoft: Print To PDF', 'creator': 'PyPDF', 'creationdate': '2025-03-28T17:28:48+05:30', 'author': '', 'moddate': '2025-03-28T17:28:48+05:30', 'title': 'Langchain-Runnables.ipynb - Colab', 'source': '/content/Data/langchain-runnables.pdf', 'total_pages': 24, 'page': 11, 'page_label': '12'}\n",
            "{'producer': 'Microsoft: Print To PDF', 'creator': 'PyPDF', 'creationdate': '2025-03-28T17:28:48+05:30', 'author': '', 'moddate': '2025-03-28T17:28:48+05:30', 'title': 'Langchain-Runnables.ipynb - Colab', 'source': '/content/Data/langchain-runnables.pdf', 'total_pages': 24, 'page': 12, 'page_label': '13'}\n",
            "{'producer': 'Microsoft: Print To PDF', 'creator': 'PyPDF', 'creationdate': '2025-03-28T17:28:48+05:30', 'author': '', 'moddate': '2025-03-28T17:28:48+05:30', 'title': 'Langchain-Runnables.ipynb - Colab', 'source': '/content/Data/langchain-runnables.pdf', 'total_pages': 24, 'page': 13, 'page_label': '14'}\n",
            "{'producer': 'Microsoft: Print To PDF', 'creator': 'PyPDF', 'creationdate': '2025-03-28T17:28:48+05:30', 'author': '', 'moddate': '2025-03-28T17:28:48+05:30', 'title': 'Langchain-Runnables.ipynb - Colab', 'source': '/content/Data/langchain-runnables.pdf', 'total_pages': 24, 'page': 14, 'page_label': '15'}\n",
            "{'producer': 'Microsoft: Print To PDF', 'creator': 'PyPDF', 'creationdate': '2025-03-28T17:28:48+05:30', 'author': '', 'moddate': '2025-03-28T17:28:48+05:30', 'title': 'Langchain-Runnables.ipynb - Colab', 'source': '/content/Data/langchain-runnables.pdf', 'total_pages': 24, 'page': 15, 'page_label': '16'}\n",
            "{'producer': 'Microsoft: Print To PDF', 'creator': 'PyPDF', 'creationdate': '2025-03-28T17:28:48+05:30', 'author': '', 'moddate': '2025-03-28T17:28:48+05:30', 'title': 'Langchain-Runnables.ipynb - Colab', 'source': '/content/Data/langchain-runnables.pdf', 'total_pages': 24, 'page': 16, 'page_label': '17'}\n",
            "{'producer': 'Microsoft: Print To PDF', 'creator': 'PyPDF', 'creationdate': '2025-03-28T17:28:48+05:30', 'author': '', 'moddate': '2025-03-28T17:28:48+05:30', 'title': 'Langchain-Runnables.ipynb - Colab', 'source': '/content/Data/langchain-runnables.pdf', 'total_pages': 24, 'page': 17, 'page_label': '18'}\n",
            "{'producer': 'Microsoft: Print To PDF', 'creator': 'PyPDF', 'creationdate': '2025-03-28T17:28:48+05:30', 'author': '', 'moddate': '2025-03-28T17:28:48+05:30', 'title': 'Langchain-Runnables.ipynb - Colab', 'source': '/content/Data/langchain-runnables.pdf', 'total_pages': 24, 'page': 18, 'page_label': '19'}\n",
            "{'producer': 'Microsoft: Print To PDF', 'creator': 'PyPDF', 'creationdate': '2025-03-28T17:28:48+05:30', 'author': '', 'moddate': '2025-03-28T17:28:48+05:30', 'title': 'Langchain-Runnables.ipynb - Colab', 'source': '/content/Data/langchain-runnables.pdf', 'total_pages': 24, 'page': 19, 'page_label': '20'}\n",
            "{'producer': 'Microsoft: Print To PDF', 'creator': 'PyPDF', 'creationdate': '2025-03-28T17:28:48+05:30', 'author': '', 'moddate': '2025-03-28T17:28:48+05:30', 'title': 'Langchain-Runnables.ipynb - Colab', 'source': '/content/Data/langchain-runnables.pdf', 'total_pages': 24, 'page': 20, 'page_label': '21'}\n",
            "{'producer': 'Microsoft: Print To PDF', 'creator': 'PyPDF', 'creationdate': '2025-03-28T17:28:48+05:30', 'author': '', 'moddate': '2025-03-28T17:28:48+05:30', 'title': 'Langchain-Runnables.ipynb - Colab', 'source': '/content/Data/langchain-runnables.pdf', 'total_pages': 24, 'page': 21, 'page_label': '22'}\n",
            "{'producer': 'Microsoft: Print To PDF', 'creator': 'PyPDF', 'creationdate': '2025-03-28T17:28:48+05:30', 'author': '', 'moddate': '2025-03-28T17:28:48+05:30', 'title': 'Langchain-Runnables.ipynb - Colab', 'source': '/content/Data/langchain-runnables.pdf', 'total_pages': 24, 'page': 22, 'page_label': '23'}\n",
            "{'producer': 'Microsoft: Print To PDF', 'creator': 'PyPDF', 'creationdate': '2025-03-28T17:28:48+05:30', 'author': '', 'moddate': '2025-03-28T17:28:48+05:30', 'title': 'Langchain-Runnables.ipynb - Colab', 'source': '/content/Data/langchain-runnables.pdf', 'total_pages': 24, 'page': 23, 'page_label': '24'}\n"
          ]
        }
      ]
    },
    {
      "cell_type": "markdown",
      "source": [
        "## WebBaseLoader\n",
        "\n",
        "### **WebBaseLoader is a document loader in LangChain used to load and extract text content from web pages (URLs).**\n",
        "\n",
        "### **It uses BeautifulSoup under the hood to parse HTML and extract visible text.**\n",
        "\n",
        "### When to use:\n",
        "- for blogs, news, articles, or public websites where the content is primatrily text=based and static.\n",
        "\n",
        "### Limitation\n",
        "- Does not handle Javascript-heavy pages well (use SeleniumLoader for that).\n",
        "- Loads only static content ( what's in the HTML, not what loads after the page renders)."
      ],
      "metadata": {
        "id": "5FJ92Txw6W1h"
      }
    },
    {
      "cell_type": "markdown",
      "source": [
        "## Code Example"
      ],
      "metadata": {
        "id": "eiDlKZrI7i8y"
      }
    },
    {
      "cell_type": "code",
      "source": [
        "from langchain_community.document_loaders import WebBaseLoader\n",
        "\n",
        "\n",
        "\n",
        "\n",
        "loader = WebBaseLoader(\"https://www.flipkart.com/apple-macbook-air-m2-8-gb-256-gb-ssd-mac-os-monterey-mly13hn-a/p/itmd65f6b189fc7b?pid=COMGFB2GBKDVYBDD&lid=LSTCOMGFB2GBKDVYBDDLKF8WC&marketplace=FLIPKART&store=6bo%2Fb5g&spotlightTagId=default_FkPickId_6bo%2Fb5g&srno=b_1_3&otracker=browse&fm=organic&iid=b4095891-a522-49c1-8781-555174c2a035.COMGFB2GBKDVYBDD.SEARCH&ppt=browse&ppn=browse&ssid=149hv7tpo00000001743688422982\")\n",
        "\n",
        "documents = loader.load()\n",
        "\n",
        "print(documents)"
      ],
      "metadata": {
        "colab": {
          "base_uri": "https://localhost:8080/"
        },
        "id": "ybDFt7VM7p6l",
        "outputId": "fe45760f-6964-475b-f1da-42ed8bbb716f"
      },
      "execution_count": 42,
      "outputs": [
        {
          "output_type": "stream",
          "name": "stdout",
          "text": [
            "[Document(metadata={'source': 'https://www.flipkart.com/apple-macbook-air-m2-8-gb-256-gb-ssd-mac-os-monterey-mly13hn-a/p/itmd65f6b189fc7b?pid=COMGFB2GBKDVYBDD&lid=LSTCOMGFB2GBKDVYBDDLKF8WC&marketplace=FLIPKART&store=6bo%2Fb5g&spotlightTagId=default_FkPickId_6bo%2Fb5g&srno=b_1_3&otracker=browse&fm=organic&iid=b4095891-a522-49c1-8781-555174c2a035.COMGFB2GBKDVYBDD.SEARCH&ppt=browse&ppn=browse&ssid=149hv7tpo00000001743688422982'}, page_content='Site is overloaded')]\n"
          ]
        }
      ]
    },
    {
      "cell_type": "code",
      "source": [
        "from langchain_community.document_loaders import SeleniumURLLoader\n",
        "\n",
        "loader = SeleniumURLLoader(urls=[\"https://www.flipkart.com/apple-macbook-air-m2-8-gb-256-gb-ssd-mac-os-monterey-mly13hn-a/p/itmd65f6b189fc7b\"])\n",
        "documents = loader.load()\n",
        "\n",
        "print(documents)\n"
      ],
      "metadata": {
        "colab": {
          "base_uri": "https://localhost:8080/"
        },
        "id": "Z1e0DftR9L-o",
        "outputId": "e03f0de2-ac1e-4c99-de1b-dadf4e123e4d"
      },
      "execution_count": 46,
      "outputs": [
        {
          "output_type": "stream",
          "name": "stdout",
          "text": [
            "[Document(metadata={'source': 'https://www.flipkart.com/apple-macbook-air-m2-8-gb-256-gb-ssd-mac-os-monterey-mly13hn-a/p/itmd65f6b189fc7b', 'title': 'Apple MacBook AIR Apple M2 - (8 GB/256 GB SSD/Mac OS Monterey) MLY13HN/A Rs.99900 Price in India - Buy Apple MacBook AIR Apple M2 - (8 GB/256 GB SSD/Mac OS Monterey) MLY13HN/A Starlight Online - Apple : Flipkart.com', 'description': 'No description found.', 'language': 'en'}, page_content=\"Flipkart\\n\\nExplore Plus\\n\\n\\n\\nLogin\\n\\nNew customer?\\n\\nSign Up\\n\\nBecome a Seller\\n\\nMore\\n\\nCart\\n\\nElectronicsTVs & AppliancesMenWomenBaby & KidsHome & FurnitureSports, Books & MoreFlightsOffer Zone\\n\\n\\n\\n\\n\\n\\n\\n\\n\\n\\n\\n\\n\\n\\n\\n\\n\\n\\n\\n\\n\\n\\n\\nApple MacBook AIR Apple M2 - (8 GB/256 GB SSD/Mac OS Monterey) MLY13HN/A\\n\\nHome\\n\\nComputers\\n\\nLaptops\\n\\nApple Laptops\\n\\nApple MacBook AIR Apple M2 - (8 GB/256 GB SSD/Mac OS Monterey) MLY13HN/A (13.6 Inch, Starlight, 1.24 kg)\\n\\nShare\\n\\nApple MacBook AIR Apple M2 - (8 GB/256 GB SSD/Mac OS Monterey) MLY13HN/A (13.6 Inch, Starlight, 1.24 kg)\\n\\n4.7\\n\\n\\n\\n17,536 Ratings & 1,087 Reviews\\n\\n\\n\\n₹2,848/month\\n\\n36 months EMI Plan with BOBCARD\\n\\nSpecial price\\n\\n₹80,990\\n\\n₹99,900\\n\\n18% off\\n\\n+ ₹49 Protect Promise Fee Learn more\\n\\nSecure delivery by 10 Apr, Thursday\\n\\nHurry, Only a few left!\\n\\nAvailable offers\\n\\n\\n\\nBank Offer5% Unlimited Cashback on Flipkart Axis Bank Credit Card\\n\\nT&C\\n\\n\\n\\nBank Offer10% off on BOBCARD EMI Transactions, up to ₹1,500 on orders of ₹5,000 and above\\n\\nT&C\\n\\n\\n\\nSpecial PriceGet extra 18% off (price inclusive of cashback/coupon)\\n\\nT&C\\n\\n\\n\\nEMI starting from ₹2,848/month\\n\\n\\n\\n1 Year Limited WarrantyKnow More\\n\\nColor\\n\\n\\n\\nSilver\\n\\n\\n\\nStarlight\\n\\nPlease select a Color to proceed\\n\\nSystem Memory\\n\\n8 GB\\n\\n8 GB\\n\\n16 GB\\n\\n16 GB\\n\\nPlease select a System Memory to proceed\\n\\nDelivery\\n\\nCheck\\n\\nEnter pincode\\n\\nDelivery by10 Apr, Thursday|Free₹40\\n\\nif ordered before 9:32 PM\\n\\nInstallation & Demo by9 Apr, Wednesday|₹599\\n\\nView Details\\n\\nHighlights\\n\\nStylish & Portable Thin and Light Laptop\\n\\n13.6 Inch Liquid Retina Display, LED-backlit display with IPS technology, 500 nits brightness, Wide colour (P3), True Tone technology\\n\\nLight Laptop without Optical Disk Drive\\n\\nEasy Payment Options\\n\\nEMI starting from ₹2,848/month\\n\\nCash on Delivery\\n\\nNet banking & Credit/ Debit/ ATM card\\n\\nView Details\\n\\nSeller\\n\\nSuperComNet\\n\\n4.7\\n\\n\\n\\nNo Returns Applicable\\n\\nGST invoice available\\n\\nSee other sellers\\n\\nDescription\\n\\nCharged in a blazing-fast speed with the next-level M2 chip, this redesigned Apple’s notebook comes with mind blowing and has an excellent battery backup that can last up to 18 hours, which comes with an aluminium enclosure.\\n\\nRead More\\n\\nSpecifications\\n\\nGeneral\\n\\nSales Package MacBook Air, 30W USB-C Power Adapter, USB-C to MagSafe 3 Cable Model Number MLY13HN/A Part Number MLY13HN/A Model Name MacBook Air Series MacBook AIR Color Starlight Type Thin and Light Laptop Suitable For Processing & Multitasking Battery Backup Upto 18 Hours Power Supply 30 W USB-C Power Adapter MS Office Provided No\\n\\nProcessor And Memory Features\\n\\nProcessor Brand Apple Processor Name M2 SSD Yes SSD Capacity 256 GB RAM 8 GB RAM Type Unified Memory Processor Variant Apple M2 Chip Graphic Processor NA Number of Cores 8 Storage Type SSD\\n\\nOperating System\\n\\nOperating System Mac OS Monterey\\n\\nPort And Slot Features\\n\\nMic In Yes USB Port 2 x Thunderbolt / USB 4 Ports (USB 4 (up to 40 Gbps), USB 3.1 Gen 2 (up to 10 Gbps)\\n\\nDisplay And Audio Features\\n\\nTouchscreen No Screen Size 34.54 cm (13.6 Inch) Screen Resolution 2560 x 1664 Pixel Screen Type Liquid Retina Display, LED-backlit display with IPS technology, 500 nits brightness, Wide colour (P3), True Tone technology Speakers Built-in Speakers Internal Mic Three-mic Array with Directional Beamforming Sound Properties Stereo Speakers, Wide Stereo Sound, Support for Dolby Atmos\\n\\nConnectivity Features\\n\\nWireless LAN 802.11ax Wi-Fi 6 wireless networking Bluetooth v5.0\\n\\nDimensions\\n\\nDimensions 304.1 x 215.0 x 11.3 mm Weight 1.24 kg\\n\\nAdditional Features\\n\\nDisk Drive Not Available Web Camera 1080p FaceTime HD camera Keyboard Backlit Magic Keyboard Backlit Keyboard Yes Pointer Device Force Touch Trackpad Included Software Built-in Apps: iMovie, Siri, GarageBand, Pages, Numbers, Photos, Keynote, Safari, Mail, FaceTime, Messages, Maps, Stocks, Home, Voice Memos, Notes, Calendar, Contacts, Reminders, Photo Booth, Preview, Books, App Store, Time Machine, TV, Music, Podcasts, Find My, QuickTime Player Additional Features 52.6 Watt Hour Lithium polymer Battery\\n\\nWarranty\\n\\nWarranty Summary 1 Year Limited Warranty Warranty Service Type Onsite Covered in Warranty Manufacturing Defects Not Covered in Warranty Physical Damage Domestic Warranty 1 Year\\n\\nFrequently Bought Together\\n\\nApple MacBook AIR Apple M2 - (8 GB/256 GB SSD/Mac OS Monterey) MLY13HN/A\\n\\nApple MacBook AIR Apple M2 - (8 GB/256 GB SSD/Mac OS Monterey) ML...\\n\\n4.7\\n\\n\\n\\n(17,536)\\n\\n₹80,990\\n\\n₹99,900\\n\\n18% off\\n\\nPortronics My Buddy D Wood Portable Laptop Table\\n\\nPortronics My Buddy D Wood Portable Laptop Table\\n\\n4.1\\n\\n\\n\\n(24,788)\\n\\n₹1,424\\n\\nApple Magic Mouse MK2E3HN/A Wireless Touch Mouse  with Bluetooth\\n\\nApple Magic Mouse MK2E3HN/A Wireless Touch Mouse with Bluetooth\\n\\n4.6\\n\\n\\n\\n(4,054)\\n\\n₹6,799\\n\\n1 Item\\n\\n₹80,990\\n\\n2 Add-ons\\n\\n₹8,223\\n\\nTotal\\n\\n₹89,213\\n\\nRatings & Reviews\\n\\n4.7\\n\\n17,536 Ratings &\\n\\n1,087 Reviews\\n\\n5★\\n\\n4★\\n\\n3★\\n\\n2★\\n\\n1★\\n\\n14,478\\n\\n1,901\\n\\n375\\n\\n151\\n\\n631\\n\\nPerformance\\n\\nBattery\\n\\nDesign\\n\\nDisplay\\n\\n+ 810\\n\\n\\n\\nPerfect product!\\n\\nLoved it, it's my first MacBook that I earned from my hardwork 🥺❤️\\n\\nREAD MORE\\n\\nPiyush Khare\\n\\nCertified Buyer, Noida\\n\\nOct, 2023\\n\\n3478\\n\\n283\\n\\nPermalink\\n\\nReport Abuse\\n\\n\\n\\nMust buy!\\n\\nBattery lasted longer than my first relationship (2 days). Listening to Arijit singh songs on full volume since then still isn't getting over. Has more warmth than her. unlike her there's two way communication here as touchpad is very responsive. fingerprint lock is nice as it only opens up to me. 5 stars for this -1 for her\\n\\nREAD MORE\\n\\nsoumadeep bag\\n\\nCertified Buyer, Barasat\\n\\n5 months ago\\n\\n2310\\n\\n242\\n\\nPermalink\\n\\nReport Abuse\\n\\n\\n\\nSuper!\\n\\nSuper product\\n\\nREAD MORE\\n\\nVinu Viswan\\n\\nCertified Buyer, Kannamangalam Alappuzha District\\n\\nJul, 2022\\n\\n688\\n\\n137\\n\\nPermalink\\n\\nReport Abuse\\n\\n\\n\\nFabulous!\\n\\nSuch a great deal.. very happy with the performance and battery life..Origional product..🥰❤️ Thank you Flipkart..!!!\\n\\nREAD MORE\\n\\nRiya Singh\\n\\nCertified Buyer, Mathura District\\n\\nOct, 2022\\n\\n184\\n\\n30\\n\\nPermalink\\n\\nReport Abuse\\n\\n\\n\\nAwesome\\n\\nWhen i ordered and came to know about seller review,i was scared that in what condition i will get macbook. but i was wrong. This is my first macbook and i am fully satisfied with the product with original packaging of apple and got genuine product. It's very thin and light and looks very premium. As A software developer, i installed intellij idea ide and guess what. It's magic,it is opening just in a click and within 5 seconds. Great performance, no heating issue, sound quality awesome an...\\n\\nREAD MORE\\n\\nMohit Anand\\n\\nCertified Buyer, Bengaluru\\n\\nSep, 2022\\n\\n622\\n\\n124\\n\\nPermalink\\n\\nReport Abuse\\n\\n\\n\\nBrilliant\\n\\nSuperb built quality, Amazing performance and display quality... Got it at 72k, wonderful product at great price.\\n\\nREAD MORE\\n\\nDhirendra Sahu\\n\\nCertified Buyer, Pune\\n\\nOct, 2023\\n\\n60\\n\\nPermalink\\n\\nReport Abuse\\n\\n\\n\\nMind-blowing purchase\\n\\nBest powerful machine in all aspects\\n\\nREAD MORE\\n\\nSagar Sundarde\\n\\nCertified Buyer, Aurangabad\\n\\nOct, 2023\\n\\n29\\n\\nPermalink\\n\\nReport Abuse\\n\\n\\n\\nJust wow!\\n\\nIts really very good and compact device.\\n\\nREAD MORE\\n\\nHariprasad Mandal\\n\\nCertified Buyer, Rairangpur\\n\\nSep, 2022\\n\\n192\\n\\n40\\n\\nPermalink\\n\\nReport Abuse\\n\\n\\n\\nDelightful\\n\\nAwesome build quality and very good display, battery and camera. Still new to macOS\\n\\nREAD MORE\\n\\nprasad shetty\\n\\nCertified Buyer, Pune\\n\\nOct, 2023\\n\\n53\\n\\nPermalink\\n\\nReport Abuse\\n\\n\\n\\nHighly recommended\\n\\nThis is the first MacBook I ever have. And I must say no one can match Apple product.\\n\\nREAD MORE\\n\\nRahul Anand\\n\\nCertified Buyer, Giridih\\n\\nSep, 2022\\n\\n83\\n\\n17\\n\\nPermalink\\n\\nReport Abuse\\n\\nAll 1087 reviews\\n\\nQuestions and Answers\\n\\n\\n\\nQ:Inbuilt ma office is there?\\n\\nA:No, it is not there. If you want to use MS office offline on the Mac, you got to buy the license. A cheaper alternative would be to use MS 365 web, but it can only be used online. I hope this helps!\\n\\nNaman Jain\\n\\nCertified Buyer\\n\\n166\\n\\n31\\n\\nReport Abuse\\n\\nQ:Can I install postgresql, mongodb , docker, vs code ,java, node , and web development apps all together without any problem and run each one at the same time?\\n\\nA:Yes, i am a web developer and using this things works smooth together\\n\\nAnonymous\\n\\nCertified Buyer\\n\\n122\\n\\n24\\n\\nReport Abuse\\n\\nQ:back side logo lights ?\\n\\nA:No . Logo doesn't light up.Apple has discontinued it from 2018 or maybe 2017\\n\\nAkhil Negi\\n\\nCertified Buyer\\n\\n171\\n\\n38\\n\\nReport Abuse\\n\\nQ:Is 256 gb storage enough for student usage ?\\n\\nA:Yes... It's enough....and in case you need more storage...it is better and cheaper to buy an external portable SSD of any good company than buying more storage version of Macbook air.\\n\\nKshitij Maurya\\n\\nCertified Buyer\\n\\n24\\n\\nReport Abuse\\n\\nQ:Can we do coding in MacBook\\n\\nA:Yes you can i do it smoothly without any issue.\\n\\nRaushan Kumar singh\\n\\nCertified Buyer\\n\\n15\\n\\nReport Abuse\\n\\nQ:Is this laptop for video editing\\n\\nA:Yes\\n\\nAnonymous\\n\\nCertified Buyer\\n\\n17\\n\\nReport Abuse\\n\\nQ:Can we upgrade ram and hdd in mac?\\n\\nA:Unfortunately No\\n\\nKarthik Narayanan K\\n\\nCertified Buyer\\n\\n77\\n\\n33\\n\\nReport Abuse\\n\\nQ:Can i run autocad in this ??\\n\\nA:yes you can, but i would suggest to go for 16 gb ram or pro\\n\\nAnonymous\\n\\nCertified Buyer\\n\\n28\\n\\nReport Abuse\\n\\nQ:M2 can come with MS office like ms word, ms exel, power point presentation etc...\\n\\nA:It is not pre downloaded you have to download it from App Store\\n\\nAnonymous\\n\\nCertified Buyer\\n\\n31\\n\\n12\\n\\nReport Abuse\\n\\nRead other answers\\n\\nQ:Smooth run to photo editing app\\n\\nA:You might not be able to do a advanced professional grade VFX editing. Such as you won't be able to edit a film or anything but can edit YouTube shorts or videos at a normal length.\\n\\nAnonymous\\n\\nCertified Buyer\\n\\n19\\n\\nReport Abuse\\n\\nAll questions+\\n\\nSafe and Secure Payments.Easy returns.100% Authentic products.\\n\\nYou might be interested in\\n\\n\\n\\nKeyboards\\n\\nMin. 50% Off\\n\\nShop Now\\n\\n\\n\\nGaming Accessories\\n\\nMin. 50% Off\\n\\nShop Now\\n\\n\\n\\nMouse\\n\\nMin. 50% Off\\n\\nShop Now\\n\\n\\n\\nPhysical\\n\\nMin. 50% Off\\n\\nShop Now\\n\\nTop Stories:Brand Directory\\n\\nMOST SEARCHED IN Computers & Accessories:ACER ASPIREASUS X200MAGRAPHIC CARD FOR LAPTOPGIGABYTE MOTHERBOARD PRICEHP ALL IN ONE DESKTOPDESKTOP COMPUTER PRICE LISTD LINK ROUTERCOMPUTERSCOLOR PRINTER PRICE1TB EXTERNAL HARD DRIVEEPSON L210 PRINTERHP 1020 PRINTER PRICEHP1020HP INKJET PRINTERHP SCANJET 2004G WIFI DONGLEHUAWEI DONGLEDVD WRITER PRICELAPTOP KEYBOARD PRICEACER LAPTOPS PRICE LISTLAPTOP ASUSHP LAPTOPS PRICESLINKSYS ROUTERMICROMAX CANVAS LAPTABMICRO SD CARD PRICEONLINE ANTIVIRUSTP-LINK TD-W8968TP-LINK TL-WR740NUPS FOR HOME\\n\\nABOUT\\n\\nContact UsAbout UsCareersFlipkart StoriesPressCorporate Information\\n\\nGROUP COMPANIES\\n\\nMyntraCleartripShopsy\\n\\nHELP\\n\\nPaymentsShippingCancellation & ReturnsFAQ\\n\\nCONSUMER POLICY\\n\\nCancellation & ReturnsTerms Of UseSecurityPrivacySitemapGrievance RedressalEPR Compliance\\n\\nMail Us:\\n\\nFlipkart Internet Private Limited,\\n\\nBuildings Alyssa, Begonia &\\n\\nClove Embassy Tech Village,\\n\\nOuter Ring Road, Devarabeesanahalli Village,\\n\\nBengaluru, 560103,\\n\\nKarnataka, India\\n\\nSocial\\n\\n\\n\\n\\n\\n\\n\\n\\n\\nRegistered Office Address:\\n\\nFlipkart Internet Private Limited,\\n\\nBuildings Alyssa, Begonia &\\n\\nClove Embassy Tech Village,\\n\\nOuter Ring Road, Devarabeesanahalli Village,\\n\\nBengaluru, 560103,\\n\\nKarnataka, India\\n\\nCIN : U51109KA2012PTC066107\\n\\nTelephone: 044-45614700 / 044-67415800\\n\\n\\n\\nBecome a Seller\\n\\n\\n\\nAdvertise\\n\\n\\n\\nGift Cards\\n\\n\\n\\nHelp Center\\n\\n© 2007-2025 Flipkart.com\\n\\n\\n\\nBack to top\\n\\nPrice details\\n\\nMaximum Retail Price\\n\\n(incl. of all taxes)\\n\\n₹ 99900.00\\n\\nSelling Price\\n\\n₹ 99900.00\\n\\nSpecial Price\\n\\n₹ 80990.00\")]\n"
          ]
        }
      ]
    },
    {
      "cell_type": "code",
      "source": [
        "print(len(documents))"
      ],
      "metadata": {
        "colab": {
          "base_uri": "https://localhost:8080/"
        },
        "id": "f9dFuPP99VB-",
        "outputId": "33c625db-b3c9-4daa-e2fc-4f37214dc028"
      },
      "execution_count": 47,
      "outputs": [
        {
          "output_type": "stream",
          "name": "stdout",
          "text": [
            "1\n"
          ]
        }
      ]
    },
    {
      "cell_type": "code",
      "source": [
        "print(documents[0].page_content)"
      ],
      "metadata": {
        "collapsed": true,
        "colab": {
          "base_uri": "https://localhost:8080/"
        },
        "id": "agZ3MDX99iw4",
        "outputId": "4dd24693-f567-4f55-ef1f-612f3bc7c116"
      },
      "execution_count": 48,
      "outputs": [
        {
          "output_type": "stream",
          "name": "stdout",
          "text": [
            "Flipkart\n",
            "\n",
            "Explore Plus\n",
            "\n",
            "\n",
            "\n",
            "Login\n",
            "\n",
            "New customer?\n",
            "\n",
            "Sign Up\n",
            "\n",
            "Become a Seller\n",
            "\n",
            "More\n",
            "\n",
            "Cart\n",
            "\n",
            "ElectronicsTVs & AppliancesMenWomenBaby & KidsHome & FurnitureSports, Books & MoreFlightsOffer Zone\n",
            "\n",
            "\n",
            "\n",
            "\n",
            "\n",
            "\n",
            "\n",
            "\n",
            "\n",
            "\n",
            "\n",
            "\n",
            "\n",
            "\n",
            "\n",
            "\n",
            "\n",
            "\n",
            "\n",
            "\n",
            "\n",
            "\n",
            "\n",
            "Apple MacBook AIR Apple M2 - (8 GB/256 GB SSD/Mac OS Monterey) MLY13HN/A\n",
            "\n",
            "Home\n",
            "\n",
            "Computers\n",
            "\n",
            "Laptops\n",
            "\n",
            "Apple Laptops\n",
            "\n",
            "Apple MacBook AIR Apple M2 - (8 GB/256 GB SSD/Mac OS Monterey) MLY13HN/A (13.6 Inch, Starlight, 1.24 kg)\n",
            "\n",
            "Share\n",
            "\n",
            "Apple MacBook AIR Apple M2 - (8 GB/256 GB SSD/Mac OS Monterey) MLY13HN/A (13.6 Inch, Starlight, 1.24 kg)\n",
            "\n",
            "4.7\n",
            "\n",
            "\n",
            "\n",
            "17,536 Ratings & 1,087 Reviews\n",
            "\n",
            "\n",
            "\n",
            "₹2,848/month\n",
            "\n",
            "36 months EMI Plan with BOBCARD\n",
            "\n",
            "Special price\n",
            "\n",
            "₹80,990\n",
            "\n",
            "₹99,900\n",
            "\n",
            "18% off\n",
            "\n",
            "+ ₹49 Protect Promise Fee Learn more\n",
            "\n",
            "Secure delivery by 10 Apr, Thursday\n",
            "\n",
            "Hurry, Only a few left!\n",
            "\n",
            "Available offers\n",
            "\n",
            "\n",
            "\n",
            "Bank Offer5% Unlimited Cashback on Flipkart Axis Bank Credit Card\n",
            "\n",
            "T&C\n",
            "\n",
            "\n",
            "\n",
            "Bank Offer10% off on BOBCARD EMI Transactions, up to ₹1,500 on orders of ₹5,000 and above\n",
            "\n",
            "T&C\n",
            "\n",
            "\n",
            "\n",
            "Special PriceGet extra 18% off (price inclusive of cashback/coupon)\n",
            "\n",
            "T&C\n",
            "\n",
            "\n",
            "\n",
            "EMI starting from ₹2,848/month\n",
            "\n",
            "\n",
            "\n",
            "1 Year Limited WarrantyKnow More\n",
            "\n",
            "Color\n",
            "\n",
            "\n",
            "\n",
            "Silver\n",
            "\n",
            "\n",
            "\n",
            "Starlight\n",
            "\n",
            "Please select a Color to proceed\n",
            "\n",
            "System Memory\n",
            "\n",
            "8 GB\n",
            "\n",
            "8 GB\n",
            "\n",
            "16 GB\n",
            "\n",
            "16 GB\n",
            "\n",
            "Please select a System Memory to proceed\n",
            "\n",
            "Delivery\n",
            "\n",
            "Check\n",
            "\n",
            "Enter pincode\n",
            "\n",
            "Delivery by10 Apr, Thursday|Free₹40\n",
            "\n",
            "if ordered before 9:32 PM\n",
            "\n",
            "Installation & Demo by9 Apr, Wednesday|₹599\n",
            "\n",
            "View Details\n",
            "\n",
            "Highlights\n",
            "\n",
            "Stylish & Portable Thin and Light Laptop\n",
            "\n",
            "13.6 Inch Liquid Retina Display, LED-backlit display with IPS technology, 500 nits brightness, Wide colour (P3), True Tone technology\n",
            "\n",
            "Light Laptop without Optical Disk Drive\n",
            "\n",
            "Easy Payment Options\n",
            "\n",
            "EMI starting from ₹2,848/month\n",
            "\n",
            "Cash on Delivery\n",
            "\n",
            "Net banking & Credit/ Debit/ ATM card\n",
            "\n",
            "View Details\n",
            "\n",
            "Seller\n",
            "\n",
            "SuperComNet\n",
            "\n",
            "4.7\n",
            "\n",
            "\n",
            "\n",
            "No Returns Applicable\n",
            "\n",
            "GST invoice available\n",
            "\n",
            "See other sellers\n",
            "\n",
            "Description\n",
            "\n",
            "Charged in a blazing-fast speed with the next-level M2 chip, this redesigned Apple’s notebook comes with mind blowing and has an excellent battery backup that can last up to 18 hours, which comes with an aluminium enclosure.\n",
            "\n",
            "Read More\n",
            "\n",
            "Specifications\n",
            "\n",
            "General\n",
            "\n",
            "Sales Package MacBook Air, 30W USB-C Power Adapter, USB-C to MagSafe 3 Cable Model Number MLY13HN/A Part Number MLY13HN/A Model Name MacBook Air Series MacBook AIR Color Starlight Type Thin and Light Laptop Suitable For Processing & Multitasking Battery Backup Upto 18 Hours Power Supply 30 W USB-C Power Adapter MS Office Provided No\n",
            "\n",
            "Processor And Memory Features\n",
            "\n",
            "Processor Brand Apple Processor Name M2 SSD Yes SSD Capacity 256 GB RAM 8 GB RAM Type Unified Memory Processor Variant Apple M2 Chip Graphic Processor NA Number of Cores 8 Storage Type SSD\n",
            "\n",
            "Operating System\n",
            "\n",
            "Operating System Mac OS Monterey\n",
            "\n",
            "Port And Slot Features\n",
            "\n",
            "Mic In Yes USB Port 2 x Thunderbolt / USB 4 Ports (USB 4 (up to 40 Gbps), USB 3.1 Gen 2 (up to 10 Gbps)\n",
            "\n",
            "Display And Audio Features\n",
            "\n",
            "Touchscreen No Screen Size 34.54 cm (13.6 Inch) Screen Resolution 2560 x 1664 Pixel Screen Type Liquid Retina Display, LED-backlit display with IPS technology, 500 nits brightness, Wide colour (P3), True Tone technology Speakers Built-in Speakers Internal Mic Three-mic Array with Directional Beamforming Sound Properties Stereo Speakers, Wide Stereo Sound, Support for Dolby Atmos\n",
            "\n",
            "Connectivity Features\n",
            "\n",
            "Wireless LAN 802.11ax Wi-Fi 6 wireless networking Bluetooth v5.0\n",
            "\n",
            "Dimensions\n",
            "\n",
            "Dimensions 304.1 x 215.0 x 11.3 mm Weight 1.24 kg\n",
            "\n",
            "Additional Features\n",
            "\n",
            "Disk Drive Not Available Web Camera 1080p FaceTime HD camera Keyboard Backlit Magic Keyboard Backlit Keyboard Yes Pointer Device Force Touch Trackpad Included Software Built-in Apps: iMovie, Siri, GarageBand, Pages, Numbers, Photos, Keynote, Safari, Mail, FaceTime, Messages, Maps, Stocks, Home, Voice Memos, Notes, Calendar, Contacts, Reminders, Photo Booth, Preview, Books, App Store, Time Machine, TV, Music, Podcasts, Find My, QuickTime Player Additional Features 52.6 Watt Hour Lithium polymer Battery\n",
            "\n",
            "Warranty\n",
            "\n",
            "Warranty Summary 1 Year Limited Warranty Warranty Service Type Onsite Covered in Warranty Manufacturing Defects Not Covered in Warranty Physical Damage Domestic Warranty 1 Year\n",
            "\n",
            "Frequently Bought Together\n",
            "\n",
            "Apple MacBook AIR Apple M2 - (8 GB/256 GB SSD/Mac OS Monterey) MLY13HN/A\n",
            "\n",
            "Apple MacBook AIR Apple M2 - (8 GB/256 GB SSD/Mac OS Monterey) ML...\n",
            "\n",
            "4.7\n",
            "\n",
            "\n",
            "\n",
            "(17,536)\n",
            "\n",
            "₹80,990\n",
            "\n",
            "₹99,900\n",
            "\n",
            "18% off\n",
            "\n",
            "Portronics My Buddy D Wood Portable Laptop Table\n",
            "\n",
            "Portronics My Buddy D Wood Portable Laptop Table\n",
            "\n",
            "4.1\n",
            "\n",
            "\n",
            "\n",
            "(24,788)\n",
            "\n",
            "₹1,424\n",
            "\n",
            "Apple Magic Mouse MK2E3HN/A Wireless Touch Mouse  with Bluetooth\n",
            "\n",
            "Apple Magic Mouse MK2E3HN/A Wireless Touch Mouse with Bluetooth\n",
            "\n",
            "4.6\n",
            "\n",
            "\n",
            "\n",
            "(4,054)\n",
            "\n",
            "₹6,799\n",
            "\n",
            "1 Item\n",
            "\n",
            "₹80,990\n",
            "\n",
            "2 Add-ons\n",
            "\n",
            "₹8,223\n",
            "\n",
            "Total\n",
            "\n",
            "₹89,213\n",
            "\n",
            "Ratings & Reviews\n",
            "\n",
            "4.7\n",
            "\n",
            "17,536 Ratings &\n",
            "\n",
            "1,087 Reviews\n",
            "\n",
            "5★\n",
            "\n",
            "4★\n",
            "\n",
            "3★\n",
            "\n",
            "2★\n",
            "\n",
            "1★\n",
            "\n",
            "14,478\n",
            "\n",
            "1,901\n",
            "\n",
            "375\n",
            "\n",
            "151\n",
            "\n",
            "631\n",
            "\n",
            "Performance\n",
            "\n",
            "Battery\n",
            "\n",
            "Design\n",
            "\n",
            "Display\n",
            "\n",
            "+ 810\n",
            "\n",
            "\n",
            "\n",
            "Perfect product!\n",
            "\n",
            "Loved it, it's my first MacBook that I earned from my hardwork 🥺❤️\n",
            "\n",
            "READ MORE\n",
            "\n",
            "Piyush Khare\n",
            "\n",
            "Certified Buyer, Noida\n",
            "\n",
            "Oct, 2023\n",
            "\n",
            "3478\n",
            "\n",
            "283\n",
            "\n",
            "Permalink\n",
            "\n",
            "Report Abuse\n",
            "\n",
            "\n",
            "\n",
            "Must buy!\n",
            "\n",
            "Battery lasted longer than my first relationship (2 days). Listening to Arijit singh songs on full volume since then still isn't getting over. Has more warmth than her. unlike her there's two way communication here as touchpad is very responsive. fingerprint lock is nice as it only opens up to me. 5 stars for this -1 for her\n",
            "\n",
            "READ MORE\n",
            "\n",
            "soumadeep bag\n",
            "\n",
            "Certified Buyer, Barasat\n",
            "\n",
            "5 months ago\n",
            "\n",
            "2310\n",
            "\n",
            "242\n",
            "\n",
            "Permalink\n",
            "\n",
            "Report Abuse\n",
            "\n",
            "\n",
            "\n",
            "Super!\n",
            "\n",
            "Super product\n",
            "\n",
            "READ MORE\n",
            "\n",
            "Vinu Viswan\n",
            "\n",
            "Certified Buyer, Kannamangalam Alappuzha District\n",
            "\n",
            "Jul, 2022\n",
            "\n",
            "688\n",
            "\n",
            "137\n",
            "\n",
            "Permalink\n",
            "\n",
            "Report Abuse\n",
            "\n",
            "\n",
            "\n",
            "Fabulous!\n",
            "\n",
            "Such a great deal.. very happy with the performance and battery life..Origional product..🥰❤️ Thank you Flipkart..!!!\n",
            "\n",
            "READ MORE\n",
            "\n",
            "Riya Singh\n",
            "\n",
            "Certified Buyer, Mathura District\n",
            "\n",
            "Oct, 2022\n",
            "\n",
            "184\n",
            "\n",
            "30\n",
            "\n",
            "Permalink\n",
            "\n",
            "Report Abuse\n",
            "\n",
            "\n",
            "\n",
            "Awesome\n",
            "\n",
            "When i ordered and came to know about seller review,i was scared that in what condition i will get macbook. but i was wrong. This is my first macbook and i am fully satisfied with the product with original packaging of apple and got genuine product. It's very thin and light and looks very premium. As A software developer, i installed intellij idea ide and guess what. It's magic,it is opening just in a click and within 5 seconds. Great performance, no heating issue, sound quality awesome an...\n",
            "\n",
            "READ MORE\n",
            "\n",
            "Mohit Anand\n",
            "\n",
            "Certified Buyer, Bengaluru\n",
            "\n",
            "Sep, 2022\n",
            "\n",
            "622\n",
            "\n",
            "124\n",
            "\n",
            "Permalink\n",
            "\n",
            "Report Abuse\n",
            "\n",
            "\n",
            "\n",
            "Brilliant\n",
            "\n",
            "Superb built quality, Amazing performance and display quality... Got it at 72k, wonderful product at great price.\n",
            "\n",
            "READ MORE\n",
            "\n",
            "Dhirendra Sahu\n",
            "\n",
            "Certified Buyer, Pune\n",
            "\n",
            "Oct, 2023\n",
            "\n",
            "60\n",
            "\n",
            "Permalink\n",
            "\n",
            "Report Abuse\n",
            "\n",
            "\n",
            "\n",
            "Mind-blowing purchase\n",
            "\n",
            "Best powerful machine in all aspects\n",
            "\n",
            "READ MORE\n",
            "\n",
            "Sagar Sundarde\n",
            "\n",
            "Certified Buyer, Aurangabad\n",
            "\n",
            "Oct, 2023\n",
            "\n",
            "29\n",
            "\n",
            "Permalink\n",
            "\n",
            "Report Abuse\n",
            "\n",
            "\n",
            "\n",
            "Just wow!\n",
            "\n",
            "Its really very good and compact device.\n",
            "\n",
            "READ MORE\n",
            "\n",
            "Hariprasad Mandal\n",
            "\n",
            "Certified Buyer, Rairangpur\n",
            "\n",
            "Sep, 2022\n",
            "\n",
            "192\n",
            "\n",
            "40\n",
            "\n",
            "Permalink\n",
            "\n",
            "Report Abuse\n",
            "\n",
            "\n",
            "\n",
            "Delightful\n",
            "\n",
            "Awesome build quality and very good display, battery and camera. Still new to macOS\n",
            "\n",
            "READ MORE\n",
            "\n",
            "prasad shetty\n",
            "\n",
            "Certified Buyer, Pune\n",
            "\n",
            "Oct, 2023\n",
            "\n",
            "53\n",
            "\n",
            "Permalink\n",
            "\n",
            "Report Abuse\n",
            "\n",
            "\n",
            "\n",
            "Highly recommended\n",
            "\n",
            "This is the first MacBook I ever have. And I must say no one can match Apple product.\n",
            "\n",
            "READ MORE\n",
            "\n",
            "Rahul Anand\n",
            "\n",
            "Certified Buyer, Giridih\n",
            "\n",
            "Sep, 2022\n",
            "\n",
            "83\n",
            "\n",
            "17\n",
            "\n",
            "Permalink\n",
            "\n",
            "Report Abuse\n",
            "\n",
            "All 1087 reviews\n",
            "\n",
            "Questions and Answers\n",
            "\n",
            "\n",
            "\n",
            "Q:Inbuilt ma office is there?\n",
            "\n",
            "A:No, it is not there. If you want to use MS office offline on the Mac, you got to buy the license. A cheaper alternative would be to use MS 365 web, but it can only be used online. I hope this helps!\n",
            "\n",
            "Naman Jain\n",
            "\n",
            "Certified Buyer\n",
            "\n",
            "166\n",
            "\n",
            "31\n",
            "\n",
            "Report Abuse\n",
            "\n",
            "Q:Can I install postgresql, mongodb , docker, vs code ,java, node , and web development apps all together without any problem and run each one at the same time?\n",
            "\n",
            "A:Yes, i am a web developer and using this things works smooth together\n",
            "\n",
            "Anonymous\n",
            "\n",
            "Certified Buyer\n",
            "\n",
            "122\n",
            "\n",
            "24\n",
            "\n",
            "Report Abuse\n",
            "\n",
            "Q:back side logo lights ?\n",
            "\n",
            "A:No . Logo doesn't light up.Apple has discontinued it from 2018 or maybe 2017\n",
            "\n",
            "Akhil Negi\n",
            "\n",
            "Certified Buyer\n",
            "\n",
            "171\n",
            "\n",
            "38\n",
            "\n",
            "Report Abuse\n",
            "\n",
            "Q:Is 256 gb storage enough for student usage ?\n",
            "\n",
            "A:Yes... It's enough....and in case you need more storage...it is better and cheaper to buy an external portable SSD of any good company than buying more storage version of Macbook air.\n",
            "\n",
            "Kshitij Maurya\n",
            "\n",
            "Certified Buyer\n",
            "\n",
            "24\n",
            "\n",
            "Report Abuse\n",
            "\n",
            "Q:Can we do coding in MacBook\n",
            "\n",
            "A:Yes you can i do it smoothly without any issue.\n",
            "\n",
            "Raushan Kumar singh\n",
            "\n",
            "Certified Buyer\n",
            "\n",
            "15\n",
            "\n",
            "Report Abuse\n",
            "\n",
            "Q:Is this laptop for video editing\n",
            "\n",
            "A:Yes\n",
            "\n",
            "Anonymous\n",
            "\n",
            "Certified Buyer\n",
            "\n",
            "17\n",
            "\n",
            "Report Abuse\n",
            "\n",
            "Q:Can we upgrade ram and hdd in mac?\n",
            "\n",
            "A:Unfortunately No\n",
            "\n",
            "Karthik Narayanan K\n",
            "\n",
            "Certified Buyer\n",
            "\n",
            "77\n",
            "\n",
            "33\n",
            "\n",
            "Report Abuse\n",
            "\n",
            "Q:Can i run autocad in this ??\n",
            "\n",
            "A:yes you can, but i would suggest to go for 16 gb ram or pro\n",
            "\n",
            "Anonymous\n",
            "\n",
            "Certified Buyer\n",
            "\n",
            "28\n",
            "\n",
            "Report Abuse\n",
            "\n",
            "Q:M2 can come with MS office like ms word, ms exel, power point presentation etc...\n",
            "\n",
            "A:It is not pre downloaded you have to download it from App Store\n",
            "\n",
            "Anonymous\n",
            "\n",
            "Certified Buyer\n",
            "\n",
            "31\n",
            "\n",
            "12\n",
            "\n",
            "Report Abuse\n",
            "\n",
            "Read other answers\n",
            "\n",
            "Q:Smooth run to photo editing app\n",
            "\n",
            "A:You might not be able to do a advanced professional grade VFX editing. Such as you won't be able to edit a film or anything but can edit YouTube shorts or videos at a normal length.\n",
            "\n",
            "Anonymous\n",
            "\n",
            "Certified Buyer\n",
            "\n",
            "19\n",
            "\n",
            "Report Abuse\n",
            "\n",
            "All questions+\n",
            "\n",
            "Safe and Secure Payments.Easy returns.100% Authentic products.\n",
            "\n",
            "You might be interested in\n",
            "\n",
            "\n",
            "\n",
            "Keyboards\n",
            "\n",
            "Min. 50% Off\n",
            "\n",
            "Shop Now\n",
            "\n",
            "\n",
            "\n",
            "Gaming Accessories\n",
            "\n",
            "Min. 50% Off\n",
            "\n",
            "Shop Now\n",
            "\n",
            "\n",
            "\n",
            "Mouse\n",
            "\n",
            "Min. 50% Off\n",
            "\n",
            "Shop Now\n",
            "\n",
            "\n",
            "\n",
            "Physical\n",
            "\n",
            "Min. 50% Off\n",
            "\n",
            "Shop Now\n",
            "\n",
            "Top Stories:Brand Directory\n",
            "\n",
            "MOST SEARCHED IN Computers & Accessories:ACER ASPIREASUS X200MAGRAPHIC CARD FOR LAPTOPGIGABYTE MOTHERBOARD PRICEHP ALL IN ONE DESKTOPDESKTOP COMPUTER PRICE LISTD LINK ROUTERCOMPUTERSCOLOR PRINTER PRICE1TB EXTERNAL HARD DRIVEEPSON L210 PRINTERHP 1020 PRINTER PRICEHP1020HP INKJET PRINTERHP SCANJET 2004G WIFI DONGLEHUAWEI DONGLEDVD WRITER PRICELAPTOP KEYBOARD PRICEACER LAPTOPS PRICE LISTLAPTOP ASUSHP LAPTOPS PRICESLINKSYS ROUTERMICROMAX CANVAS LAPTABMICRO SD CARD PRICEONLINE ANTIVIRUSTP-LINK TD-W8968TP-LINK TL-WR740NUPS FOR HOME\n",
            "\n",
            "ABOUT\n",
            "\n",
            "Contact UsAbout UsCareersFlipkart StoriesPressCorporate Information\n",
            "\n",
            "GROUP COMPANIES\n",
            "\n",
            "MyntraCleartripShopsy\n",
            "\n",
            "HELP\n",
            "\n",
            "PaymentsShippingCancellation & ReturnsFAQ\n",
            "\n",
            "CONSUMER POLICY\n",
            "\n",
            "Cancellation & ReturnsTerms Of UseSecurityPrivacySitemapGrievance RedressalEPR Compliance\n",
            "\n",
            "Mail Us:\n",
            "\n",
            "Flipkart Internet Private Limited,\n",
            "\n",
            "Buildings Alyssa, Begonia &\n",
            "\n",
            "Clove Embassy Tech Village,\n",
            "\n",
            "Outer Ring Road, Devarabeesanahalli Village,\n",
            "\n",
            "Bengaluru, 560103,\n",
            "\n",
            "Karnataka, India\n",
            "\n",
            "Social\n",
            "\n",
            "\n",
            "\n",
            "\n",
            "\n",
            "\n",
            "\n",
            "\n",
            "\n",
            "Registered Office Address:\n",
            "\n",
            "Flipkart Internet Private Limited,\n",
            "\n",
            "Buildings Alyssa, Begonia &\n",
            "\n",
            "Clove Embassy Tech Village,\n",
            "\n",
            "Outer Ring Road, Devarabeesanahalli Village,\n",
            "\n",
            "Bengaluru, 560103,\n",
            "\n",
            "Karnataka, India\n",
            "\n",
            "CIN : U51109KA2012PTC066107\n",
            "\n",
            "Telephone: 044-45614700 / 044-67415800\n",
            "\n",
            "\n",
            "\n",
            "Become a Seller\n",
            "\n",
            "\n",
            "\n",
            "Advertise\n",
            "\n",
            "\n",
            "\n",
            "Gift Cards\n",
            "\n",
            "\n",
            "\n",
            "Help Center\n",
            "\n",
            "© 2007-2025 Flipkart.com\n",
            "\n",
            "\n",
            "\n",
            "Back to top\n",
            "\n",
            "Price details\n",
            "\n",
            "Maximum Retail Price\n",
            "\n",
            "(incl. of all taxes)\n",
            "\n",
            "₹ 99900.00\n",
            "\n",
            "Selling Price\n",
            "\n",
            "₹ 99900.00\n",
            "\n",
            "Special Price\n",
            "\n",
            "₹ 80990.00\n"
          ]
        }
      ]
    },
    {
      "cell_type": "code",
      "source": [
        "print(documents[0].metadata)"
      ],
      "metadata": {
        "colab": {
          "base_uri": "https://localhost:8080/"
        },
        "id": "gCiT4Zoy9ksE",
        "outputId": "7657a5fe-7e42-4fbf-d7fa-6dee9d8e6b57"
      },
      "execution_count": 49,
      "outputs": [
        {
          "output_type": "stream",
          "name": "stdout",
          "text": [
            "{'source': 'https://www.flipkart.com/apple-macbook-air-m2-8-gb-256-gb-ssd-mac-os-monterey-mly13hn-a/p/itmd65f6b189fc7b', 'title': 'Apple MacBook AIR Apple M2 - (8 GB/256 GB SSD/Mac OS Monterey) MLY13HN/A Rs.99900 Price in India - Buy Apple MacBook AIR Apple M2 - (8 GB/256 GB SSD/Mac OS Monterey) MLY13HN/A Starlight Online - Apple : Flipkart.com', 'description': 'No description found.', 'language': 'en'}\n"
          ]
        }
      ]
    },
    {
      "cell_type": "markdown",
      "source": [
        "## Extract Text Data From Multiiple Websites"
      ],
      "metadata": {
        "id": "fUrKfVKP9_TK"
      }
    },
    {
      "cell_type": "code",
      "source": [
        "from langchain_community.document_loaders import SeleniumURLLoader\n",
        "from langchain_groq import ChatGroq\n",
        "from langchain_core.prompts import PromptTemplate\n",
        "from langchain_core.output_parsers import StrOutputParser\n",
        "from google.colab import userdata\n",
        "\n",
        "API_KEY = userdata.get('GROQ_API_KEY')\n",
        "\n",
        "\n",
        "loader = SeleniumURLLoader(urls=[\"https://www.flipkart.com/apple-macbook-air-m2-8-gb-256-gb-ssd-mac-os-monterey-mly13hn-a/p/itmd65f6b189fc7b\",\n",
        "                                 \"https://www.amazon.com/Apple-2022-MacBook-Laptop-chip/dp/B0DLHT9VXW/ref=sr_1_1?crid=1O898322LAI1K&dib=eyJ2IjoiMSJ9.VJ5gfxCfTp_MGdHmaWtcu4f8V9Rc4MO8pfenGJSOdBwErNNGh5qZPioINRcPNSjc97KQYlt1mI3OcUW0K8Wk765x8_VMAVOtI3eLjdl5BonhUZlKAnCIWEDUbC6aIC-0wDHxTzxyW_7PDqxWDtqHNyHs8aRjddWWGna6uQb2tO6EbqiGRFjP2byuWYSjbdndv1lzx2ICHug3fyPzOFDk8DSvGaSIZz-42S_QnVs_9Xs.n1DiCL7LkyM1Z6yNiChXngB3i2cwcnoXsKPDYV3PErk&dib_tag=se&keywords=apple%2Bm2%2B15%22%2Bmacbook%2Bair%2B8gb%2Bram%2B256gb%2Bssd&qid=1743689194&sprefix=apple%2Bmacbook%2Bair%2Bm2%2B8gb%2Caps%2C395&sr=8-1&th=1\"])\n",
        "documents = loader.load()\n",
        "\n",
        "print(len(documents))\n",
        "\n",
        "\n",
        "llm = ChatGroq(model_name=\"llama-3.3-70b-versatile\",api_key=API_KEY,temperature=0)\n",
        "\n",
        "prompt = PromptTemplate(template=\"Answer the following question \\n {question} from the following text - \\n {text}\",\n",
        "                        input_variables=[\"question\",\"text\"]\n",
        "                        )\n",
        "\n",
        "parser = StrOutputParser()\n",
        "\n",
        "chain = prompt | llm | parser\n",
        "\n",
        "result = chain.invoke({'question':\"what is the product that we are talking about?\",'text':documents[0].page_content})\n",
        "\n",
        "print(result)\n"
      ],
      "metadata": {
        "colab": {
          "base_uri": "https://localhost:8080/"
        },
        "id": "Xz6OjCWi91K7",
        "outputId": "c7a0bf1c-1cba-4dfc-e3c5-44184db20545"
      },
      "execution_count": 53,
      "outputs": [
        {
          "output_type": "stream",
          "name": "stdout",
          "text": [
            "2\n",
            "The product being discussed is the Apple MacBook AIR Apple M2 - (8 GB/256 GB SSD/Mac OS Monterey) MLY13HN/A.\n"
          ]
        }
      ]
    },
    {
      "cell_type": "markdown",
      "source": [
        "## CSVLoader\n",
        "\n",
        "### **CSVLoader** is a document loader used to load CSV files into LangChain Document objects one per row, by default."
      ],
      "metadata": {
        "id": "Cx4iVWGDBWve"
      }
    },
    {
      "cell_type": "code",
      "source": [
        "from langchain_community.document_loaders import CSVLoader\n",
        "\n",
        "loader = CSVLoader(\"/content/sample_data/california_housing_train.csv\")\n",
        "\n",
        "data = loader.load()\n",
        "\n",
        "print(data[0])"
      ],
      "metadata": {
        "colab": {
          "base_uri": "https://localhost:8080/"
        },
        "id": "NbjzcX3z_smH",
        "outputId": "8996a08b-376c-4e9d-a1e5-753e07948443"
      },
      "execution_count": 55,
      "outputs": [
        {
          "output_type": "stream",
          "name": "stdout",
          "text": [
            "page_content='longitude: -114.310000\n",
            "latitude: 34.190000\n",
            "housing_median_age: 15.000000\n",
            "total_rooms: 5612.000000\n",
            "total_bedrooms: 1283.000000\n",
            "population: 1015.000000\n",
            "households: 472.000000\n",
            "median_income: 1.493600\n",
            "median_house_value: 66900.000000' metadata={'source': '/content/sample_data/california_housing_train.csv', 'row': 0}\n"
          ]
        }
      ]
    },
    {
      "cell_type": "code",
      "source": [
        "print(len(data))"
      ],
      "metadata": {
        "colab": {
          "base_uri": "https://localhost:8080/"
        },
        "id": "8AgwEreQB7ql",
        "outputId": "0fafceb4-1209-4c3e-8e3a-05e3f2cd693e"
      },
      "execution_count": 56,
      "outputs": [
        {
          "output_type": "stream",
          "name": "stdout",
          "text": [
            "17000\n"
          ]
        }
      ]
    },
    {
      "cell_type": "markdown",
      "source": [
        "## means 17K rows are available in thier dataset."
      ],
      "metadata": {
        "id": "BQnyi6I0Cd1g"
      }
    },
    {
      "cell_type": "code",
      "source": [
        "print(data[16999])"
      ],
      "metadata": {
        "colab": {
          "base_uri": "https://localhost:8080/"
        },
        "id": "VsgIex3LCae5",
        "outputId": "ee1e996a-1ede-4c75-8f3c-abeb749d4ef4"
      },
      "execution_count": 58,
      "outputs": [
        {
          "output_type": "stream",
          "name": "stdout",
          "text": [
            "page_content='longitude: -124.350000\n",
            "latitude: 40.540000\n",
            "housing_median_age: 52.000000\n",
            "total_rooms: 1820.000000\n",
            "total_bedrooms: 300.000000\n",
            "population: 806.000000\n",
            "households: 270.000000\n",
            "median_income: 3.014700\n",
            "median_house_value: 94600.000000' metadata={'source': '/content/sample_data/california_housing_train.csv', 'row': 16999}\n"
          ]
        }
      ]
    },
    {
      "cell_type": "markdown",
      "source": [
        "## How to create a custom Document Loader ?\n",
        ""
      ],
      "metadata": {
        "id": "O1ih5vGlDgA2"
      }
    },
    {
      "cell_type": "markdown",
      "source": [
        "## Implementation"
      ],
      "metadata": {
        "id": "fTFs-1chEC9N"
      }
    },
    {
      "cell_type": "code",
      "source": [
        "from typing import AsyncIterator, Iterator\n",
        "\n",
        "from langchain_core.document_loaders import BaseLoader\n",
        "from langchain_core.documents import Document\n",
        "\n",
        "\n",
        "class CustomDocumentLoader(BaseLoader):\n",
        "    \"\"\"An example document loader that reads a file line by line.\"\"\"\n",
        "\n",
        "    def __init__(self, file_path: str) -> None:\n",
        "        \"\"\"Initialize the loader with a file path.\n",
        "\n",
        "        Args:\n",
        "            file_path: The path to the file to load.\n",
        "        \"\"\"\n",
        "        self.file_path = file_path\n",
        "\n",
        "    def lazy_load(self) -> Iterator[Document]:  # <-- Does not take any arguments\n",
        "        \"\"\"A lazy loader that reads a file line by line.\n",
        "\n",
        "        When you're implementing lazy load methods, you should use a generator\n",
        "        to yield documents one by one.\n",
        "        \"\"\"\n",
        "        with open(self.file_path, encoding=\"utf-8\") as f:\n",
        "            line_number = 0\n",
        "            for line in f:\n",
        "                yield Document(\n",
        "                    page_content=line,\n",
        "                    metadata={\"line_number\": line_number, \"source\": self.file_path},\n",
        "                )\n",
        "                line_number += 1\n",
        "\n",
        "    # alazy_load is OPTIONAL.\n",
        "    # If you leave out the implementation, a default implementation which delegates to lazy_load will be used!\n",
        "    async def alazy_load(\n",
        "        self,\n",
        "    ) -> AsyncIterator[Document]:  # <-- Does not take any arguments\n",
        "        \"\"\"An async lazy loader that reads a file line by line.\"\"\"\n",
        "        # Requires aiofiles (install with pip)\n",
        "        # https://github.com/Tinche/aiofiles\n",
        "        import aiofiles\n",
        "\n",
        "        async with aiofiles.open(self.file_path, encoding=\"utf-8\") as f:\n",
        "            line_number = 0\n",
        "            async for line in f:\n",
        "                yield Document(\n",
        "                    page_content=line,\n",
        "                    metadata={\"line_number\": line_number, \"source\": self.file_path},\n",
        "                )\n",
        "                line_number += 1"
      ],
      "metadata": {
        "id": "psJvfqbDCj6M"
      },
      "execution_count": null,
      "outputs": []
    },
    {
      "cell_type": "markdown",
      "source": [
        "## Test"
      ],
      "metadata": {
        "id": "ZU-rh4x2EGO7"
      }
    },
    {
      "cell_type": "code",
      "source": [
        "with open(\"./meow.txt\", \"w\", encoding=\"utf-8\") as f:\n",
        "    quality_content = \"meow meow🐱 \\n meow meow🐱 \\n meow😻😻\"\n",
        "    f.write(quality_content)\n",
        "\n",
        "loader = CustomDocumentLoader(\"./meow.txt\")"
      ],
      "metadata": {
        "id": "vCIPO0wbEHiS"
      },
      "execution_count": null,
      "outputs": []
    },
    {
      "cell_type": "code",
      "source": [
        "## Test out the lazy load interface\n",
        "for doc in loader.lazy_load():\n",
        "    print()\n",
        "    print(type(doc))\n",
        "    print(doc)"
      ],
      "metadata": {
        "id": "l2dID362ENAV"
      },
      "execution_count": null,
      "outputs": []
    },
    {
      "cell_type": "markdown",
      "source": [
        "## Reference: https://python.langchain.com/docs/how_to/document_loader_custom/"
      ],
      "metadata": {
        "id": "g0LOVz0nEPF3"
      }
    }
  ]
}