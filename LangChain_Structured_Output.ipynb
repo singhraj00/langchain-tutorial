{
  "nbformat": 4,
  "nbformat_minor": 0,
  "metadata": {
    "colab": {
      "provenance": [],
      "authorship_tag": "ABX9TyPrz1Ozo3e8iNctVVKitvT0",
      "include_colab_link": true
    },
    "kernelspec": {
      "name": "python3",
      "display_name": "Python 3"
    },
    "language_info": {
      "name": "python"
    }
  },
  "cells": [
    {
      "cell_type": "markdown",
      "metadata": {
        "id": "view-in-github",
        "colab_type": "text"
      },
      "source": [
        "<a href=\"https://colab.research.google.com/github/singhraj00/langchain-tutorial/blob/main/LangChain_Structured_Output.ipynb\" target=\"_parent\"><img src=\"https://colab.research.google.com/assets/colab-badge.svg\" alt=\"Open In Colab\"/></a>"
      ]
    },
    {
      "cell_type": "markdown",
      "source": [
        "# Structured Output\n",
        "\n",
        "## In LangChain, structured output refers to the practice of having language models return responses in a well-defined data format (for example, JSON), rather than free-form text. This makes the model output easier to parse and work with the programmatically.\n",
        "\n",
        "[**prompt**] - Can you create a one-day travel itinerary for Paris?\n",
        "\n",
        "[LLM's Unstructured Response]\n",
        "\n",
        "Here's suggested itinerary: Morning: visit the Eiffel Tower.\n",
        "Afternoon: Walk through the Louvre Musiem.\n",
        "Evening: Enjoy dinner at a seine riverside cafe.\n",
        "\n",
        "[JSON structured output]\n",
        "\n",
        "``[\n",
        "  {\"time\":\"Morning\",\"activity\":\"visit the Eiffel Tower\"},\n",
        "  {\"time\":\"Afternoon\",\"activity\":\"Afternoon: Walk through the Louvre Musiem\"},\n",
        "    {\"time\":\"Evening\",\"activity\":\"Enjoy dinner at a seine riverside cafe\"},\n",
        "]\n",
        "``"
      ],
      "metadata": {
        "id": "6tyLdL7YVKm_"
      }
    },
    {
      "cell_type": "markdown",
      "source": [
        "## Why do we need Structured Output ?\n",
        "\n",
        "- Data extraction\n",
        "- API Building\n",
        "- Agents Building"
      ],
      "metadata": {
        "id": "XCwADWFwYde0"
      }
    },
    {
      "cell_type": "markdown",
      "source": [
        "## Ways to get structured output\n",
        "\n",
        "- **with_structure_output :** used within those llms are which capable to generate structure outputs for eg. openai models.\n",
        "- **output parsers :** used within those models which are not capable to generate structure outputs for eg. open source llm models."
      ],
      "metadata": {
        "id": "wthNdcDPZmSv"
      }
    },
    {
      "cell_type": "markdown",
      "source": [
        "## with_structure_output: **calls this function before invoke method for structure outputs from llm.**\n",
        "\n",
        "structure output are different data_format such as following:\n",
        "- TypedDict\n",
        "- Pydantic\n",
        "- json_schema\n",
        "\n",
        "## TypedDict\n",
        "\n",
        "### **TypedDict** is a way to define a dictory in python where you specify what keys and values should exists. It helps ensure your dictionary to follows specific structure.\n",
        "\n",
        "## why use TypedDict?\n",
        "- It tells Python what keys are required and what types of values they should have.\n",
        "- It does not validate data at runtime (it just helps with type hints for better coding).\n",
        "\n"
      ],
      "metadata": {
        "id": "coky5yfVaL7b"
      }
    },
    {
      "cell_type": "markdown",
      "source": [
        "## Code Example"
      ],
      "metadata": {
        "id": "qWj4W19kce9J"
      }
    },
    {
      "cell_type": "code",
      "execution_count": 1,
      "metadata": {
        "colab": {
          "base_uri": "https://localhost:8080/"
        },
        "id": "fgmjlBihVAr-",
        "outputId": "625982c6-084d-4632-80c9-09f87175cda4"
      },
      "outputs": [
        {
          "output_type": "stream",
          "name": "stdout",
          "text": [
            "{'name': 'raj', 'age': 21}\n"
          ]
        }
      ],
      "source": [
        "from typing import TypedDict\n",
        "\n",
        "class Person(TypedDict):\n",
        "  name: str\n",
        "  age: int\n",
        "\n",
        "new_person: Person = {\"name\":\"raj\",\"age\":21}\n",
        "\n",
        "print(new_person)"
      ]
    },
    {
      "cell_type": "markdown",
      "source": [
        "## with_structure_output with typeddict"
      ],
      "metadata": {
        "id": "EhEZ4-6ydhIU"
      }
    },
    {
      "cell_type": "code",
      "source": [
        "!pip install langchain langchain_core langchain_groq"
      ],
      "metadata": {
        "colab": {
          "base_uri": "https://localhost:8080/"
        },
        "collapsed": true,
        "id": "6HDs1KPVdZBp",
        "outputId": "0179844d-b02a-4605-90fa-a19e0ba9d077"
      },
      "execution_count": 4,
      "outputs": [
        {
          "output_type": "stream",
          "name": "stdout",
          "text": [
            "Requirement already satisfied: langchain in /usr/local/lib/python3.11/dist-packages (0.3.20)\n",
            "Requirement already satisfied: langchain_core in /usr/local/lib/python3.11/dist-packages (0.3.45)\n",
            "Collecting langchain_groq\n",
            "  Downloading langchain_groq-0.3.1-py3-none-any.whl.metadata (2.6 kB)\n",
            "Requirement already satisfied: langchain-text-splitters<1.0.0,>=0.3.6 in /usr/local/lib/python3.11/dist-packages (from langchain) (0.3.6)\n",
            "Requirement already satisfied: langsmith<0.4,>=0.1.17 in /usr/local/lib/python3.11/dist-packages (from langchain) (0.3.15)\n",
            "Requirement already satisfied: pydantic<3.0.0,>=2.7.4 in /usr/local/lib/python3.11/dist-packages (from langchain) (2.10.6)\n",
            "Requirement already satisfied: SQLAlchemy<3,>=1.4 in /usr/local/lib/python3.11/dist-packages (from langchain) (2.0.39)\n",
            "Requirement already satisfied: requests<3,>=2 in /usr/local/lib/python3.11/dist-packages (from langchain) (2.32.3)\n",
            "Requirement already satisfied: PyYAML>=5.3 in /usr/local/lib/python3.11/dist-packages (from langchain) (6.0.2)\n",
            "Requirement already satisfied: tenacity!=8.4.0,<10.0.0,>=8.1.0 in /usr/local/lib/python3.11/dist-packages (from langchain_core) (9.0.0)\n",
            "Requirement already satisfied: jsonpatch<2.0,>=1.33 in /usr/local/lib/python3.11/dist-packages (from langchain_core) (1.33)\n",
            "Requirement already satisfied: packaging<25,>=23.2 in /usr/local/lib/python3.11/dist-packages (from langchain_core) (24.2)\n",
            "Requirement already satisfied: typing-extensions>=4.7 in /usr/local/lib/python3.11/dist-packages (from langchain_core) (4.12.2)\n",
            "Collecting langchain_core\n",
            "  Downloading langchain_core-0.3.47-py3-none-any.whl.metadata (5.9 kB)\n",
            "Collecting groq<1,>=0.4.1 (from langchain_groq)\n",
            "  Downloading groq-0.20.0-py3-none-any.whl.metadata (15 kB)\n",
            "Requirement already satisfied: anyio<5,>=3.5.0 in /usr/local/lib/python3.11/dist-packages (from groq<1,>=0.4.1->langchain_groq) (4.9.0)\n",
            "Requirement already satisfied: distro<2,>=1.7.0 in /usr/local/lib/python3.11/dist-packages (from groq<1,>=0.4.1->langchain_groq) (1.9.0)\n",
            "Requirement already satisfied: httpx<1,>=0.23.0 in /usr/local/lib/python3.11/dist-packages (from groq<1,>=0.4.1->langchain_groq) (0.28.1)\n",
            "Requirement already satisfied: sniffio in /usr/local/lib/python3.11/dist-packages (from groq<1,>=0.4.1->langchain_groq) (1.3.1)\n",
            "Requirement already satisfied: jsonpointer>=1.9 in /usr/local/lib/python3.11/dist-packages (from jsonpatch<2.0,>=1.33->langchain_core) (3.0.0)\n",
            "Requirement already satisfied: orjson<4.0.0,>=3.9.14 in /usr/local/lib/python3.11/dist-packages (from langsmith<0.4,>=0.1.17->langchain) (3.10.15)\n",
            "Requirement already satisfied: requests-toolbelt<2.0.0,>=1.0.0 in /usr/local/lib/python3.11/dist-packages (from langsmith<0.4,>=0.1.17->langchain) (1.0.0)\n",
            "Requirement already satisfied: zstandard<0.24.0,>=0.23.0 in /usr/local/lib/python3.11/dist-packages (from langsmith<0.4,>=0.1.17->langchain) (0.23.0)\n",
            "Requirement already satisfied: annotated-types>=0.6.0 in /usr/local/lib/python3.11/dist-packages (from pydantic<3.0.0,>=2.7.4->langchain) (0.7.0)\n",
            "Requirement already satisfied: pydantic-core==2.27.2 in /usr/local/lib/python3.11/dist-packages (from pydantic<3.0.0,>=2.7.4->langchain) (2.27.2)\n",
            "Requirement already satisfied: charset-normalizer<4,>=2 in /usr/local/lib/python3.11/dist-packages (from requests<3,>=2->langchain) (3.4.1)\n",
            "Requirement already satisfied: idna<4,>=2.5 in /usr/local/lib/python3.11/dist-packages (from requests<3,>=2->langchain) (3.10)\n",
            "Requirement already satisfied: urllib3<3,>=1.21.1 in /usr/local/lib/python3.11/dist-packages (from requests<3,>=2->langchain) (2.3.0)\n",
            "Requirement already satisfied: certifi>=2017.4.17 in /usr/local/lib/python3.11/dist-packages (from requests<3,>=2->langchain) (2025.1.31)\n",
            "Requirement already satisfied: greenlet!=0.4.17 in /usr/local/lib/python3.11/dist-packages (from SQLAlchemy<3,>=1.4->langchain) (3.1.1)\n",
            "Requirement already satisfied: httpcore==1.* in /usr/local/lib/python3.11/dist-packages (from httpx<1,>=0.23.0->groq<1,>=0.4.1->langchain_groq) (1.0.7)\n",
            "Requirement already satisfied: h11<0.15,>=0.13 in /usr/local/lib/python3.11/dist-packages (from httpcore==1.*->httpx<1,>=0.23.0->groq<1,>=0.4.1->langchain_groq) (0.14.0)\n",
            "Downloading langchain_groq-0.3.1-py3-none-any.whl (15 kB)\n",
            "Downloading langchain_core-0.3.47-py3-none-any.whl (417 kB)\n",
            "\u001b[2K   \u001b[90m━━━━━━━━━━━━━━━━━━━━━━━━━━━━━━━━━━━━━━━━\u001b[0m \u001b[32m417.1/417.1 kB\u001b[0m \u001b[31m20.9 MB/s\u001b[0m eta \u001b[36m0:00:00\u001b[0m\n",
            "\u001b[?25hDownloading groq-0.20.0-py3-none-any.whl (124 kB)\n",
            "\u001b[2K   \u001b[90m━━━━━━━━━━━━━━━━━━━━━━━━━━━━━━━━━━━━━━━━\u001b[0m \u001b[32m124.9/124.9 kB\u001b[0m \u001b[31m9.9 MB/s\u001b[0m eta \u001b[36m0:00:00\u001b[0m\n",
            "\u001b[?25hInstalling collected packages: groq, langchain_core, langchain_groq\n",
            "  Attempting uninstall: langchain_core\n",
            "    Found existing installation: langchain-core 0.3.45\n",
            "    Uninstalling langchain-core-0.3.45:\n",
            "      Successfully uninstalled langchain-core-0.3.45\n",
            "Successfully installed groq-0.20.0 langchain_core-0.3.47 langchain_groq-0.3.1\n"
          ]
        }
      ]
    },
    {
      "cell_type": "code",
      "source": [
        "from langchain_groq import ChatGroq\n",
        "from google.colab import userdata\n",
        "from langchain_core.messages import HumanMessage,SystemMessage\n",
        "from langchain.prompts import PromptTemplate\n",
        "from typing import TypedDict,Annotated,Optional\n",
        "\n",
        "\n",
        "API_KEY = userdata.get(\"GROQ_API_KEY\")\n",
        "\n",
        "chat = ChatGroq(model_name='llama-3.3-70b-versatile',api_key=API_KEY,temperature=0.5)\n",
        "\n",
        "## create schema\n",
        "\n",
        "class Review(TypedDict):\n",
        "  ## Simple TypedDict\n",
        "\n",
        "  # summary : str\n",
        "  # sentiment : str\n",
        "\n",
        "  ## Annotated TypedDict\n",
        "  key_themes : Annotated[list[str], \"write down all the key themes discussed in the review in a list\"]\n",
        "  summary : Annotated[str, \"A brief summary of the review\"]\n",
        "  sentiment : Annotated[str, \"return sentiment of the review\"]\n",
        "  pros : Annotated[Optional[list[str]],\"write down all pros inside a list\"]\n",
        "  cons : Annotated[Optional[list[str]],\"write down all cons inside a list\"]\n",
        "  name : Annotated[str,\"write the name of the reviewer\"]\n",
        "\n",
        "\n",
        "## create schema\n",
        "structured_model = chat.with_structured_output(Review)\n",
        "\n",
        "result = structured_model.invoke(\"\"\"Product was good, the front camera is only 16mp,\n",
        "              they can give that a 32mp instead of 16mp,\n",
        "              that is the only drawback i found on this device,\n",
        "              overall performance is good, design is amazing,\n",
        "              gives a very good in hand feel, charging is amazingly fast,\n",
        "              gaming is excellent, fingerprint reader is fast, camera is good,\n",
        "              i loved the video stabilisation and the 8k 30fps video resolution,\n",
        "              and the size of the phone is comparatively slight\n",
        "              bigger but thats not a problem,\n",
        "              and the durability is also good,\n",
        "              but the company needed to give the ip69 rating,\n",
        "              overall good device and the fastest of all\"\"\")\n",
        "\n",
        "## complex review\n",
        "result2 = structured_model.invoke(\"\"\"iPhone level but up there, really good video zoom just use pro mode if you want to pull out the most details keep it around 500 ISO AND EVERYTHING AUTO, video in night auto mode is good but it does have some grains in it. Battery life if good if you play bgmi, you will probably get 6 hours I play with smooth 90fps and 4x anti aliasing and don't use frame interpolation there is slight delay in gyro but does make it smoother but not recommended. Battery is good few games and camera ussage will probably get you 6+ hours and light usage will get 8 hours +. Charging takes 35 min to full charge. I haven't updated my phone since July, if you're in July patch then don't update that's the best update I've had and tested for performance and camera quality and would not recommend updating your phone as all other companies it might slow down if you want to update then look it up first then decide if you want update the software but wouldn't recommend only if the banking or other apps need the latest firmware the you need to update or you can go to the service centre and ask them to downgrade.\n",
        "\n",
        "Pros\n",
        "* Good camera for the price could be bit better in video.\n",
        "* One of the best gaming phones does heat up but in a controlled way and cools down pretty fast.\n",
        "* Really Fast charging speed ( does heat a bit nothing to bother or just open settings - battery - charging and disable fast charging it will slightly slow down charging speed but it will decrease phone's surface temp ).\n",
        "* Good display very bright overall really good\n",
        "screen.\n",
        "* Very good after sale service ( disclaimer had experience with previous phone iqoo Neo 6 regarding screen replacement bit pricey but really good experience and very fast.\n",
        "\n",
        "Cons\n",
        "* Mediocre Selfie camera my old IQoo Neo 6 had better selfie's than this paid 55k for a phone and no 4k Selfie video front is the biggest downside of this phone.\n",
        "* UI is good very reliable but not as good as other Android Skins ( Just updated to android 15 did make a way better and smoother but could be better).\n",
        "* And audio transmitter has kinda bad the output is not upto to the mark with bluetooh specifically had same problem with my Neo 6 my poco f1 had really good audio Dec on board than this two new phones.\n",
        "\n",
        "Review by Raj Singh.\n",
        "\"\"\")\n",
        "\n",
        "print(result)\n",
        "print(result2)"
      ],
      "metadata": {
        "colab": {
          "base_uri": "https://localhost:8080/"
        },
        "id": "bcT38RtAfAEs",
        "outputId": "b8e268a3-b3cf-4d8f-dd53-b94db664459d"
      },
      "execution_count": 19,
      "outputs": [
        {
          "output_type": "stream",
          "name": "stdout",
          "text": [
            "{'name': 'Reviewer', 'summary': 'The product is good with excellent performance, design, and features like fast charging, gaming, and camera, but has some drawbacks like a 16mp front camera and no ip69 rating', 'pros': ['good performance', 'amazing design', 'fast charging', 'excellent gaming', 'good camera', 'fast fingerprint reader', 'good video stabilisation', '8k 30fps video resolution'], 'cons': ['16mp front camera instead of 32mp', 'no ip69 rating'], 'key_themes': ['performance', 'design', 'camera', 'charging', 'gaming', 'durability'], 'sentiment': 'Positive'}\n",
            "{'name': 'Raj Singh', 'summary': 'The phone has a good camera, excellent gaming performance, and fast charging, but lacks in selfie camera quality and has some issues with audio output and UI', 'pros': ['Good camera for the price', 'One of the best gaming phones', 'Really Fast charging speed', 'Good display', 'Very good after sale service'], 'cons': ['Mediocre Selfie camera', 'UI is good but not as good as other Android Skins', 'Audio transmitter has bad output'], 'sentiment': 'Generally positive but with some drawbacks', 'key_themes': ['camera quality', 'gaming performance', 'charging speed', 'display', 'after sale service', 'selfie camera', 'UI', 'audio output']}\n"
          ]
        }
      ]
    },
    {
      "cell_type": "markdown",
      "source": [
        "## Pydantic\n",
        "\n",
        "### **Pydantic** is a data validation and data parsing library for Python. It ensures that the data you work with is correct, structured, and type-safe."
      ],
      "metadata": {
        "id": "dzZPGiYdmMG6"
      }
    },
    {
      "cell_type": "markdown",
      "source": [
        "## Code Example"
      ],
      "metadata": {
        "id": "inc_jIjMoWWV"
      }
    },
    {
      "cell_type": "code",
      "source": [
        "!pip install pydantic\n",
        "!pip install pydantic[email]"
      ],
      "metadata": {
        "colab": {
          "base_uri": "https://localhost:8080/"
        },
        "id": "6e05SPiFhu10",
        "outputId": "32a58ef0-7a7b-4dd3-edf5-134dfa4a2ae9"
      },
      "execution_count": 41,
      "outputs": [
        {
          "output_type": "stream",
          "name": "stdout",
          "text": [
            "Requirement already satisfied: pydantic in /usr/local/lib/python3.11/dist-packages (2.10.6)\n",
            "Requirement already satisfied: annotated-types>=0.6.0 in /usr/local/lib/python3.11/dist-packages (from pydantic) (0.7.0)\n",
            "Requirement already satisfied: pydantic-core==2.27.2 in /usr/local/lib/python3.11/dist-packages (from pydantic) (2.27.2)\n",
            "Requirement already satisfied: typing-extensions>=4.12.2 in /usr/local/lib/python3.11/dist-packages (from pydantic) (4.12.2)\n",
            "Requirement already satisfied: pydantic[email] in /usr/local/lib/python3.11/dist-packages (2.10.6)\n",
            "Requirement already satisfied: annotated-types>=0.6.0 in /usr/local/lib/python3.11/dist-packages (from pydantic[email]) (0.7.0)\n",
            "Requirement already satisfied: pydantic-core==2.27.2 in /usr/local/lib/python3.11/dist-packages (from pydantic[email]) (2.27.2)\n",
            "Requirement already satisfied: typing-extensions>=4.12.2 in /usr/local/lib/python3.11/dist-packages (from pydantic[email]) (4.12.2)\n",
            "Collecting email-validator>=2.0.0 (from pydantic[email])\n",
            "  Downloading email_validator-2.2.0-py3-none-any.whl.metadata (25 kB)\n",
            "Collecting dnspython>=2.0.0 (from email-validator>=2.0.0->pydantic[email])\n",
            "  Downloading dnspython-2.7.0-py3-none-any.whl.metadata (5.8 kB)\n",
            "Requirement already satisfied: idna>=2.0.0 in /usr/local/lib/python3.11/dist-packages (from email-validator>=2.0.0->pydantic[email]) (3.10)\n",
            "Downloading email_validator-2.2.0-py3-none-any.whl (33 kB)\n",
            "Downloading dnspython-2.7.0-py3-none-any.whl (313 kB)\n",
            "\u001b[2K   \u001b[90m━━━━━━━━━━━━━━━━━━━━━━━━━━━━━━━━━━━━━━━━\u001b[0m \u001b[32m313.6/313.6 kB\u001b[0m \u001b[31m23.9 MB/s\u001b[0m eta \u001b[36m0:00:00\u001b[0m\n",
            "\u001b[?25hInstalling collected packages: dnspython, email-validator\n",
            "Successfully installed dnspython-2.7.0 email-validator-2.2.0\n"
          ]
        }
      ]
    },
    {
      "cell_type": "code",
      "source": [
        "from pydantic import BaseModel, EmailStr,Field\n",
        "from typing import Optional\n",
        "\n",
        "class Student(BaseModel):\n",
        "  ## validating data type\n",
        "  ## by default user\n",
        "  name : str = 'user'\n",
        "  roll_no : int\n",
        "  age : Optional[int] = None\n",
        "  email : EmailStr\n",
        "  cgpa : float = Field(gt=0,le=10,default=5,description=\"a decimal value representing the cgpa of a student\")\n",
        "\n",
        "new_student = {\"roll_no\":1,\"age\":'21',\"email\":\"abc@gmail.com\",}\n",
        "\n",
        "student = Student(**new_student)\n",
        "\n",
        "student_dict = dict(student)\n",
        "\n",
        "student_json = student.model_dump_json()\n",
        "\n",
        "print(student_json)\n",
        "print(student_dict)\n",
        "\n",
        "# print(dict(student))\n",
        "## implicitly type conversion\n",
        "# print(type(student.age))  -- int\n",
        "# print(student.name)  -- str"
      ],
      "metadata": {
        "colab": {
          "base_uri": "https://localhost:8080/"
        },
        "id": "KYXGl9H5ofLX",
        "outputId": "10b588d5-eb56-42bd-dc3e-3c071cbf74eb"
      },
      "execution_count": 53,
      "outputs": [
        {
          "output_type": "stream",
          "name": "stdout",
          "text": [
            "{\"name\":\"user\",\"roll_no\":1,\"age\":21,\"email\":\"abc@gmail.com\",\"cgpa\":5.0}\n",
            "{'name': 'user', 'roll_no': 1, 'age': 21, 'email': 'abc@gmail.com', 'cgpa': 5}\n"
          ]
        }
      ]
    },
    {
      "cell_type": "markdown",
      "source": [
        "## Pydantic Demo with_structure_output"
      ],
      "metadata": {
        "id": "Xy-sYaCpsQ_F"
      }
    },
    {
      "cell_type": "code",
      "source": [
        "from langchain_groq import ChatGroq\n",
        "from google.colab import userdata\n",
        "from langchain_core.messages import HumanMessage,SystemMessage\n",
        "from langchain.prompts import PromptTemplate\n",
        "from pydantic import BaseModel,Field\n",
        "from typing import Optional,Literal\n",
        "\n",
        "\n",
        "API_KEY = userdata.get(\"GROQ_API_KEY\")\n",
        "\n",
        "chat = ChatGroq(model_name='llama-3.3-70b-versatile',api_key=API_KEY,temperature=0.5)\n",
        "\n",
        "## create schema\n",
        "\n",
        "class Review(BaseModel):\n",
        "  key_themes: list[str] = Field(description=\"write down all the key themes discussed in the review in a list\")\n",
        "  summary: str = Field(description=\"A brief summary of the review\")\n",
        "  sentiment : Literal[\"positive\",\"negative\",\"neutral\"] = Field(description=\"return sentiment of the review\")\n",
        "  pros : Optional[list[str]] = Field(default=None,description='write down all the pros inside a list')\n",
        "  cons : Optional[list[str]] = Field(default=None,description='write down all the cons inside a list')\n",
        "  name : Optional[str] = Field(default=None,description='write down the reviewer name if available in review')\n",
        "\n",
        "## create schema\n",
        "structured_model = chat.with_structured_output(Review)\n",
        "\n",
        "result = structured_model.invoke(\"\"\"Product was good, the front camera is only 16mp,\n",
        "              they can give that a 32mp instead of 16mp,\n",
        "              that is the only drawback i found on this device,\n",
        "              overall performance is good, design is amazing,\n",
        "              gives a very good in hand feel, charging is amazingly fast,\n",
        "              gaming is excellent, fingerprint reader is fast, camera is good,\n",
        "              i loved the video stabilisation and the 8k 30fps video resolution,\n",
        "              and the size of the phone is comparatively slight\n",
        "              bigger but thats not a problem,\n",
        "              and the durability is also good,\n",
        "              but the company needed to give the ip69 rating,\n",
        "              overall good device and the fastest of all\"\"\")\n",
        "\n",
        "## complex review\n",
        "result2 = structured_model.invoke(\"\"\"iPhone level but up there, really good video zoom just use pro mode if you want to pull out the most details keep it around 500 ISO AND EVERYTHING AUTO, video in night auto mode is good but it does have some grains in it. Battery life if good if you play bgmi, you will probably get 6 hours I play with smooth 90fps and 4x anti aliasing and don't use frame interpolation there is slight delay in gyro but does make it smoother but not recommended. Battery is good few games and camera ussage will probably get you 6+ hours and light usage will get 8 hours +. Charging takes 35 min to full charge. I haven't updated my phone since July, if you're in July patch then don't update that's the best update I've had and tested for performance and camera quality and would not recommend updating your phone as all other companies it might slow down if you want to update then look it up first then decide if you want update the software but wouldn't recommend only if the banking or other apps need the latest firmware the you need to update or you can go to the service centre and ask them to downgrade.\n",
        "\n",
        "Pros\n",
        "* Good camera for the price could be bit better in video.\n",
        "* One of the best gaming phones does heat up but in a controlled way and cools down pretty fast.\n",
        "* Really Fast charging speed ( does heat a bit nothing to bother or just open settings - battery - charging and disable fast charging it will slightly slow down charging speed but it will decrease phone's surface temp ).\n",
        "* Good display very bright overall really good\n",
        "screen.\n",
        "* Very good after sale service ( disclaimer had experience with previous phone iqoo Neo 6 regarding screen replacement bit pricey but really good experience and very fast.\n",
        "\n",
        "Cons\n",
        "* Mediocre Selfie camera my old IQoo Neo 6 had better selfie's than this paid 55k for a phone and no 4k Selfie video front is the biggest downside of this phone.\n",
        "* UI is good very reliable but not as good as other Android Skins ( Just updated to android 15 did make a way better and smoother but could be better).\n",
        "* And audio transmitter has kinda bad the output is not upto to the mark with bluetooh specifically had same problem with my Neo 6 my poco f1 had really good audio Dec on board than this two new phones.\n",
        "\n",
        "Review by Raj Singh.\n",
        "\"\"\")\n",
        "\n",
        "\n",
        "## pydantic object\n",
        "print(result)\n",
        "print(result2)"
      ],
      "metadata": {
        "colab": {
          "base_uri": "https://localhost:8080/"
        },
        "id": "o7jRXB5wouvT",
        "outputId": "5ee941fa-81fc-467e-f26a-e2fd7ab7af19"
      },
      "execution_count": 55,
      "outputs": [
        {
          "output_type": "stream",
          "name": "stdout",
          "text": [
            "key_themes=['performance', 'design', 'camera', 'charging', 'gaming', 'durability'] summary='The product is good with excellent performance, design, and features like fast charging, gaming, and camera, but has some drawbacks like a 16mp front camera and no ip69 rating' sentiment='positive' pros=['good performance', 'amazing design', 'fast charging', 'excellent gaming', 'good camera', 'video stabilisation', '8k 30fps video resolution', 'good durability'] cons=['16mp front camera instead of 32mp', 'no ip69 rating'] name=None\n",
            "key_themes=['camera quality', 'gaming performance', 'fast charging', 'display', 'selfie camera', 'UI', 'audio quality'] summary='The phone has a good camera, excellent gaming performance, fast charging, and a good display, but has some drawbacks such as a mediocre selfie camera, average UI, and poor audio transmitter output' sentiment='positive' pros=['Good camera for the price', 'One of the best gaming phones', 'Really Fast charging speed', 'Good display', 'Very good after sale service'] cons=['Mediocre Selfie camera', 'UI is good but not as good as other Android Skins', 'Audio transmitter has poor output'] name='Raj Singh'\n"
          ]
        }
      ]
    },
    {
      "cell_type": "markdown",
      "source": [
        "## json_schema"
      ],
      "metadata": {
        "id": "quNN8zZhuF-k"
      }
    },
    {
      "cell_type": "code",
      "source": [
        "%%writefile json_schema.json\n",
        "{\n",
        "    \"title\":\"Review\",\n",
        "    \"description\":\"schema about product review\",\n",
        "    \"type\":\"object\",\n",
        "    \"properties\":{\n",
        "        \"key_themes\":{\n",
        "            \"type\":[\"array\",\"null\"],\n",
        "            \"items\":{ \"type\":\"string\"},\n",
        "            \"description\":\"write down all the key themes discussed in the review in a list\"\n",
        "        },\n",
        "        \"summary\":{\n",
        "            \"type\":\"string\",\n",
        "            \"description\":\"A brief summary of the review\"\n",
        "        },\n",
        "        \"sentiment\":{\n",
        "            \"type\":\"string\",\n",
        "            \"enum\":[\"positive\",\"negative\",\"neutral\"],\n",
        "            \"description\":\"return sentiment of the review\"\n",
        "        },\n",
        "        \"pros\":{\n",
        "            \"type\":[\"array\",\"null\"],\n",
        "            \"items\":{ \"type\":\"string\"},\n",
        "            \"description\":\"write down all the pros inside a list\"\n",
        "        },\n",
        "        \"cons\":{\n",
        "            \"type\":[\"array\",\"null\"],\n",
        "            \"items\":{ \"type\":\"string\"},\n",
        "            \"description\":\"write down all the cons inside a list\"\n",
        "        },\n",
        "        \"name\":{\n",
        "            \"type\":[\"string\",\"null\"],\n",
        "            \"description\":\"write down the reviewer name if available in review\"\n",
        "        }\n",
        "\n",
        "    },\n",
        "    \"required\":[\"summary\",\"pros\",\"cons\",\"sentiment\",\"key_themes\"]\n",
        "}"
      ],
      "metadata": {
        "colab": {
          "base_uri": "https://localhost:8080/"
        },
        "id": "XO7GYXKQtq0Q",
        "outputId": "c3eef8c6-b507-451e-ecd7-5fb4f488183a"
      },
      "execution_count": 62,
      "outputs": [
        {
          "output_type": "stream",
          "name": "stdout",
          "text": [
            "Overwriting json_schema.json\n"
          ]
        }
      ]
    },
    {
      "cell_type": "markdown",
      "source": [
        "## json_schema with_structure_output"
      ],
      "metadata": {
        "id": "d4_9Z71PwBeP"
      }
    },
    {
      "cell_type": "code",
      "source": [
        "from langchain_groq import ChatGroq\n",
        "from google.colab import userdata\n",
        "from langchain_core.messages import HumanMessage,SystemMessage\n",
        "from langchain.prompts import PromptTemplate\n",
        "from pydantic import BaseModel,Field\n",
        "from typing import Optional,Literal\n",
        "\n",
        "\n",
        "API_KEY = userdata.get(\"GROQ_API_KEY\")\n",
        "\n",
        "chat = ChatGroq(model_name='llama-3.3-70b-versatile',api_key=API_KEY,temperature=0.5)\n",
        "\n",
        "## create schema\n",
        "\n",
        "json_schema = {\n",
        "    \"title\":\"Review\",\n",
        "    \"description\":\"schema about product review\",\n",
        "    \"type\":\"object\",\n",
        "    \"properties\":{\n",
        "        \"key_themes\":{\n",
        "            \"type\":[\"array\",\"null\"],\n",
        "            \"items\":{ \"type\":\"string\"},\n",
        "            \"description\":\"write down all the key themes discussed in the review in a list\"\n",
        "        },\n",
        "        \"summary\":{\n",
        "            \"type\":\"string\",\n",
        "            \"description\":\"A brief summary of the review\"\n",
        "        },\n",
        "        \"sentiment\":{\n",
        "            \"type\":\"string\",\n",
        "            \"enum\":[\"positive\",\"negative\",\"neutral\"],\n",
        "            \"description\":\"return sentiment of the review\"\n",
        "        },\n",
        "        \"pros\":{\n",
        "            \"type\":[\"array\",\"null\"],\n",
        "            \"items\":{ \"type\":\"string\"},\n",
        "            \"description\":\"write down all the pros inside a list\"\n",
        "        },\n",
        "        \"cons\":{\n",
        "            \"type\":[\"array\",\"null\"],\n",
        "            \"items\":{ \"type\":\"string\"},\n",
        "            \"description\":\"write down all the cons inside a list\"\n",
        "        },\n",
        "        \"name\":{\n",
        "            \"type\":[\"string\",\"null\"],\n",
        "            \"description\":\"write down the reviewer name if available in review\"\n",
        "        }\n",
        "\n",
        "    },\n",
        "    \"required\":[\"summary\",\"sentiment\",\"key_themes\"]\n",
        "}\n",
        "\n",
        "## create schema\n",
        "structured_model = chat.with_structured_output(json_schema)\n",
        "\n",
        "result = structured_model.invoke(\"\"\"Product was good, the front camera is only 16mp,\n",
        "              they can give that a 32mp instead of 16mp,\n",
        "              that is the only drawback i found on this device,\n",
        "              overall performance is good, design is amazing,\n",
        "              gives a very good in hand feel, charging is amazingly fast,\n",
        "              gaming is excellent, fingerprint reader is fast, camera is good,\n",
        "              i loved the video stabilisation and the 8k 30fps video resolution,\n",
        "              and the size of the phone is comparatively slight\n",
        "              bigger but thats not a problem,\n",
        "              and the durability is also good,\n",
        "              but the company needed to give the ip69 rating,\n",
        "              overall good device and the fastest of all\"\"\")\n",
        "\n",
        "## complex review\n",
        "result2 = structured_model.invoke(\"\"\"iPhone level but up there, really good video zoom just use pro mode if you want to pull out the most details keep it around 500 ISO AND EVERYTHING AUTO, video in night auto mode is good but it does have some grains in it. Battery life if good if you play bgmi, you will probably get 6 hours I play with smooth 90fps and 4x anti aliasing and don't use frame interpolation there is slight delay in gyro but does make it smoother but not recommended. Battery is good few games and camera ussage will probably get you 6+ hours and light usage will get 8 hours +. Charging takes 35 min to full charge. I haven't updated my phone since July, if you're in July patch then don't update that's the best update I've had and tested for performance and camera quality and would not recommend updating your phone as all other companies it might slow down if you want to update then look it up first then decide if you want update the software but wouldn't recommend only if the banking or other apps need the latest firmware the you need to update or you can go to the service centre and ask them to downgrade.\n",
        "\n",
        "Pros\n",
        "* Good camera for the price could be bit better in video.\n",
        "* One of the best gaming phones does heat up but in a controlled way and cools down pretty fast.\n",
        "* Really Fast charging speed ( does heat a bit nothing to bother or just open settings - battery - charging and disable fast charging it will slightly slow down charging speed but it will decrease phone's surface temp ).\n",
        "* Good display very bright overall really good\n",
        "screen.\n",
        "* Very good after sale service ( disclaimer had experience with previous phone iqoo Neo 6 regarding screen replacement bit pricey but really good experience and very fast.\n",
        "\n",
        "Cons\n",
        "* Mediocre Selfie camera my old IQoo Neo 6 had better selfie's than this paid 55k for a phone and no 4k Selfie video front is the biggest downside of this phone.\n",
        "* UI is good very reliable but not as good as other Android Skins ( Just updated to android 15 did make a way better and smoother but could be better).\n",
        "* And audio transmitter has kinda bad the output is not upto to the mark with bluetooh specifically had same problem with my Neo 6 my poco f1 had really good audio Dec on board than this two new phones.\n",
        "\n",
        "Review by Raj Singh.\n",
        "\"\"\")\n",
        "\n",
        "\n",
        "## pydantic object\n",
        "print(result)\n",
        "print(result2)"
      ],
      "metadata": {
        "colab": {
          "base_uri": "https://localhost:8080/"
        },
        "id": "FyAhIRSGuUlt",
        "outputId": "44d92c4f-757b-49ed-bfad-ea925ffeb99b"
      },
      "execution_count": 65,
      "outputs": [
        {
          "output_type": "stream",
          "name": "stdout",
          "text": [
            "{'summary': 'The product is good with excellent performance, design, and features like fast charging, good camera, and video stabilization, but has some drawbacks like a 16mp front camera and no ip69 rating', 'sentiment': 'positive', 'key_themes': ['performance', 'design', 'camera', 'charging', 'gaming', 'durability'], 'pros': ['good performance', 'amazing design', 'fast charging', 'good camera', 'excellent gaming', 'fast fingerprint reader'], 'cons': ['16mp front camera instead of 32mp', 'no ip69 rating'], 'name': None}\n",
            "{'name': 'Raj Singh', 'summary': 'The phone has a good camera, excellent gaming performance, and fast charging, but has some drawbacks such as a mediocre selfie camera and average audio quality', 'sentiment': 'positive', 'key_themes': ['camera quality', 'gaming performance', 'fast charging', 'selfie camera', 'audio quality'], 'pros': ['Good camera for the price', 'One of the best gaming phones', 'Really Fast charging speed', 'Good display', 'Very good after sale service'], 'cons': ['Mediocre Selfie camera', 'UI is good but not as good as other Android Skins', 'Audio transmitter has kinda bad output']}\n"
          ]
        }
      ]
    },
    {
      "cell_type": "markdown",
      "source": [
        "## When to use what ?\n",
        "\n",
        "## ✅Use TypeDict if:\n",
        "- you only need type hints (basic structure inforcement)\n",
        "- you don't need validation\n",
        "- you trust the LLM return correct data.\n",
        "\n",
        "## ✅ Use Pydantic If:\n",
        "- You need data validation (eg. sentiment must be \"positive\", \"negative\" or \"neutral\")\n",
        "- you need default values if the LLM missed fields\n",
        "- you want automatic type conversion (eg. \"100\" - 100)\n",
        "\n",
        "## ✅ Use JSON Schema If:\n",
        "- You don't want to import extra Python Libraries\n",
        "- You need validation but don't need python objects.\n",
        "- you want to define structure in a standard JSON format."
      ],
      "metadata": {
        "id": "du86TKmFxBYE"
      }
    },
    {
      "cell_type": "markdown",
      "source": [
        "# Output Parsers\n",
        "\n",
        "## Output Parsers in LangChain help convert raw LLM responses into structure formats like JSON, CSV, Pydantic Models, and more. They ensure consistency, validation, and ease of use in application.\n",
        "\n",
        "### Examples\n",
        "\n",
        "- StrOutputParser\n",
        "- JsonOutputParser\n",
        "- PydanticOutputParser\n",
        "- StructuredOutputParser"
      ],
      "metadata": {
        "id": "-txHMb14zwHv"
      }
    },
    {
      "cell_type": "markdown",
      "source": [
        "## StrOutputParser\n",
        "\n",
        "### The StrOutputParser is the simplest output parser in LangChain. It is used to parse the output of a Language Model (LLM) and return it as a plain string."
      ],
      "metadata": {
        "id": "AOcZUEEc1qhI"
      }
    },
    {
      "cell_type": "code",
      "source": [
        "!pip install langchain-huggingface"
      ],
      "metadata": {
        "colab": {
          "base_uri": "https://localhost:8080/"
        },
        "collapsed": true,
        "id": "IMERk65bwyWu",
        "outputId": "eaa43806-2fd8-4b69-a438-d7428f29f219"
      },
      "execution_count": 66,
      "outputs": [
        {
          "output_type": "stream",
          "name": "stdout",
          "text": [
            "Collecting langchain-huggingface\n",
            "  Downloading langchain_huggingface-0.1.2-py3-none-any.whl.metadata (1.3 kB)\n",
            "Requirement already satisfied: huggingface-hub>=0.23.0 in /usr/local/lib/python3.11/dist-packages (from langchain-huggingface) (0.29.3)\n",
            "Requirement already satisfied: langchain-core<0.4.0,>=0.3.15 in /usr/local/lib/python3.11/dist-packages (from langchain-huggingface) (0.3.47)\n",
            "Requirement already satisfied: sentence-transformers>=2.6.0 in /usr/local/lib/python3.11/dist-packages (from langchain-huggingface) (3.4.1)\n",
            "Requirement already satisfied: tokenizers>=0.19.1 in /usr/local/lib/python3.11/dist-packages (from langchain-huggingface) (0.21.1)\n",
            "Requirement already satisfied: transformers>=4.39.0 in /usr/local/lib/python3.11/dist-packages (from langchain-huggingface) (4.49.0)\n",
            "Requirement already satisfied: filelock in /usr/local/lib/python3.11/dist-packages (from huggingface-hub>=0.23.0->langchain-huggingface) (3.18.0)\n",
            "Requirement already satisfied: fsspec>=2023.5.0 in /usr/local/lib/python3.11/dist-packages (from huggingface-hub>=0.23.0->langchain-huggingface) (2025.3.0)\n",
            "Requirement already satisfied: packaging>=20.9 in /usr/local/lib/python3.11/dist-packages (from huggingface-hub>=0.23.0->langchain-huggingface) (24.2)\n",
            "Requirement already satisfied: pyyaml>=5.1 in /usr/local/lib/python3.11/dist-packages (from huggingface-hub>=0.23.0->langchain-huggingface) (6.0.2)\n",
            "Requirement already satisfied: requests in /usr/local/lib/python3.11/dist-packages (from huggingface-hub>=0.23.0->langchain-huggingface) (2.32.3)\n",
            "Requirement already satisfied: tqdm>=4.42.1 in /usr/local/lib/python3.11/dist-packages (from huggingface-hub>=0.23.0->langchain-huggingface) (4.67.1)\n",
            "Requirement already satisfied: typing-extensions>=3.7.4.3 in /usr/local/lib/python3.11/dist-packages (from huggingface-hub>=0.23.0->langchain-huggingface) (4.12.2)\n",
            "Requirement already satisfied: langsmith<0.4,>=0.1.125 in /usr/local/lib/python3.11/dist-packages (from langchain-core<0.4.0,>=0.3.15->langchain-huggingface) (0.3.15)\n",
            "Requirement already satisfied: tenacity!=8.4.0,<10.0.0,>=8.1.0 in /usr/local/lib/python3.11/dist-packages (from langchain-core<0.4.0,>=0.3.15->langchain-huggingface) (9.0.0)\n",
            "Requirement already satisfied: jsonpatch<2.0,>=1.33 in /usr/local/lib/python3.11/dist-packages (from langchain-core<0.4.0,>=0.3.15->langchain-huggingface) (1.33)\n",
            "Requirement already satisfied: pydantic<3.0.0,>=2.5.2 in /usr/local/lib/python3.11/dist-packages (from langchain-core<0.4.0,>=0.3.15->langchain-huggingface) (2.10.6)\n",
            "Requirement already satisfied: torch>=1.11.0 in /usr/local/lib/python3.11/dist-packages (from sentence-transformers>=2.6.0->langchain-huggingface) (2.6.0+cu124)\n",
            "Requirement already satisfied: scikit-learn in /usr/local/lib/python3.11/dist-packages (from sentence-transformers>=2.6.0->langchain-huggingface) (1.6.1)\n",
            "Requirement already satisfied: scipy in /usr/local/lib/python3.11/dist-packages (from sentence-transformers>=2.6.0->langchain-huggingface) (1.14.1)\n",
            "Requirement already satisfied: Pillow in /usr/local/lib/python3.11/dist-packages (from sentence-transformers>=2.6.0->langchain-huggingface) (11.1.0)\n",
            "Requirement already satisfied: numpy>=1.17 in /usr/local/lib/python3.11/dist-packages (from transformers>=4.39.0->langchain-huggingface) (2.0.2)\n",
            "Requirement already satisfied: regex!=2019.12.17 in /usr/local/lib/python3.11/dist-packages (from transformers>=4.39.0->langchain-huggingface) (2024.11.6)\n",
            "Requirement already satisfied: safetensors>=0.4.1 in /usr/local/lib/python3.11/dist-packages (from transformers>=4.39.0->langchain-huggingface) (0.5.3)\n",
            "Requirement already satisfied: jsonpointer>=1.9 in /usr/local/lib/python3.11/dist-packages (from jsonpatch<2.0,>=1.33->langchain-core<0.4.0,>=0.3.15->langchain-huggingface) (3.0.0)\n",
            "Requirement already satisfied: httpx<1,>=0.23.0 in /usr/local/lib/python3.11/dist-packages (from langsmith<0.4,>=0.1.125->langchain-core<0.4.0,>=0.3.15->langchain-huggingface) (0.28.1)\n",
            "Requirement already satisfied: orjson<4.0.0,>=3.9.14 in /usr/local/lib/python3.11/dist-packages (from langsmith<0.4,>=0.1.125->langchain-core<0.4.0,>=0.3.15->langchain-huggingface) (3.10.15)\n",
            "Requirement already satisfied: requests-toolbelt<2.0.0,>=1.0.0 in /usr/local/lib/python3.11/dist-packages (from langsmith<0.4,>=0.1.125->langchain-core<0.4.0,>=0.3.15->langchain-huggingface) (1.0.0)\n",
            "Requirement already satisfied: zstandard<0.24.0,>=0.23.0 in /usr/local/lib/python3.11/dist-packages (from langsmith<0.4,>=0.1.125->langchain-core<0.4.0,>=0.3.15->langchain-huggingface) (0.23.0)\n",
            "Requirement already satisfied: annotated-types>=0.6.0 in /usr/local/lib/python3.11/dist-packages (from pydantic<3.0.0,>=2.5.2->langchain-core<0.4.0,>=0.3.15->langchain-huggingface) (0.7.0)\n",
            "Requirement already satisfied: pydantic-core==2.27.2 in /usr/local/lib/python3.11/dist-packages (from pydantic<3.0.0,>=2.5.2->langchain-core<0.4.0,>=0.3.15->langchain-huggingface) (2.27.2)\n",
            "Requirement already satisfied: charset-normalizer<4,>=2 in /usr/local/lib/python3.11/dist-packages (from requests->huggingface-hub>=0.23.0->langchain-huggingface) (3.4.1)\n",
            "Requirement already satisfied: idna<4,>=2.5 in /usr/local/lib/python3.11/dist-packages (from requests->huggingface-hub>=0.23.0->langchain-huggingface) (3.10)\n",
            "Requirement already satisfied: urllib3<3,>=1.21.1 in /usr/local/lib/python3.11/dist-packages (from requests->huggingface-hub>=0.23.0->langchain-huggingface) (2.3.0)\n",
            "Requirement already satisfied: certifi>=2017.4.17 in /usr/local/lib/python3.11/dist-packages (from requests->huggingface-hub>=0.23.0->langchain-huggingface) (2025.1.31)\n",
            "Requirement already satisfied: networkx in /usr/local/lib/python3.11/dist-packages (from torch>=1.11.0->sentence-transformers>=2.6.0->langchain-huggingface) (3.4.2)\n",
            "Requirement already satisfied: jinja2 in /usr/local/lib/python3.11/dist-packages (from torch>=1.11.0->sentence-transformers>=2.6.0->langchain-huggingface) (3.1.6)\n",
            "Collecting nvidia-cuda-nvrtc-cu12==12.4.127 (from torch>=1.11.0->sentence-transformers>=2.6.0->langchain-huggingface)\n",
            "  Downloading nvidia_cuda_nvrtc_cu12-12.4.127-py3-none-manylinux2014_x86_64.whl.metadata (1.5 kB)\n",
            "Collecting nvidia-cuda-runtime-cu12==12.4.127 (from torch>=1.11.0->sentence-transformers>=2.6.0->langchain-huggingface)\n",
            "  Downloading nvidia_cuda_runtime_cu12-12.4.127-py3-none-manylinux2014_x86_64.whl.metadata (1.5 kB)\n",
            "Collecting nvidia-cuda-cupti-cu12==12.4.127 (from torch>=1.11.0->sentence-transformers>=2.6.0->langchain-huggingface)\n",
            "  Downloading nvidia_cuda_cupti_cu12-12.4.127-py3-none-manylinux2014_x86_64.whl.metadata (1.6 kB)\n",
            "Collecting nvidia-cudnn-cu12==9.1.0.70 (from torch>=1.11.0->sentence-transformers>=2.6.0->langchain-huggingface)\n",
            "  Downloading nvidia_cudnn_cu12-9.1.0.70-py3-none-manylinux2014_x86_64.whl.metadata (1.6 kB)\n",
            "Collecting nvidia-cublas-cu12==12.4.5.8 (from torch>=1.11.0->sentence-transformers>=2.6.0->langchain-huggingface)\n",
            "  Downloading nvidia_cublas_cu12-12.4.5.8-py3-none-manylinux2014_x86_64.whl.metadata (1.5 kB)\n",
            "Collecting nvidia-cufft-cu12==11.2.1.3 (from torch>=1.11.0->sentence-transformers>=2.6.0->langchain-huggingface)\n",
            "  Downloading nvidia_cufft_cu12-11.2.1.3-py3-none-manylinux2014_x86_64.whl.metadata (1.5 kB)\n",
            "Collecting nvidia-curand-cu12==10.3.5.147 (from torch>=1.11.0->sentence-transformers>=2.6.0->langchain-huggingface)\n",
            "  Downloading nvidia_curand_cu12-10.3.5.147-py3-none-manylinux2014_x86_64.whl.metadata (1.5 kB)\n",
            "Collecting nvidia-cusolver-cu12==11.6.1.9 (from torch>=1.11.0->sentence-transformers>=2.6.0->langchain-huggingface)\n",
            "  Downloading nvidia_cusolver_cu12-11.6.1.9-py3-none-manylinux2014_x86_64.whl.metadata (1.6 kB)\n",
            "Collecting nvidia-cusparse-cu12==12.3.1.170 (from torch>=1.11.0->sentence-transformers>=2.6.0->langchain-huggingface)\n",
            "  Downloading nvidia_cusparse_cu12-12.3.1.170-py3-none-manylinux2014_x86_64.whl.metadata (1.6 kB)\n",
            "Requirement already satisfied: nvidia-cusparselt-cu12==0.6.2 in /usr/local/lib/python3.11/dist-packages (from torch>=1.11.0->sentence-transformers>=2.6.0->langchain-huggingface) (0.6.2)\n",
            "Requirement already satisfied: nvidia-nccl-cu12==2.21.5 in /usr/local/lib/python3.11/dist-packages (from torch>=1.11.0->sentence-transformers>=2.6.0->langchain-huggingface) (2.21.5)\n",
            "Requirement already satisfied: nvidia-nvtx-cu12==12.4.127 in /usr/local/lib/python3.11/dist-packages (from torch>=1.11.0->sentence-transformers>=2.6.0->langchain-huggingface) (12.4.127)\n",
            "Collecting nvidia-nvjitlink-cu12==12.4.127 (from torch>=1.11.0->sentence-transformers>=2.6.0->langchain-huggingface)\n",
            "  Downloading nvidia_nvjitlink_cu12-12.4.127-py3-none-manylinux2014_x86_64.whl.metadata (1.5 kB)\n",
            "Requirement already satisfied: triton==3.2.0 in /usr/local/lib/python3.11/dist-packages (from torch>=1.11.0->sentence-transformers>=2.6.0->langchain-huggingface) (3.2.0)\n",
            "Requirement already satisfied: sympy==1.13.1 in /usr/local/lib/python3.11/dist-packages (from torch>=1.11.0->sentence-transformers>=2.6.0->langchain-huggingface) (1.13.1)\n",
            "Requirement already satisfied: mpmath<1.4,>=1.1.0 in /usr/local/lib/python3.11/dist-packages (from sympy==1.13.1->torch>=1.11.0->sentence-transformers>=2.6.0->langchain-huggingface) (1.3.0)\n",
            "Requirement already satisfied: joblib>=1.2.0 in /usr/local/lib/python3.11/dist-packages (from scikit-learn->sentence-transformers>=2.6.0->langchain-huggingface) (1.4.2)\n",
            "Requirement already satisfied: threadpoolctl>=3.1.0 in /usr/local/lib/python3.11/dist-packages (from scikit-learn->sentence-transformers>=2.6.0->langchain-huggingface) (3.6.0)\n",
            "Requirement already satisfied: anyio in /usr/local/lib/python3.11/dist-packages (from httpx<1,>=0.23.0->langsmith<0.4,>=0.1.125->langchain-core<0.4.0,>=0.3.15->langchain-huggingface) (4.9.0)\n",
            "Requirement already satisfied: httpcore==1.* in /usr/local/lib/python3.11/dist-packages (from httpx<1,>=0.23.0->langsmith<0.4,>=0.1.125->langchain-core<0.4.0,>=0.3.15->langchain-huggingface) (1.0.7)\n",
            "Requirement already satisfied: h11<0.15,>=0.13 in /usr/local/lib/python3.11/dist-packages (from httpcore==1.*->httpx<1,>=0.23.0->langsmith<0.4,>=0.1.125->langchain-core<0.4.0,>=0.3.15->langchain-huggingface) (0.14.0)\n",
            "Requirement already satisfied: MarkupSafe>=2.0 in /usr/local/lib/python3.11/dist-packages (from jinja2->torch>=1.11.0->sentence-transformers>=2.6.0->langchain-huggingface) (3.0.2)\n",
            "Requirement already satisfied: sniffio>=1.1 in /usr/local/lib/python3.11/dist-packages (from anyio->httpx<1,>=0.23.0->langsmith<0.4,>=0.1.125->langchain-core<0.4.0,>=0.3.15->langchain-huggingface) (1.3.1)\n",
            "Downloading langchain_huggingface-0.1.2-py3-none-any.whl (21 kB)\n",
            "Downloading nvidia_cublas_cu12-12.4.5.8-py3-none-manylinux2014_x86_64.whl (363.4 MB)\n",
            "\u001b[2K   \u001b[90m━━━━━━━━━━━━━━━━━━━━━━━━━━━━━━━━━━━━━━━━\u001b[0m \u001b[32m363.4/363.4 MB\u001b[0m \u001b[31m1.0 MB/s\u001b[0m eta \u001b[36m0:00:00\u001b[0m\n",
            "\u001b[?25hDownloading nvidia_cuda_cupti_cu12-12.4.127-py3-none-manylinux2014_x86_64.whl (13.8 MB)\n",
            "\u001b[2K   \u001b[90m━━━━━━━━━━━━━━━━━━━━━━━━━━━━━━━━━━━━━━━━\u001b[0m \u001b[32m13.8/13.8 MB\u001b[0m \u001b[31m94.4 MB/s\u001b[0m eta \u001b[36m0:00:00\u001b[0m\n",
            "\u001b[?25hDownloading nvidia_cuda_nvrtc_cu12-12.4.127-py3-none-manylinux2014_x86_64.whl (24.6 MB)\n",
            "\u001b[2K   \u001b[90m━━━━━━━━━━━━━━━━━━━━━━━━━━━━━━━━━━━━━━━━\u001b[0m \u001b[32m24.6/24.6 MB\u001b[0m \u001b[31m75.1 MB/s\u001b[0m eta \u001b[36m0:00:00\u001b[0m\n",
            "\u001b[?25hDownloading nvidia_cuda_runtime_cu12-12.4.127-py3-none-manylinux2014_x86_64.whl (883 kB)\n",
            "\u001b[2K   \u001b[90m━━━━━━━━━━━━━━━━━━━━━━━━━━━━━━━━━━━━━━━━\u001b[0m \u001b[32m883.7/883.7 kB\u001b[0m \u001b[31m47.2 MB/s\u001b[0m eta \u001b[36m0:00:00\u001b[0m\n",
            "\u001b[?25hDownloading nvidia_cudnn_cu12-9.1.0.70-py3-none-manylinux2014_x86_64.whl (664.8 MB)\n",
            "\u001b[2K   \u001b[90m━━━━━━━━━━━━━━━━━━━━━━━━━━━━━━━━━━━━━━━━\u001b[0m \u001b[32m664.8/664.8 MB\u001b[0m \u001b[31m2.6 MB/s\u001b[0m eta \u001b[36m0:00:00\u001b[0m\n",
            "\u001b[?25hDownloading nvidia_cufft_cu12-11.2.1.3-py3-none-manylinux2014_x86_64.whl (211.5 MB)\n",
            "\u001b[2K   \u001b[90m━━━━━━━━━━━━━━━━━━━━━━━━━━━━━━━━━━━━━━━━\u001b[0m \u001b[32m211.5/211.5 MB\u001b[0m \u001b[31m5.9 MB/s\u001b[0m eta \u001b[36m0:00:00\u001b[0m\n",
            "\u001b[?25hDownloading nvidia_curand_cu12-10.3.5.147-py3-none-manylinux2014_x86_64.whl (56.3 MB)\n",
            "\u001b[2K   \u001b[90m━━━━━━━━━━━━━━━━━━━━━━━━━━━━━━━━━━━━━━━━\u001b[0m \u001b[32m56.3/56.3 MB\u001b[0m \u001b[31m11.7 MB/s\u001b[0m eta \u001b[36m0:00:00\u001b[0m\n",
            "\u001b[?25hDownloading nvidia_cusolver_cu12-11.6.1.9-py3-none-manylinux2014_x86_64.whl (127.9 MB)\n",
            "\u001b[2K   \u001b[90m━━━━━━━━━━━━━━━━━━━━━━━━━━━━━━━━━━━━━━━━\u001b[0m \u001b[32m127.9/127.9 MB\u001b[0m \u001b[31m8.0 MB/s\u001b[0m eta \u001b[36m0:00:00\u001b[0m\n",
            "\u001b[?25hDownloading nvidia_cusparse_cu12-12.3.1.170-py3-none-manylinux2014_x86_64.whl (207.5 MB)\n",
            "\u001b[2K   \u001b[90m━━━━━━━━━━━━━━━━━━━━━━━━━━━━━━━━━━━━━━━━\u001b[0m \u001b[32m207.5/207.5 MB\u001b[0m \u001b[31m6.3 MB/s\u001b[0m eta \u001b[36m0:00:00\u001b[0m\n",
            "\u001b[?25hDownloading nvidia_nvjitlink_cu12-12.4.127-py3-none-manylinux2014_x86_64.whl (21.1 MB)\n",
            "\u001b[2K   \u001b[90m━━━━━━━━━━━━━━━━━━━━━━━━━━━━━━━━━━━━━━━━\u001b[0m \u001b[32m21.1/21.1 MB\u001b[0m \u001b[31m83.0 MB/s\u001b[0m eta \u001b[36m0:00:00\u001b[0m\n",
            "\u001b[?25hInstalling collected packages: nvidia-nvjitlink-cu12, nvidia-curand-cu12, nvidia-cufft-cu12, nvidia-cuda-runtime-cu12, nvidia-cuda-nvrtc-cu12, nvidia-cuda-cupti-cu12, nvidia-cublas-cu12, nvidia-cusparse-cu12, nvidia-cudnn-cu12, nvidia-cusolver-cu12, langchain-huggingface\n",
            "  Attempting uninstall: nvidia-nvjitlink-cu12\n",
            "    Found existing installation: nvidia-nvjitlink-cu12 12.5.82\n",
            "    Uninstalling nvidia-nvjitlink-cu12-12.5.82:\n",
            "      Successfully uninstalled nvidia-nvjitlink-cu12-12.5.82\n",
            "  Attempting uninstall: nvidia-curand-cu12\n",
            "    Found existing installation: nvidia-curand-cu12 10.3.6.82\n",
            "    Uninstalling nvidia-curand-cu12-10.3.6.82:\n",
            "      Successfully uninstalled nvidia-curand-cu12-10.3.6.82\n",
            "  Attempting uninstall: nvidia-cufft-cu12\n",
            "    Found existing installation: nvidia-cufft-cu12 11.2.3.61\n",
            "    Uninstalling nvidia-cufft-cu12-11.2.3.61:\n",
            "      Successfully uninstalled nvidia-cufft-cu12-11.2.3.61\n",
            "  Attempting uninstall: nvidia-cuda-runtime-cu12\n",
            "    Found existing installation: nvidia-cuda-runtime-cu12 12.5.82\n",
            "    Uninstalling nvidia-cuda-runtime-cu12-12.5.82:\n",
            "      Successfully uninstalled nvidia-cuda-runtime-cu12-12.5.82\n",
            "  Attempting uninstall: nvidia-cuda-nvrtc-cu12\n",
            "    Found existing installation: nvidia-cuda-nvrtc-cu12 12.5.82\n",
            "    Uninstalling nvidia-cuda-nvrtc-cu12-12.5.82:\n",
            "      Successfully uninstalled nvidia-cuda-nvrtc-cu12-12.5.82\n",
            "  Attempting uninstall: nvidia-cuda-cupti-cu12\n",
            "    Found existing installation: nvidia-cuda-cupti-cu12 12.5.82\n",
            "    Uninstalling nvidia-cuda-cupti-cu12-12.5.82:\n",
            "      Successfully uninstalled nvidia-cuda-cupti-cu12-12.5.82\n",
            "  Attempting uninstall: nvidia-cublas-cu12\n",
            "    Found existing installation: nvidia-cublas-cu12 12.5.3.2\n",
            "    Uninstalling nvidia-cublas-cu12-12.5.3.2:\n",
            "      Successfully uninstalled nvidia-cublas-cu12-12.5.3.2\n",
            "  Attempting uninstall: nvidia-cusparse-cu12\n",
            "    Found existing installation: nvidia-cusparse-cu12 12.5.1.3\n",
            "    Uninstalling nvidia-cusparse-cu12-12.5.1.3:\n",
            "      Successfully uninstalled nvidia-cusparse-cu12-12.5.1.3\n",
            "  Attempting uninstall: nvidia-cudnn-cu12\n",
            "    Found existing installation: nvidia-cudnn-cu12 9.3.0.75\n",
            "    Uninstalling nvidia-cudnn-cu12-9.3.0.75:\n",
            "      Successfully uninstalled nvidia-cudnn-cu12-9.3.0.75\n",
            "  Attempting uninstall: nvidia-cusolver-cu12\n",
            "    Found existing installation: nvidia-cusolver-cu12 11.6.3.83\n",
            "    Uninstalling nvidia-cusolver-cu12-11.6.3.83:\n",
            "      Successfully uninstalled nvidia-cusolver-cu12-11.6.3.83\n",
            "Successfully installed langchain-huggingface-0.1.2 nvidia-cublas-cu12-12.4.5.8 nvidia-cuda-cupti-cu12-12.4.127 nvidia-cuda-nvrtc-cu12-12.4.127 nvidia-cuda-runtime-cu12-12.4.127 nvidia-cudnn-cu12-9.1.0.70 nvidia-cufft-cu12-11.2.1.3 nvidia-curand-cu12-10.3.5.147 nvidia-cusolver-cu12-11.6.1.9 nvidia-cusparse-cu12-12.3.1.170 nvidia-nvjitlink-cu12-12.4.127\n"
          ]
        }
      ]
    },
    {
      "cell_type": "code",
      "source": [
        "!huggingface-cli login"
      ],
      "metadata": {
        "colab": {
          "base_uri": "https://localhost:8080/"
        },
        "id": "afg8B9B039A_",
        "outputId": "b6990549-671d-4831-ee08-8c922760148f"
      },
      "execution_count": 71,
      "outputs": [
        {
          "output_type": "stream",
          "name": "stdout",
          "text": [
            "\n",
            "    _|    _|  _|    _|    _|_|_|    _|_|_|  _|_|_|  _|      _|    _|_|_|      _|_|_|_|    _|_|      _|_|_|  _|_|_|_|\n",
            "    _|    _|  _|    _|  _|        _|          _|    _|_|    _|  _|            _|        _|    _|  _|        _|\n",
            "    _|_|_|_|  _|    _|  _|  _|_|  _|  _|_|    _|    _|  _|  _|  _|  _|_|      _|_|_|    _|_|_|_|  _|        _|_|_|\n",
            "    _|    _|  _|    _|  _|    _|  _|    _|    _|    _|    _|_|  _|    _|      _|        _|    _|  _|        _|\n",
            "    _|    _|    _|_|      _|_|_|    _|_|_|  _|_|_|  _|      _|    _|_|_|      _|        _|    _|    _|_|_|  _|_|_|_|\n",
            "\n",
            "    To log in, `huggingface_hub` requires a token generated from https://huggingface.co/settings/tokens .\n",
            "Enter your token (input will not be visible): \n",
            "Add token as git credential? (Y/n) n\n",
            "Token is valid (permission: read).\n",
            "The token `testlllm` has been saved to /root/.cache/huggingface/stored_tokens\n",
            "Your token has been saved to /root/.cache/huggingface/token\n",
            "Login successful.\n",
            "The current active token is: `testlllm`\n"
          ]
        }
      ]
    },
    {
      "cell_type": "code",
      "source": [
        "from langchain_groq import ChatGroq\n",
        "from google.colab import userdata\n",
        "from langchain_core.prompts import PromptTemplate\n",
        "\n",
        "API_KEY = userdata.get(\"GROQ_API_KEY\")\n",
        "\n",
        "model = ChatGroq(model_name='llama-3.3-70b-versatile',api_key=API_KEY,temperature=0.5)\n",
        "\n",
        "template1 = PromptTemplate(\n",
        "    template= \"write a detailed report on {topic}\",\n",
        "    input_variable=['topic']\n",
        ")\n",
        "\n",
        "template2 = PromptTemplate(\n",
        "    template=\"write a 5 line summary on the following text. /n report on {text}\",\n",
        "    input_variable=['text']\n",
        ")\n",
        "\n",
        "## lengthy approach\n",
        "prompt1 = template1.invoke({'topic':'black hole'})\n",
        "result = model.invoke(prompt1)\n",
        "prompt2 = template2.invoke({\"text\":result.content})\n",
        "result1 = model.invoke(prompt2)\n",
        "print(result1.content)"
      ],
      "metadata": {
        "colab": {
          "base_uri": "https://localhost:8080/"
        },
        "id": "u9nIr0fw0Uiz",
        "outputId": "0b434eb2-4101-4e5e-a0e4-845ae462e3e0"
      },
      "execution_count": 77,
      "outputs": [
        {
          "output_type": "stream",
          "name": "stdout",
          "text": [
            "Here is a 5-line summary of the text:\n",
            "A black hole is a region in space with an incredibly strong gravitational pull that warps spacetime and prevents anything, including light, from escaping. Black holes are formed when a massive star collapses in on itself, creating a singularity with infinite density and zero volume. There are four types of black holes, each with different properties and formation mechanisms, including stellar, supermassive, intermediate-mass, and primordial black holes. The properties of black holes include event horizons, singularities, gravitational pull, accretion disks, and Hawking radiation. The study of black holes is an ongoing area of research, with many challenges and open questions remaining, including the information paradox and the nature of singularities.\n"
          ]
        }
      ]
    },
    {
      "cell_type": "markdown",
      "source": [
        "## Replace with StrOutputParser"
      ],
      "metadata": {
        "id": "tHBkyQqZ6y-0"
      }
    },
    {
      "cell_type": "code",
      "source": [
        "from langchain_groq import ChatGroq\n",
        "from google.colab import userdata\n",
        "from langchain_core.prompts import PromptTemplate\n",
        "from langchain_core.output_parsers import StrOutputParser\n",
        "\n",
        "\n",
        "API_KEY = userdata.get(\"GROQ_API_KEY\")\n",
        "\n",
        "model = ChatGroq(model_name='llama-3.3-70b-versatile',api_key=API_KEY,temperature=0.5)\n",
        "\n",
        "template1 = PromptTemplate(\n",
        "    template= \"write a detailed report on {topic}\",\n",
        "    input_variable=['topic']\n",
        ")\n",
        "\n",
        "template2 = PromptTemplate(\n",
        "    template=\"write a 5 line summary on the following text. /n report on {text}\",\n",
        "    input_variable=['text']\n",
        ")\n",
        "\n",
        "## Replace with StrOutputParser\n",
        "parser = StrOutputParser()\n",
        "\n",
        "chain = template1 | model | parser | template2 | model | parser\n",
        "\n",
        "result = chain.invoke({'topic':'black hole'})\n",
        "print(result)"
      ],
      "metadata": {
        "colab": {
          "base_uri": "https://localhost:8080/"
        },
        "id": "0IzIC0fw8LDn",
        "outputId": "c6935b54-cc50-4917-80ee-63d79f5009d1"
      },
      "execution_count": 79,
      "outputs": [
        {
          "output_type": "stream",
          "name": "stdout",
          "text": [
            "Here is a 5-line summary of the text:\n",
            "A black hole is a region in space with an incredibly strong gravitational pull that warps spacetime. \n",
            "Black holes are formed when massive stars collapse in on themselves, creating a singularity with infinite density and zero volume. \n",
            "They have unique properties, including an event horizon and ergosphere, and can emit Hawking radiation. \n",
            "There are four types of black holes, ranging from small stellar black holes to supermassive black holes found at galaxy centers. \n",
            "Despite significant research, many questions about black holes remain, including the information paradox and the nature of singularities, making them a continued area of study and fascination.\n"
          ]
        }
      ]
    },
    {
      "cell_type": "markdown",
      "source": [
        "## JsonOutputParser"
      ],
      "metadata": {
        "id": "_mfLZpgJ78z-"
      }
    },
    {
      "cell_type": "code",
      "source": [
        "from langchain_groq import ChatGroq\n",
        "from google.colab import userdata\n",
        "from langchain_core.prompts import PromptTemplate\n",
        "from langchain_core.output_parsers import JsonOutputParser\n",
        "\n",
        "\n",
        "API_KEY = userdata.get(\"GROQ_API_KEY\")\n",
        "\n",
        "model = ChatGroq(model_name='llama-3.3-70b-versatile',api_key=API_KEY,temperature=0.5)\n",
        "\n",
        "parser = JsonOutputParser()\n",
        "\n",
        "template = PromptTemplate(\n",
        "    template= \"Give me the name, age and the city of a fictional person \\n {format_instruction}\",\n",
        "    input_variables=[],\n",
        "    partial_variables = {'format_instruction':parser.get_format_instructions()}\n",
        ")\n",
        "\n",
        "\n",
        "chain = template | model | parser\n",
        "\n",
        "result = chain.invoke({})\n",
        "\n",
        "print(result)\n"
      ],
      "metadata": {
        "colab": {
          "base_uri": "https://localhost:8080/"
        },
        "id": "vuSzeUx-7kW9",
        "outputId": "987eccbc-9b94-4978-bf39-cfeca42edf03"
      },
      "execution_count": 99,
      "outputs": [
        {
          "output_type": "stream",
          "name": "stdout",
          "text": [
            "{'name': 'Emily Wilson', 'age': 32, 'city': 'New York'}\n"
          ]
        }
      ]
    },
    {
      "cell_type": "markdown",
      "source": [
        "## Flaw of JsonOutputParser\n",
        "- does not enforce schema"
      ],
      "metadata": {
        "id": "pi--fMu-DSye"
      }
    },
    {
      "cell_type": "markdown",
      "source": [
        "## StructuredOutputParser\n",
        "\n",
        "### **StructuredOutputParser** is an parser in LangChain that helps extract structured JSON data from LLM responses based on predefined field schemas.\n",
        "\n",
        "It works by defining a list of fields [ResponseSchema] that the model should return, ensuring the output follows a structure format."
      ],
      "metadata": {
        "id": "GzUpu4fuDjvZ"
      }
    },
    {
      "cell_type": "code",
      "source": [
        "from langchain_groq import ChatGroq\n",
        "from google.colab import userdata\n",
        "from langchain_core.prompts import PromptTemplate\n",
        "from langchain.output_parsers import StructuredOutputParser, ResponseSchema\n",
        "\n",
        "\n",
        "API_KEY = userdata.get(\"GROQ_API_KEY\")\n",
        "\n",
        "model = ChatGroq(model_name='llama-3.3-70b-versatile',api_key=API_KEY,temperature=0.5)\n",
        "\n",
        "\n",
        "## create schema\n",
        "\n",
        "schema = [\n",
        "    ResponseSchema(name=\"fact_1\",description=\"fact 1 about the topic\"),\n",
        "    ResponseSchema(name=\"fact_2\",description=\"fact 2 about the topic\"),\n",
        "    ResponseSchema(name=\"fact_3\",description=\"fact 3 about the topic\"),\n",
        "]\n",
        "\n",
        "parser = StructuredOutputParser.from_response_schemas(schema)\n",
        "\n",
        "\n",
        "template = PromptTemplate(\n",
        "    template= \"Give me 3 facts about the {topic} \\n {format_instruction}\",\n",
        "    input_variables=['topic'],\n",
        "    partial_variables = {'format_instruction':parser.get_format_instructions()}\n",
        ")\n",
        "\n",
        "\n",
        "chain = template | model | parser\n",
        "\n",
        "result = chain.invoke({'topic':'black hole'})\n",
        "\n",
        "print(result)\n"
      ],
      "metadata": {
        "colab": {
          "base_uri": "https://localhost:8080/"
        },
        "id": "87FQNpG79S5A",
        "outputId": "3b61d532-e28c-4169-aede-ac38584cb56c"
      },
      "execution_count": 103,
      "outputs": [
        {
          "output_type": "stream",
          "name": "stdout",
          "text": [
            "{'fact_1': 'Black holes are regions in space where the gravitational pull is so strong that nothing, including light, can escape.', 'fact_2': 'The point of no return, called the event horizon, marks the boundary of a black hole, and once something crosses it, it is inevitably pulled towards the singularity at the center.', 'fact_3': 'Black holes come in various sizes, ranging from small, stellar-mass black holes formed from the collapse of individual stars, to supermassive black holes found at the centers of galaxies, with masses millions or even billions of times that of the sun.'}\n"
          ]
        }
      ]
    },
    {
      "cell_type": "markdown",
      "source": [
        "## Drawbacks\n",
        "- Does not support DataValidation"
      ],
      "metadata": {
        "id": "fs0MPTRzF-AO"
      }
    },
    {
      "cell_type": "markdown",
      "source": [
        "## PydanticOutputParser\n",
        "\n",
        "### It is a structured output parser in LangChain that uses pydantic models to enforce schema when processing LLM responses."
      ],
      "metadata": {
        "id": "5Ul_fEaMGav9"
      }
    },
    {
      "cell_type": "code",
      "source": [
        "from langchain_groq import ChatGroq\n",
        "from google.colab import userdata\n",
        "from langchain_core.prompts import PromptTemplate\n",
        "from langchain_core.output_parsers import PydanticOutputParser\n",
        "from pydantic import BaseModel, Field\n",
        "\n",
        "\n",
        "API_KEY = userdata.get(\"GROQ_API_KEY\")\n",
        "\n",
        "model = ChatGroq(model_name='llama-3.3-70b-versatile',api_key=API_KEY,temperature=0.5)\n",
        "\n",
        "\n",
        "class Person(BaseModel):\n",
        "  name: str = Field(description='name of the perosn')\n",
        "  age : int = Field(gt=18, description='age of the person')\n",
        "  city : str = Field(description='name of the city the person belong to')\n",
        "\n",
        "parser = PydanticOutputParser(pydantic_object=Person)\n",
        "\n",
        "\n",
        "template = PromptTemplate(\n",
        "    template= \"Generate the name, age and city of a fictional {place} person \\n {format_instruction}\",\n",
        "    input_variables=['place'],\n",
        "    partial_variables = {'format_instruction':parser.get_format_instructions()}\n",
        ")\n",
        "\n",
        "\n",
        "chain = template | model | parser\n",
        "\n",
        "result = chain.invoke({'place':'indian'})\n",
        "\n",
        "print(result)\n"
      ],
      "metadata": {
        "colab": {
          "base_uri": "https://localhost:8080/"
        },
        "id": "ZXfWC1GMFZyB",
        "outputId": "d88c914e-5e04-453e-e294-4f2d6ad02af7"
      },
      "execution_count": 104,
      "outputs": [
        {
          "output_type": "stream",
          "name": "stdout",
          "text": [
            "name='Rohan Kumar' age=30 city='Mumbai'\n"
          ]
        }
      ]
    },
    {
      "cell_type": "markdown",
      "source": [
        "## Why use PydanticOutputParser ?\n",
        "- **Strict Schema Enforcement:** ensures that LLM responses a well defined structure.\n",
        "- **Type Safety :** automatically converts llm outputs into python objects.\n",
        "- **Easy Validation :** uses pydantic built-in validation to catch incorrect missing data.\n",
        "- **Seamless Integration :** works well with other LangChain components."
      ],
      "metadata": {
        "id": "tsb-WO-XGrQ2"
      }
    }
  ]
}